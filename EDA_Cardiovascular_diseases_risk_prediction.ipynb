{
  "cells": [
    {
      "cell_type": "markdown",
      "metadata": {
        "id": "view-in-github",
        "colab_type": "text"
      },
      "source": [
        "<a href=\"https://colab.research.google.com/github/OseiasBeu/Cardiovascular-diseases-risk-project/blob/main/EDA_Cardiovascular_diseases_risk_prediction.ipynb\" target=\"_parent\"><img src=\"https://colab.research.google.com/assets/colab-badge.svg\" alt=\"Open In Colab\"/></a>"
      ]
    },
    {
      "cell_type": "markdown",
      "metadata": {
        "id": "m3fum-Z2RBok"
      },
      "source": [
        "# Características gerais do dataset:\n",
        "- Registros: 308854;\n",
        "- Features: 19;\n",
        "- Features types:\n",
        "  - Texto: 7;\n",
        "  - Numérico: 12;\n",
        "- Nulos: 0;\n",
        "- Descrição das features:\n",
        "  - Height_(cm): Altura em centímeros;\n",
        "  - Weight_(kg): Peso em kilogramas;\n",
        "  - BMI: Índice de massa corpórea (IMC)\n",
        "  - Alcohol_Consumption: Consumo de àlcool\n",
        "  -"
      ]
    },
    {
      "cell_type": "markdown",
      "metadata": {
        "id": "BrkHafapPM9b"
      },
      "source": [
        "# Kaggle configure"
      ]
    },
    {
      "cell_type": "code",
      "execution_count": null,
      "metadata": {
        "id": "6VPykOw9ozO4"
      },
      "outputs": [],
      "source": [
        "# !pip install imbalanced-learn -q\n",
        "# !pip install kaggle -q"
      ]
    },
    {
      "cell_type": "code",
      "execution_count": null,
      "metadata": {
        "id": "HN07E2l0Emf_"
      },
      "outputs": [],
      "source": [
        "\n",
        "# from google.colab import files\n",
        "# files.upload()\n",
        "# !mkdir -p ~/.kaggle\n",
        "# !cp kaggle.json ~/.kaggle\n",
        "# !chmod 600 ~/.kaggle/kaggle.json\n",
        "# !kaggle datasets list\n",
        "# %cd /content/\n",
        "# !kaggle datasets download -d alphiree/cardiovascular-diseases-risk-prediction-dataset\n",
        "# !unzip cardiovascular-diseases-risk-prediction-dataset.zip -d cardiovascular-diseases"
      ]
    },
    {
      "cell_type": "markdown",
      "metadata": {
        "id": "CfYTzLTtPUW3"
      },
      "source": [
        "# Lib Imports"
      ]
    },
    {
      "cell_type": "code",
      "execution_count": null,
      "metadata": {
        "id": "oMa_NoxUMZRv"
      },
      "outputs": [],
      "source": [
        "import pandas as pd\n",
        "import seaborn as sns\n",
        "import matplotlib.pyplot as plt\n",
        "import numpy as np\n",
        "from sklearn.datasets import make_classification\n",
        "from imblearn.over_sampling import RandomOverSampler\n",
        "from collections import Counter"
      ]
    },
    {
      "cell_type": "code",
      "execution_count": null,
      "metadata": {
        "id": "0HcmxYqCGeWe"
      },
      "outputs": [],
      "source": [
        "df_CVD = pd.read_csv('dataset/CVD_cleaned.csv')"
      ]
    },
    {
      "cell_type": "markdown",
      "metadata": {
        "id": "KyJCLNZ1PqoS"
      },
      "source": [
        "# Explorando features"
      ]
    },
    {
      "cell_type": "code",
      "execution_count": null,
      "metadata": {
        "id": "vWq_fedoUxpx"
      },
      "outputs": [],
      "source": [
        "df_CVD.head()"
      ]
    },
    {
      "cell_type": "markdown",
      "metadata": {
        "id": "z7q5RHJzQfzj"
      },
      "source": [
        "## Identificando Dtypes"
      ]
    },
    {
      "cell_type": "code",
      "execution_count": null,
      "metadata": {
        "id": "X2263KAjMqto"
      },
      "outputs": [],
      "source": [
        "df_CVD.info()"
      ]
    },
    {
      "cell_type": "markdown",
      "metadata": {
        "id": "4NpNYS9nPd4s"
      },
      "source": [
        "* Quantidade de features: 19"
      ]
    },
    {
      "cell_type": "code",
      "execution_count": null,
      "metadata": {
        "id": "oIbFAyfYPn4L"
      },
      "outputs": [],
      "source": [
        "df_CVD.select_dtypes(include='object').info()"
      ]
    },
    {
      "cell_type": "markdown",
      "metadata": {
        "id": "IN1kAuwyQO4q"
      },
      "source": [
        "- Quantidade do tipo texto: 12"
      ]
    },
    {
      "cell_type": "code",
      "execution_count": null,
      "metadata": {
        "id": "CXn-yZetQOQJ"
      },
      "outputs": [],
      "source": [
        "df_CVD.select_dtypes(include='float').info()"
      ]
    },
    {
      "cell_type": "markdown",
      "metadata": {
        "id": "e0wLvjhmQyvw"
      },
      "source": [
        "- Quantidade do tipo numérico: 7"
      ]
    },
    {
      "cell_type": "markdown",
      "metadata": {
        "id": "DhSyIuIPRzxU"
      },
      "source": [
        "## Dtype exploration: Numéric"
      ]
    },
    {
      "cell_type": "markdown",
      "metadata": {
        "id": "6Wm5DdPEZQkV"
      },
      "source": [
        "- Plotar a distribuição de cada variável numérica usando boxplots e histogramas;\n",
        "- Testar estatisticamente cada variável numérica quanto à normalidade;\n",
        "- Midir a correlação de cada variável numérica com outras usando um mapa de calor;\n",
        "- Medir estatisticamente a inclinação e a curtose de cada variável."
      ]
    },
    {
      "cell_type": "code",
      "execution_count": null,
      "metadata": {
        "id": "hlvAqMWGRzSP"
      },
      "outputs": [],
      "source": [
        "df_CVD.select_dtypes(include='float').describe().T"
      ]
    },
    {
      "cell_type": "markdown",
      "metadata": {
        "id": "nvHkz4tnTb0t"
      },
      "source": [
        "- Já conseguimos perceber alguns outliers que vamos precisar eliminar"
      ]
    },
    {
      "cell_type": "markdown",
      "metadata": {
        "id": "wY_hrSr6Wt9c"
      },
      "source": [
        "### Outliers\n",
        "- Plotar a distribuição de cada variável numérica usando boxplots e histogramas;"
      ]
    },
    {
      "cell_type": "code",
      "execution_count": null,
      "metadata": {
        "id": "a_Ziw89cThLg"
      },
      "outputs": [],
      "source": [
        "numeric_data = df_CVD.select_dtypes(include = [np.number])\n",
        "categorical_data = df_CVD.select_dtypes(exclude = [np.number]) # Selects categorical datatypes only\n",
        "\n",
        "extreme_check_boxplot = sns.boxplot(data = df_CVD,\n",
        "                                   orient = 'h')\n",
        "plt.title('Distribuição de dados numéricos',\n",
        "         fontweight = 'bold')\n",
        "plt.show()"
      ]
    },
    {
      "cell_type": "markdown",
      "metadata": {
        "id": "l6dwqP2vXM3d"
      },
      "source": [
        "### Teste de normalidade\n",
        "- Testar estatisticamente cada variável numérica quanto à normalidade;"
      ]
    },
    {
      "cell_type": "markdown",
      "metadata": {
        "id": "ZlmJjMNj9fVw"
      },
      "source": [
        "Um teste de normalidade é um procedimento estatístico usado para verificar se uma amostra de dados segue uma distribuição normal (gaussiana). A distribuição normal é uma distribuição estatística importante que possui várias propriedades bem conhecidas e é frequentemente assumida por muitas técnicas estatísticas. No entanto, nem todos os conjuntos de dados seguem uma distribuição normal, e é importante verificar essa suposição antes de aplicar certas análises estatísticas.\n",
        "\n",
        "\n",
        "A biblioteca scipy.stats no Python fornece uma função chamada normaltest que pode ser usada para realizar um teste de normalidade baseado em estatísticas de assimetria e curtose. O teste de normalidade é geralmente baseado na hipótese nula de que os dados vêm de uma distribuição normal. A função normaltest retorna duas estatísticas:\n",
        "\n",
        "- A estatística de assimetria (skewness): Mede o grau de assimetria nos dados.\n",
        "- A estatística de curtose (kurtosis): Mede o grau de achatamento da distribuição em relação à distribuição normal.\n",
        "\n",
        "Além disso, a função também retorna um valor-p associado a essas estatísticas, que pode ser usado para determinar se os dados são estatisticamente significativamente diferentes de uma distribuição normal."
      ]
    },
    {
      "cell_type": "markdown",
      "metadata": {
        "id": "h_4u6kps9vtV"
      },
      "source": [
        "   * Se o valor-p for menor do que o nível de significância escolhido (geralmente 0.05), podemos rejeitar a hipótese nula de que os dados são normalmente distribuídos e concluir que os dados não seguem uma distribuição normal. Caso contrário, não temos evidências suficientes para rejeitar a hipótese nula e podemos assumir que os dados são normalmente distribuídos."
      ]
    },
    {
      "cell_type": "code",
      "execution_count": null,
      "metadata": {
        "id": "RjRfBWO9Wgrn"
      },
      "outputs": [],
      "source": [
        "from scipy.stats import normaltest\n",
        "alpha = 0.05\n",
        "\n",
        "for column in numeric_data:\n",
        "    print(f'\\t >{column}<')\n",
        "    print(f'{column} Teste Estatistico: {normaltest(numeric_data[column])[0]}')\n",
        "    print(f'{column} p-value: {normaltest(numeric_data[column])[1]}')\n",
        "\n",
        "    if normaltest(numeric_data[column])[1] < alpha:\n",
        "        print(\"Os dados não seguem uma distribuição normal.\")\n",
        "    else:\n",
        "        print(\"Os dados seguem uma distribuição normal.\")\n",
        "\n",
        "    print(10*'-===-')\n",
        "\n",
        "\n",
        "numerical_column_names = list(numeric_data.columns)"
      ]
    },
    {
      "cell_type": "markdown",
      "metadata": {
        "id": "wQ-o3GDLXv6J"
      },
      "source": [
        "### Correlações:\n",
        "- Midir a correlação de cada variável numérica com outras usando um mapa de calor;"
      ]
    },
    {
      "cell_type": "markdown",
      "metadata": {
        "id": "738sM9PEO845"
      },
      "source": [
        "\n",
        "As correlações de Pearson, Kendall's Tau e Spearman's Rho são três medidas estatísticas diferentes usadas para avaliar a relação entre duas variáveis. Elas são especialmente úteis para quantificar o grau e a direção da associação entre variáveis quantitativas ou ordinais. Cada uma dessas medidas tem suas próprias características e é apropriada para diferentes tipos de dados e situações. Vou explicar cada uma delas:\n",
        "\n",
        "Correlação de Pearson (Coeficiente de Correlação de Pearson):\n",
        "  A correlação de Pearson mede a relação linear entre duas variáveis contínuas. Ela varia de -1 a 1. Um valor de 1 indica uma correlação positiva perfeita, ou seja, as duas variáveis aumentam juntas em uma relação linear. Um valor de -1 indica uma correlação negativa perfeita, ou seja, uma variável aumenta enquanto a outra diminui linearmente. Um valor próximo de 0 indica uma correlação fraca ou ausência de correlação linear.\n",
        "  No entanto, a correlação de Pearson assume que as variáveis têm uma relação linear e são distribuídas normalmente. Portanto, pode não ser apropriada para dados não lineares ou distribuições não normais.\n",
        "\n",
        "Kendall's Tau (Tau de Kendall):\n",
        "  O coeficiente de Kendall's Tau mede a associação de ordem entre duas variáveis. Ele é adequado para dados ordinais, ou seja, quando as observações podem ser classificadas em uma ordem específica, mas as diferenças entre as categorias não são necessariamente iguais. O coeficiente varia de -1 a 1, com valores mais próximos de -1 indicando uma associação negativa, valores mais próximos de 1 indicando uma associação positiva e valores próximos de 0 indicando ausência de associação.\n",
        "  O Tau de Kendall é menos sensível a outliers do que a correlação de Pearson e não pressupõe uma relação linear entre as variáveis.\n",
        "\n",
        "Spearman's Rho (Coeficiente de Correlação de Spearman):\n",
        "  O coeficiente de Spearman mede a relação monotônica entre duas variáveis, o que significa que avalia se as variáveis têm uma relação que aumenta ou diminui em conjunto, mas não necessariamente de maneira linear. Assim como o Tau de Kendall, o Spearman's Rho é apropriado para dados ordinais e também pode ser usado com dados intervalares ou de razão.\n",
        "  O coeficiente de Spearman também varia de -1 a 1, com interpretações semelhantes às outras medidas.\n",
        "\n",
        "Resumindo:\n",
        "\n",
        "- Pearson: Para dados contínuos, assume relação linear e normalidade.\n",
        "- Kendall's Tau: Para dados ordinais, não assume uma relação linear.\n",
        "- Spearman's Rho: Para dados ordinais ou intervalares, não assume uma relação linear.\n",
        "\n",
        "A escolha entre essas medidas depende da natureza dos dados e da relação que se deseja avaliar. Cada medida tem seus próprios pontos fortes e limitações."
      ]
    },
    {
      "cell_type": "code",
      "execution_count": null,
      "metadata": {
        "id": "6W4MLjfTXxCd"
      },
      "outputs": [],
      "source": [
        "numeric_spearman = pd.DataFrame(numeric_data).corr(method = 'spearman')\n",
        "numeric_kendall = pd.DataFrame(numeric_data).corr(method = 'kendall')\n",
        "numeric_pearson = pd.DataFrame(numeric_data).corr(method = 'pearson')\n",
        "\n",
        "fig, ax = plt.subplots(nrows = 1,\n",
        "                       ncols = 3,\n",
        "                       sharex = True,\n",
        "                       sharey = True)\n",
        "plt.suptitle('Correlação entre as variáveis numéricas')\n",
        "\n",
        "fig.set_size_inches(13, 5)\n",
        "\n",
        "s_hmap = sns.heatmap(data = numeric_spearman, ax = ax[0], annot=True, fmt=\".1f\")\n",
        "ax[0].set_title('Spearmans')\n",
        "\n",
        "k_hmap = sns.heatmap(data = numeric_kendall, ax = ax[1], annot=True, fmt=\".1f\")\n",
        "ax[1].set_title('Kendalls')\n",
        "\n",
        "p_hmap = sns.heatmap(data = numeric_pearson, ax = ax[2],annot=True, fmt=\".1f\")\n",
        "ax[2].set_title('Pearsons')\n",
        "\n",
        "\n",
        "plt.show()"
      ]
    },
    {
      "cell_type": "code",
      "execution_count": null,
      "metadata": {
        "id": "jE0hH0AiX-_w"
      },
      "outputs": [],
      "source": [
        "fig, ax = plt.subplots(nrows = 4,\n",
        "                      ncols = 2,\n",
        "                      sharex = False,\n",
        "                      sharey = True)\n",
        "fig.set_size_inches(12, 10)\n",
        "\n",
        "plt.suptitle('Histogramas para variáveis numéricas', fontweight = 'bold')\n",
        "\n",
        "#Height\n",
        "sns.histplot(data = df_CVD['Height_(cm)'], ax = ax[0, 0], bins = 30)\n",
        "ax[0, 0].set_title('Height')\n",
        "ax[0, 0].set_xlabel('Height (cm)')\n",
        "\n",
        "#Weight\n",
        "sns.histplot(data = df_CVD['Weight_(kg)'], ax = ax[0, 1], bins = 30)\n",
        "ax[0, 1].set_title('Weight')\n",
        "ax[0, 1].set_xlabel('Weight (kg)')\n",
        "\n",
        "#BMI\n",
        "sns.histplot(data = df_CVD['BMI'], ax = ax[1, 0], bins = 30)\n",
        "ax[1, 0].set_title('BMI')\n",
        "ax[1, 0].set_xlabel('BMI')\n",
        "\n",
        "#Alcohol consumption\n",
        "sns.histplot(data = df_CVD['Alcohol_Consumption'], ax = ax[1, 1], bins = 30)\n",
        "ax[1, 1].set_title('Alcohol Consumption')\n",
        "ax[1, 1].set_xlabel('Consumption')\n",
        "\n",
        "#Fruit consumption\n",
        "sns.histplot(data = df_CVD['Fruit_Consumption'], ax = ax[2, 0], bins = 30)\n",
        "ax[2, 0].set_title('Fruit consumption')\n",
        "ax[2, 0].set_xlabel('Consumption')\n",
        "\n",
        "#Green vegetable consumption\n",
        "sns.histplot(data = df_CVD['Green_Vegetables_Consumption'], ax = ax[2, 1], bins = 30)\n",
        "ax[2, 1].set_title('Green Vegetable Consumption')\n",
        "ax[2, 1].set_xlabel('Consumption')\n",
        "\n",
        "#Fried Potato consumption\n",
        "sns.histplot(data = df_CVD['FriedPotato_Consumption'], ax = ax[3, 0], bins = 30)\n",
        "ax[3, 0].set_title('Fried Potato Consumption')\n",
        "ax[3, 0].set_xlabel('Consumption')\n",
        "\n",
        "ax[3, 1].set_axis_off()\n",
        "\n",
        "plt.tight_layout()"
      ]
    },
    {
      "cell_type": "markdown",
      "metadata": {
        "id": "HgP3v25sYX0y"
      },
      "source": [
        "### Verificando inclinação de kurtosis.\n",
        "- Medir estatisticamente a inclinação e a curtose de cada variável."
      ]
    },
    {
      "cell_type": "markdown",
      "metadata": {
        "id": "xOkpQbpX-N1U"
      },
      "source": [
        "A assimetria dos dados, também conhecida como assimetria estatística, é uma medida estatística que descreve a falta de simetria em uma distribuição de valores. Em outras palavras, a assimetria indica se a distribuição dos valores está inclinada para um lado em relação ao seu centro.\n",
        "\n",
        "Uma distribuição simétrica é aquela em que os valores se distribuem de maneira uniforme em torno de um ponto central, como a média, a mediana e a moda. Porém, muitas vezes, os conjuntos de dados não apresentam essa simetria perfeita."
      ]
    },
    {
      "cell_type": "markdown",
      "metadata": {
        "id": "6VTihScX-R3y"
      },
      "source": [
        "Existem três tipos principais de assimetria:\n",
        "\n",
        "  * Assimetria Positiva (Skewness Positivo): Também chamada de assimetria para a direita, ocorre quando a cauda direita da * distribuição (valores mais altos) é mais longa do que a cauda esquerda. Isso significa que há valores extremamente altos que estendem a distribuição nessa direção.\n",
        "\n",
        "  * Assimetria Negativa (Skewness Negativo): Também conhecida como assimetria para a esquerda, acontece quando a cauda esquerda da distribuição (valores mais baixos) é mais longa do que a cauda direita. Isso implica que há valores excepcionalmente baixos que puxam a distribuição nessa direção.\n",
        "\n",
        "  * Assimetria Zero: Nesse caso, a distribuição é aproximadamente simétrica, com as caudas esquerda e direita tendo comprimentos semelhantes.\n",
        "\n",
        "A medida mais comum para avaliar a assimetria é o coeficiente de assimetria de Pearson, ou simplesmente coeficiente de assimetria. Essa medida utiliza a média, a mediana e o desvio padrão para calcular a magnitude e a direção da assimetria. Se o coeficiente de assimetria for próximo de 0, a distribuição é aproximadamente simétrica. Se for positivo, há assimetria positiva, e se for negativo, há assimetria negativa.\n",
        "\n",
        "A assimetria é importante porque pode afetar a interpretação dos dados e a escolha das técnicas estatísticas apropriadas. Em análises estatísticas, especialmente aquelas que pressupõem normalidade, é essencial considerar a assimetria dos dados para tomar decisões informadas sobre quais métodos e abordagens utilizar."
      ]
    },
    {
      "cell_type": "markdown",
      "metadata": {
        "id": "tWWMcUcP-H_d"
      },
      "source": [
        "A estatística de curtose (kurtosis) é uma medida estatística que descreve o achatamento ou a \"cauda\" de uma distribuição de valores em relação à distribuição normal. Em outras palavras, a curtose mede a concentração dos valores em torno da média em comparação com a distribuição normal.\n",
        "\n",
        "Uma curtose alta indica que os valores da distribuição têm uma concentração maior ao redor da média, resultando em caudas mais pesadas (outliers mais extremos). Uma curtose baixa indica uma concentração menor em torno da média, com caudas mais leves.\n",
        "\n",
        "Existem duas medidas comuns de curtose:\n",
        "\n",
        "Curtose de Pearson: Essa medida é definida como a média dos desvios à quarta potência dos valores em relação à média da distribuição. Ela é normalmente comparada à curtose da distribuição normal, que é 3. Portanto, a curtose de Pearson é frequentemente relatada em relação a 3. Uma curtose maior que 3 indica uma distribuição mais concentrada, com caudas mais pesadas, enquanto uma curtose menor que 3 indica uma distribuição menos concentrada, com caudas mais leves.\n",
        "\n",
        "Curtose Excessiva: Para facilitar a interpretação, também é comum calcular o \"excesso de curtose\", que é simplesmente a curtose de Pearson menos 3. Isso torna a curtose da distribuição normal igual a 0, o que facilita a comparação.\n",
        "\n",
        "A interpretação da curtose depende do contexto e dos dados envolvidos:\n",
        "\n",
        "Curtose positiva (maior que 3 ou excesso de curtose positivo): Indica uma distribuição mais concentrada e com caudas mais pesadas do que a distribuição normal. Isso pode indicar a presença de valores extremos (outliers) na distribuição.\n",
        "\n",
        "Curtose negativa (menor que 3 ou excesso de curtose negativo): Indica uma distribuição menos concentrada e com caudas mais leves do que a distribuição normal. Isso pode sugerir uma distribuição mais uniforme dos valores.\n",
        "\n",
        "Lembre-se de que a interpretação da curtose deve ser feita em conjunto com outras análises e contextos específicos dos dados. A curtose não é uma medida de normalidade, e uma distribuição com curtose diferente da normal não necessariamente é inadequada para análises estatísticas. Em alguns casos, distribuições não normais podem ser mais apropriadas para representar os dados reais."
      ]
    },
    {
      "cell_type": "code",
      "execution_count": null,
      "metadata": {
        "id": "R4y-xCAgYRW8"
      },
      "outputs": [],
      "source": [
        "from scipy.stats import skew, kurtosis\n",
        "\n",
        "print('Assimetria da distribuição de dados das variáveis numéricas')\n",
        "print('------------------------------')\n",
        "print()\n",
        "\n",
        "for column in numeric_data:\n",
        "    print(f'\\t{column}')\n",
        "    print(f'{column} skew: {skew(numeric_data[column])}')\n",
        "    print(f'{column} kurtosis: {kurtosis(numeric_data[column])}')\n",
        "    print()"
      ]
    },
    {
      "cell_type": "markdown",
      "metadata": {
        "id": "tgdzdNV-hdC2"
      },
      "source": [
        "A estatística de curtose (kurtosis) é uma medida estatística que fornece informações sobre a forma da distribuição de um conjunto de dados, especificamente em relação ao pico central e às caudas da distribuição. Ela está relacionada à concentração dos valores em torno da média e à extensão das caudas da distribuição.\n",
        "\n",
        "A curtose nos diz como os valores se comportam nas regiões mais extremas da distribuição em comparação com a distribuição normal. Existem dois aspectos principais que a curtose pode revelar:\n",
        "\n",
        "* 1. Achatamento (Leptocurtose) ou Alargamento (Platicurtose): A curtose pode indicar se os valores da distribuição estão concentrados em torno da média (achatamento) ou espalhados (alargamento). Uma curtose alta (positiva) sugere que a distribuição é mais concentrada em torno da média e possui caudas mais pesadas, o que significa que há uma maior incidência de valores extremos. Uma curtose baixa (negativa) indica que a distribuição é mais achatada em relação à distribuição normal, com caudas mais leves.\n",
        "\n",
        "* 2. Presença de Outliers: Uma curtose alta pode indicar a presença de valores extremos (outliers) na distribuição. Isso ocorre porque esses valores extremos contribuem para as caudas mais pesadas da distribuição.\n",
        "\n",
        "Geralmente, a curtose é comparada à curtose da distribuição normal, que é igual a 3. Se a curtose de uma distribuição for maior do que 3, dizemos que ela tem uma curtose excessiva (leptocurtose), o que significa que tem caudas mais pesadas e é mais concentrada em torno da média. Se a curtose for menor do que 3, dizemos que ela tem uma curtose insuficiente (platicurtose), o que significa que tem caudas mais leves e é mais achatada.\n",
        "\n",
        "No entanto, é importante ter em mente que a interpretação da curtose deve ser feita com cautela. A curtose não é uma medida de normalidade e não indica necessariamente que uma distribuição seja normal ou não. Além disso, a interpretação da curtose pode variar dependendo do contexto dos dados e da análise estatística que está sendo realizada. Em alguns casos, uma distribuição não normal ou com curtose diferente da normal pode ser apropriada para representar os dados reais. Portanto, é sempre aconselhável considerar a curtose em conjunto com outras análises estatísticas e contexto dos dados."
      ]
    },
    {
      "cell_type": "markdown",
      "metadata": {
        "id": "o5iYYsovY8_Z"
      },
      "source": [
        "## Dtype exploration: Text"
      ]
    },
    {
      "cell_type": "markdown",
      "metadata": {
        "id": "qnIl8Lyg_QoW"
      },
      "source": [
        " - Listar as informações básicas sobre cada feature categórica\n",
        " - Correção da ordem e nomes das variáveis, se necessário\n",
        " - Plotar histogramas de cada variável categórica"
      ]
    },
    {
      "cell_type": "code",
      "execution_count": null,
      "metadata": {
        "id": "wuACuczTdj7y"
      },
      "outputs": [],
      "source": [
        "# categorical_column_names"
      ]
    },
    {
      "cell_type": "code",
      "execution_count": null,
      "metadata": {
        "id": "FfOrDM_6Y8zG"
      },
      "outputs": [],
      "source": [
        "categorical_column_names = list(df_CVD.columns)\n",
        "\n",
        "print(f'Lista de variáveis categóricas: {list(categorical_data)}')\n",
        "print(f'Número de variáveis categóricas: {len(list(categorical_data))}')\n",
        "print()\n",
        "print()\n",
        "print('-----------------------------------------------------------------------')\n",
        "\n",
        "for col in categorical_data:\n",
        "    print(f'{col} Valores distintos: {list(categorical_data[col].unique())}')\n",
        "    print(f'{col} tem {len(list(categorical_data[col].unique()))} valores únicos')\n",
        "    print()\n",
        "    print()"
      ]
    },
    {
      "cell_type": "code",
      "execution_count": null,
      "metadata": {
        "id": "1Dq-dKVT_bmt"
      },
      "outputs": [],
      "source": [
        "df_CVD['Checkup'] = df_CVD['Checkup'].replace({'Within the past 2 years': '<2 anos',\n",
        "                                                  'Within the past year': '<1 ano',\n",
        "                                                  '5 or more years ago': '5+ anos',\n",
        "                                                  'Within the past 5 years': '<5 anos',\n",
        "                                                  'Never': 'Nunca'})"
      ]
    },
    {
      "cell_type": "code",
      "execution_count": null,
      "metadata": {
        "id": "OAeB7L2m_vGu"
      },
      "outputs": [],
      "source": [
        "fig, ax = plt.subplots(nrows = 3,\n",
        "                      ncols = 3,\n",
        "                      sharex = False,\n",
        "                      sharey = True)\n",
        "fig.set_size_inches(12, 10)\n",
        "\n",
        "plt.suptitle('Contagem de todas as variáveis categóricas',\n",
        "            fontweight = 'bold')\n",
        "\n",
        "#General Health\n",
        "sns.histplot(data = df_CVD['General_Health'], stat = 'count', ax = ax[0, 0])\n",
        "ax[0, 0].set_title('Health')\n",
        "ax[0, 0].set_xlabel('Categorias de saúde')\n",
        "\n",
        "\n",
        "#exercise\n",
        "sns.histplot(data = df_CVD['Exercise'], stat = 'count', ax = ax[0, 1])\n",
        "ax[0, 1].set_title('Exercise')\n",
        "ax[0, 1].set_xlabel('Grupo de exercícios')\n",
        "\n",
        "\n",
        "#Heart Disease\n",
        "sns.histplot(data = df_CVD['Heart_Disease'], stat = 'count', ax = ax[0, 2])\n",
        "ax[0, 2].set_title('Heart Disease')\n",
        "ax[0, 2].set_xlabel('Grupos de doenças de saúde')\n",
        "\n",
        "#Skin Cancer\n",
        "sns.histplot(data = df_CVD['Skin_Cancer'], stat = 'count', ax = ax[1, 0])\n",
        "ax[1, 0].set_title('Skin Cancer')\n",
        "ax[1, 0].set_xlabel('Grupos de canceres de pele')\n",
        "\n",
        "#Other cancer\n",
        "sns.histplot(data = df_CVD['Other_Cancer'], stat = 'count', ax = ax[1, 1])\n",
        "ax[1, 1].set_title('Other cancers')\n",
        "ax[1, 1].set_xlabel('Outros grupos de cancer')\n",
        "\n",
        "#Depression\n",
        "sns.histplot(data = df_CVD['Depression'], stat = 'count', ax = ax[1, 2])\n",
        "ax[1, 2].set_title('Depression')\n",
        "ax[1, 2].set_xlabel('Grupos de depressao')\n",
        "\n",
        "\n",
        "#Arthritis\n",
        "sns.histplot(data = df_CVD['Arthritis'], stat = 'count', ax = ax[2, 0])\n",
        "ax[2, 0].set_title('Arthritis')\n",
        "ax[2, 0].set_xlabel('Grupo de artrite')\n",
        "\n",
        "#Sex\n",
        "sns.histplot(data = df_CVD['Sex'], stat = 'count', ax = ax[2, 1])\n",
        "ax[2, 1].set_title('Sex')\n",
        "ax[2, 1].set_xlabel('Sexo')\n",
        "\n",
        "#Smoking History\n",
        "sns.histplot(data = df_CVD['Smoking_History'], stat = 'count', ax = ax[2, 2])\n",
        "ax[2, 2].set_title('Smoking')\n",
        "ax[2, 2].set_xlabel('Grupo de histórico de fumantes')\n",
        "\n",
        "\n",
        "plt.tight_layout()\n",
        "plt.show()"
      ]
    },
    {
      "cell_type": "code",
      "execution_count": null,
      "metadata": {
        "id": "yKUuT1_E_5D2"
      },
      "outputs": [],
      "source": [
        "sns.histplot(data = df_CVD['Checkup'], stat = 'count')\n",
        "plt.xticks(rotation = 30)\n",
        "plt.title('Checkup histogram')"
      ]
    },
    {
      "cell_type": "code",
      "execution_count": null,
      "metadata": {
        "id": "aZi7kV5H_9DC"
      },
      "outputs": [],
      "source": [
        "sns.histplot(data = df_CVD['Diabetes'], stat = 'count')\n",
        "plt.xticks(rotation = 30)\n",
        "plt.title('Diabetes histogram')"
      ]
    },
    {
      "cell_type": "code",
      "execution_count": null,
      "metadata": {
        "id": "2NnkIP2kAAnj"
      },
      "outputs": [],
      "source": [
        "sns.histplot(data = df_CVD['Age_Category'], stat = 'count')\n",
        "plt.title('Age group histogram')\n",
        "plt.xticks(rotation = 30)"
      ]
    },
    {
      "cell_type": "code",
      "execution_count": null,
      "metadata": {
        "id": "r7V6MlcUAxgg"
      },
      "outputs": [],
      "source": [
        "def compare_categoricals(data, column_names_list, comparison_col = None): # comparison_col is optional - include if want multicategorical histograms\n",
        "    # print(data.columns)\n",
        "    # print(column_names_list)\n",
        "    fig, ax = plt.subplots(nrows = 11,\n",
        "                          ncols = 1,\n",
        "                          sharex = False,\n",
        "                          sharey = False)\n",
        "\n",
        "    fig.set_size_inches(14, 26)\n",
        "\n",
        "    plt.suptitle(f'Colunas categóricas por: {comparison_col}', y = 0.99)\n",
        "    plt.subplots_adjust(hspace = 1)\n",
        "\n",
        "    i = 0\n",
        "\n",
        "    for column in column_names_list:\n",
        "\n",
        "      if str(column) == str(comparison_col):\n",
        "        pass # Skip and don't plot anything if its the same.\n",
        "      elif i == 11:\n",
        "        break\n",
        "      else:\n",
        "        sns.histplot(data = data, x = column, hue = comparison_col, ax = ax[i], multiple ='dodge')\n",
        "        ax[i].set_title(f'{str(column)} and {str(comparison_col)}')\n",
        "        ax[i].set_ylabel('Count')\n",
        "\n",
        "      i = i + 1 # New row for next categorical variable\n",
        "\n",
        "\n",
        "    plt.tight_layout()\n",
        "    plt.show()"
      ]
    },
    {
      "cell_type": "code",
      "execution_count": null,
      "metadata": {
        "id": "9C_BSZjMVfZN"
      },
      "outputs": [],
      "source": [
        "compare_categoricals(df_CVD[categorical_column_names], categorical_column_names, 'Heart_Disease')"
      ]
    },
    {
      "cell_type": "markdown",
      "metadata": {
        "id": "dOoFW1NQe_ha"
      },
      "source": [
        "## Analisando variáveis categóricas-numéricas"
      ]
    },
    {
      "cell_type": "markdown",
      "metadata": {
        "id": "RChDiTYbfT3P"
      },
      "source": [
        "Criar uma função que:\n",
        "\n",
        "- Tenha o input de variáveis categóricas e variáveis numéricas e exiba uma comparação entre ambos os tipos\n",
        "- Plote gráficas de violino e ecdf de cada combinação de variáveis categóricas e númericas"
      ]
    },
    {
      "cell_type": "code",
      "execution_count": null,
      "metadata": {
        "id": "8-kJFL5ZbQaA"
      },
      "outputs": [],
      "source": [
        "def univariate_categorical_by_numerical(data, numerical_cols, categorical_col = None):\n",
        "\n",
        "    fig, ax = plt.subplots(nrows = 7,\n",
        "                          ncols = 2,\n",
        "                          sharex = False,\n",
        "                          sharey = False)\n",
        "    fig.set_size_inches(16, 20)\n",
        "\n",
        "    i = 0 # Y\n",
        "\n",
        "    for col in numerical_cols:\n",
        "\n",
        "        sns.violinplot(data = data, x = categorical_col, y = col, ax = ax[i, 0])\n",
        "        ax[i, 0].set_title(f'{str(col)} distribuido por {str(categorical_col)}')\n",
        "        ax[i, 0].set_xlabel(f'{categorical_col}')\n",
        "\n",
        "        sns.ecdfplot(data = data, hue = categorical_col, x = col, ax = ax[i, 1])\n",
        "        ax[i, 1].axhline(0.5, linestyle = 'dashed')\n",
        "\n",
        "        i += 1\n",
        "\n",
        "    plt.tight_layout()\n",
        "    plt.show()"
      ]
    },
    {
      "cell_type": "markdown",
      "metadata": {
        "id": "5W4m4VZkgrG0"
      },
      "source": [
        "Um gráfico de ECDF (Empirical Cumulative Distribution Function) fornece uma maneira simples de entender como os valores em um conjunto de dados estão distribuídos. Ele mostra quanto percentual dos valores são menores ou iguais a um determinado valor.\n",
        "\n",
        "Em resumo, um gráfico de ECDF permite que você tenha uma ideia rápida de como os valores estão espalhados em um conjunto de dados. É uma maneira poderosa de ver a distribuição de seus dados sem precisar fazer suposições sobre o formato da distribuição."
      ]
    },
    {
      "cell_type": "code",
      "execution_count": null,
      "metadata": {
        "id": "tr4RgQDnbQ2R"
      },
      "outputs": [],
      "source": [
        "univariate_categorical_by_numerical(df_CVD, numerical_column_names, 'Heart_Disease')"
      ]
    },
    {
      "cell_type": "markdown",
      "metadata": {
        "id": "oIo6eli-hpqh"
      },
      "source": [
        "## Analises multinuméricas"
      ]
    },
    {
      "cell_type": "code",
      "execution_count": null,
      "metadata": {
        "id": "o-agmh3xhp5D"
      },
      "outputs": [],
      "source": [
        "import plotly.express as px\n",
        "import plotly.graph_objects as go\n",
        "from plotly.subplots import make_subplots"
      ]
    },
    {
      "cell_type": "code",
      "execution_count": null,
      "metadata": {
        "id": "k8GRqcXBiB8k"
      },
      "outputs": [],
      "source": [
        "#Multi-numeric scatterplot\n",
        "def plot_multi_numerics_scatter(data, numerical_cols, comparison_col, categorical_col = None): # Optional Categorical column\n",
        "\n",
        "    figure = make_subplots(rows = 2, cols = 3) # 6 plots, as won't plot against self.\n",
        "\n",
        "    #Hardcoded\n",
        "    row_pos = [1, 1, 1, 2, 2, 2]\n",
        "    row_pos_count = 0\n",
        "\n",
        "    col_pos = [1, 2, 3, 1, 2, 3]\n",
        "    col_pos_count = 0\n",
        "\n",
        "    for col in numerical_cols:\n",
        "\n",
        "        if col != comparison_col:\n",
        "\n",
        "\n",
        "            scatter = px.scatter(data_frame = data, x = comparison_col, y = col, color = categorical_col, opacity = 0.35, trendline = 'ols', trendline_scope = 'overall')\n",
        "            for i in scatter.data:\n",
        "                if row_pos_count != 1 and col_pos_count != 1: # No legend for all plots except 1.\n",
        "                    i.update(legendgroup = 'group', showlegend = False)\n",
        "                    figure.add_trace(i, row = row_pos[row_pos_count], col = col_pos[col_pos_count])\n",
        "                    figure.update_xaxes(title_text = str(comparison_col), row = row_pos[row_pos_count], col = col_pos[col_pos_count])\n",
        "                    figure.update_yaxes(title_text = str(col), row = row_pos[row_pos_count], col = col_pos[col_pos_count])\n",
        "\n",
        "                else:\n",
        "                    i.update(legendgroup = 'group', showlegend = True) # Show the legend for just the top left plot\n",
        "                    figure.add_trace(i, row = row_pos[row_pos_count], col = col_pos[col_pos_count])\n",
        "                    figure.update_xaxes(title_text = str(comparison_col), row = row_pos[row_pos_count], col = col_pos[col_pos_count])\n",
        "                    figure.update_yaxes(title_text = str(col), row = row_pos[row_pos_count], col = col_pos[col_pos_count])\n",
        "\n",
        "\n",
        "            row_pos_count = row_pos_count + 1\n",
        "            col_pos_count = col_pos_count + 1\n",
        "\n",
        "        else: #Do this if the numerical col is the same as the comparison col.\n",
        "            pass\n",
        "\n",
        "\n",
        "    figure.update_layout(title_text = 'Comparação de variáveis numéricas', legend_title_text = str(categorical_col))\n",
        "    figure.show()"
      ]
    },
    {
      "cell_type": "code",
      "execution_count": null,
      "metadata": {
        "id": "Ycoe5tCoiOyV"
      },
      "outputs": [],
      "source": [
        "plot_multi_numerics_scatter(df_CVD, numerical_column_names, 'Weight_(kg)', 'Heart_Disease')"
      ]
    },
    {
      "cell_type": "code",
      "execution_count": null,
      "metadata": {
        "id": "CoWGrNW4iRTs"
      },
      "outputs": [],
      "source": [
        "#Multi-numeric density heatmap. Optional filter to a specific grouping by categorical variable.\n",
        "def plot_multi_numerics_density_heatmap(data, numerical_cols, comparison_col, xbins, ybins, categorical_col = None, categorical_filter = None):\n",
        "\n",
        "    figure = make_subplots(rows = 2, cols = 3) # 6 plots, as won't plot against self.\n",
        "\n",
        "    if categorical_col != None:\n",
        "        data = data[data[categorical_col] == categorical_filter]\n",
        "    else:\n",
        "        pass\n",
        "\n",
        "    #Hardcoded\n",
        "    row_pos = [1, 1, 1, 2, 2, 2]\n",
        "    row_pos_count = 0\n",
        "\n",
        "    col_pos = [1, 2, 3, 1, 2, 3]\n",
        "    col_pos_count = 0\n",
        "\n",
        "    for col in numerical_cols:\n",
        "\n",
        "        if col != comparison_col:\n",
        "\n",
        "\n",
        "            density = px.density_heatmap(data_frame = data, x = comparison_col, y = col, nbinsx = xbins, nbinsy = ybins)\n",
        "            for i in density.data:\n",
        "                if row_pos_count != 1 and col_pos_count != 1: # No legend for all plots except 1.\n",
        "                    i.update(legendgroup = 'group', showlegend = False)\n",
        "                    figure.add_trace(i, row = row_pos[row_pos_count], col = col_pos[col_pos_count])\n",
        "                    #figure.update_traces(contours_coloring = 'fill')\n",
        "                    figure.update_xaxes(title_text = str(comparison_col), row = row_pos[row_pos_count], col = col_pos[col_pos_count])\n",
        "                    figure.update_yaxes(title_text = str(col), row = row_pos[row_pos_count], col = col_pos[col_pos_count])\n",
        "\n",
        "                else:\n",
        "                    i.update(legendgroup = 'group', showlegend = True) # Show the legend for just the top left plot\n",
        "                    figure.add_trace(i, row = row_pos[row_pos_count], col = col_pos[col_pos_count])\n",
        "                    #figure.update_traces(contours_coloring = 'fill')\n",
        "                    figure.update_xaxes(title_text = str(comparison_col), row = row_pos[row_pos_count], col = col_pos[col_pos_count])\n",
        "                    figure.update_yaxes(title_text = str(col), row = row_pos[row_pos_count], col = col_pos[col_pos_count])\n",
        "\n",
        "\n",
        "            row_pos_count = row_pos_count + 1\n",
        "            col_pos_count = col_pos_count + 1\n",
        "\n",
        "        else: #Do this if the numerical col is the same as the comparison col.\n",
        "            pass\n",
        "\n",
        "    if categorical_col != None and categorical_filter != None:\n",
        "\n",
        "        figure.update_layout(title_text = f'Mapa de calor da densidade das variáveis numéricas - {xbins} x {ybins} bins : {categorical_col} = {categorical_filter}', autosize = False, width = 1050, height = 1050)\n",
        "    else:\n",
        "        figure.update_layout(title_text = f'Mapa de calor da densidade das variáveis numéricas - {xbins} x {ybins} bins', autosize = False, width = 1050, height = 1050)\n",
        "\n",
        "\n",
        "\n",
        "    figure.show()"
      ]
    },
    {
      "cell_type": "code",
      "execution_count": null,
      "metadata": {
        "id": "aR2YWVZeit1j"
      },
      "outputs": [],
      "source": [
        "plot_multi_numerics_density_heatmap(df_CVD, numerical_column_names, 'Weight_(kg)', 50, 50,'Heart_Disease', 'Yes')"
      ]
    },
    {
      "cell_type": "code",
      "execution_count": null,
      "metadata": {
        "id": "WzV3PjLkivtW"
      },
      "outputs": [],
      "source": [
        "plot_multi_numerics_density_heatmap(df_CVD, numerical_column_names, 'Weight_(kg)', 50, 50,'Heart_Disease', 'No')"
      ]
    },
    {
      "cell_type": "markdown",
      "metadata": {
        "id": "VRJpMZ6ijpN7"
      },
      "source": [
        "# Principais insights\n",
        "\n",
        "- A maioria dos indivíduos não tinha sido diagnosticada com doença cardíaca;\n",
        "- A doença cardíaca foi ligeiramente mais prevalente entre os indivíduos do sexo masculino;\n",
        "- Indivíduos diagnosticados com doenças cardíacas tendiam a consumir mais álcool, ter mais peso, comer menos frutas, tinham histórico de tabagismo e eram mais velhos;"
      ]
    },
    {
      "cell_type": "code",
      "execution_count": null,
      "metadata": {
        "id": "20Awb_unozPQ"
      },
      "outputs": [],
      "source": [
        "df_CVD.head(5)"
      ]
    },
    {
      "cell_type": "code",
      "execution_count": null,
      "metadata": {
        "id": "T2fLekCQozPQ"
      },
      "outputs": [],
      "source": [
        "df_CVD.info()"
      ]
    }
  ],
  "metadata": {
    "colab": {
      "provenance": [],
      "toc_visible": true,
      "include_colab_link": true
    },
    "kernelspec": {
      "display_name": "Python 3",
      "name": "python3"
    },
    "language_info": {
      "codemirror_mode": {
        "name": "ipython",
        "version": 3
      },
      "file_extension": ".py",
      "mimetype": "text/x-python",
      "name": "python",
      "nbconvert_exporter": "python",
      "pygments_lexer": "ipython3",
      "version": "3.9.12"
    }
  },
  "nbformat": 4,
  "nbformat_minor": 0
}