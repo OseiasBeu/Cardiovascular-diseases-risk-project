{
  "nbformat": 4,
  "nbformat_minor": 0,
  "metadata": {
    "colab": {
      "provenance": [],
      "authorship_tag": "ABX9TyNyh52LeBLldPaGFVn1PJ7V",
      "include_colab_link": true
    },
    "kernelspec": {
      "name": "python3",
      "display_name": "Python 3"
    },
    "language_info": {
      "name": "python"
    }
  },
  "cells": [
    {
      "cell_type": "markdown",
      "metadata": {
        "id": "view-in-github",
        "colab_type": "text"
      },
      "source": [
        "<a href=\"https://colab.research.google.com/github/OseiasBeu/Cardiovascular-diseases-risk-project/blob/main/ML_Cardiovascular_diseases_risk_prediction.ipynb\" target=\"_parent\"><img src=\"https://colab.research.google.com/assets/colab-badge.svg\" alt=\"Open In Colab\"/></a>"
      ]
    },
    {
      "cell_type": "markdown",
      "source": [
        "## Libs"
      ],
      "metadata": {
        "id": "IgiVwoqFKSp7"
      }
    },
    {
      "cell_type": "code",
      "execution_count": 1,
      "metadata": {
        "id": "UQMLNB-s3Ulz"
      },
      "outputs": [],
      "source": [
        "#Leitura do dataset\n",
        "import requests\n",
        "import zipfile\n",
        "import io\n",
        "import os\n",
        "import numpy as np\n",
        "import pandas as pd\n",
        "\n",
        "#Modelos\n",
        "from sklearn.svm import LinearSVC\n",
        "from sklearn.naive_bayes import BernoulliNB\n",
        "from sklearn.tree import DecisionTreeClassifier\n",
        "\n",
        "#Métricas\n",
        "from sklearn.metrics import accuracy_score\n",
        "from sklearn.metrics import confusion_matrix\n",
        "from sklearn.metrics import precision_score\n",
        "from sklearn.metrics import recall_score\n",
        "\n",
        "# Exportação do Modelo\n",
        "import joblib\n",
        "import pickle"
      ]
    },
    {
      "cell_type": "markdown",
      "source": [
        "## Carregamento dos datasets"
      ],
      "metadata": {
        "id": "E-U4k6Yx4Khm"
      }
    },
    {
      "cell_type": "code",
      "source": [
        "import requests\n",
        "import os\n",
        "\n",
        "github_url = 'https://api.github.com/repos/OseiasBeu/Cardiovascular-diseases-risk-project/contents/dataset.zip'\n",
        "\n",
        "response = requests.get(github_url)\n",
        "\n",
        "\n",
        "if response.status_code == 200:\n",
        "    file_info = response.json()\n",
        "\n",
        "    download_url = file_info.get('download_url')\n",
        "\n",
        "    if download_url:\n",
        "        response = requests.get(download_url)\n",
        "        if response.status_code == 200:\n",
        "            file_path = 'dataset.zip'\n",
        "\n",
        "            with open(file_path, 'wb') as file:\n",
        "                file.write(response.content)\n",
        "\n",
        "            print(f'O arquivo foi baixado com sucesso e salvo em: {file_path}')\n",
        "        else:\n",
        "            print(f'Erro ao fazer o download do arquivo. Status Code: {response.status_code}')\n",
        "    else:\n",
        "        print('Não foi possível obter o URL de download do arquivo.')\n",
        "else:\n",
        "    print(f'Erro ao acessar a URL do GitHub. Status Code: {response.status_code}')\n"
      ],
      "metadata": {
        "id": "JE8ez1bC3bza",
        "outputId": "7d0cc418-c739-47d8-9451-28db6caeb458",
        "colab": {
          "base_uri": "https://localhost:8080/"
        }
      },
      "execution_count": 3,
      "outputs": [
        {
          "output_type": "stream",
          "name": "stdout",
          "text": [
            "O arquivo foi baixado com sucesso e salvo em: dataset.zip\n"
          ]
        }
      ]
    },
    {
      "cell_type": "code",
      "source": [
        "import zipfile\n",
        "\n",
        "# Especifique o caminho para o arquivo ZIP baixado\n",
        "zip_file_path = 'dataset.zip'\n",
        "\n",
        "# Especifique o diretório de destino para a extração\n",
        "extracted_dir_path = 'dataset/'\n",
        "\n",
        "# Verifique se o arquivo ZIP existe\n",
        "if not zipfile.is_zipfile(zip_file_path):\n",
        "    print(f'O arquivo {zip_file_path} não é um arquivo ZIP válido.')\n",
        "else:\n",
        "    # Crie o diretório de destino se ele não existir\n",
        "    if not os.path.exists(extracted_dir_path):\n",
        "        os.makedirs(extracted_dir_path)\n",
        "\n",
        "    # Abra o arquivo ZIP para extração\n",
        "    with zipfile.ZipFile(zip_file_path, 'r') as zip_ref:\n",
        "        # Extraia todo o conteúdo para o diretório de destino\n",
        "        zip_ref.extractall(extracted_dir_path)\n",
        "\n",
        "    print(f'O arquivo ZIP foi extraído com sucesso para o diretório: {extracted_dir_path}')\n"
      ],
      "metadata": {
        "id": "ud1ToFlx2qj6",
        "outputId": "8dad6462-4799-46a4-a3ad-37d130d3732f",
        "colab": {
          "base_uri": "https://localhost:8080/"
        }
      },
      "execution_count": 4,
      "outputs": [
        {
          "output_type": "stream",
          "name": "stdout",
          "text": [
            "O arquivo ZIP foi extraído com sucesso para o diretório: dataset/\n"
          ]
        }
      ]
    },
    {
      "cell_type": "code",
      "source": [
        "X_train_r = pd.read_csv('/content/dataset/dataset/X_train_r_cdr.csv',sep=';')\n",
        "y_train_r = pd.read_csv('/content/dataset/dataset/y_train_r_cdr.csv',sep=';')\n",
        "\n",
        "X_test_r = pd.read_csv('/content/dataset/dataset/X_test_r_cdr.csv',sep=';')\n",
        "y_test_r = pd.read_csv('/content/dataset/dataset/y_teste_r_cdr.csv',sep=';')\n",
        "\n",
        "X_train = pd.read_csv('/content/dataset/dataset/X_train_cdr.csv',sep=';')\n",
        "y_train = pd.read_csv('/content/dataset/dataset/y_train_cdr.csv',sep=';')\n",
        "\n",
        "X_test = pd.read_csv('/content/dataset/dataset/X_test_cdr.csv',sep=';')\n",
        "y_test = pd.read_csv('/content/dataset/dataset/y_teste_cdr.csv',sep=';')"
      ],
      "metadata": {
        "id": "BrZx1HpQ3eFD"
      },
      "execution_count": 13,
      "outputs": []
    },
    {
      "cell_type": "code",
      "source": [
        "X_train_r.drop(columns=['Unnamed: 0'], inplace=True)\n",
        "y_train_r.drop(columns=['Unnamed: 0'], inplace=True)\n",
        "\n",
        "X_test_r.drop(columns=['Unnamed: 0'], inplace=True)\n",
        "y_test_r.drop(columns=['Unnamed: 0'], inplace=True)\n",
        "\n",
        "X_train.drop(columns=['Unnamed: 0'], inplace=True)\n",
        "y_train.drop(columns=['Unnamed: 0'], inplace=True)\n",
        "\n",
        "X_test.drop(columns=['Unnamed: 0'], inplace=True)\n",
        "y_test.drop(columns=['Unnamed: 0'], inplace=True)"
      ],
      "metadata": {
        "id": "RTx5GbR62yP4"
      },
      "execution_count": 14,
      "outputs": []
    },
    {
      "cell_type": "markdown",
      "source": [
        "## Linear SVC"
      ],
      "metadata": {
        "id": "FSUIRKdU6A_I"
      }
    },
    {
      "cell_type": "markdown",
      "source": [
        "### Dados Balanceados"
      ],
      "metadata": {
        "id": "R7SLNLtI7IpG"
      }
    },
    {
      "cell_type": "code",
      "source": [
        "modelo = LinearSVC()\n",
        "modelo.fit(X_train_r, y_train_r['Heart_Disease'])\n",
        "previsoes = modelo.predict(X_test_r)"
      ],
      "metadata": {
        "colab": {
          "base_uri": "https://localhost:8080/"
        },
        "id": "8MikjJQa6CHx",
        "outputId": "e9319987-314f-44bb-d7c7-e1d200afee36"
      },
      "execution_count": 25,
      "outputs": [
        {
          "output_type": "stream",
          "name": "stderr",
          "text": [
            "/usr/local/lib/python3.10/dist-packages/sklearn/svm/_base.py:1244: ConvergenceWarning: Liblinear failed to converge, increase the number of iterations.\n",
            "  warnings.warn(\n"
          ]
        }
      ]
    },
    {
      "cell_type": "markdown",
      "source": [
        "#### Métricas"
      ],
      "metadata": {
        "id": "Orw27IBtC3Fr"
      }
    },
    {
      "cell_type": "markdown",
      "source": [
        "- Acurácia"
      ],
      "metadata": {
        "id": "vQT4xjYyC5Wt"
      }
    },
    {
      "cell_type": "code",
      "source": [
        "print('Acurácia')\n",
        "taxa_de_acerto = accuracy_score(y_test_r['Heart_Disease'], previsoes)\n",
        "print(\"Taxa de acerto %.2f\" % (taxa_de_acerto * 100))\n",
        "\n",
        "print(10*'=====')\n",
        "\n",
        "print('Precisão')\n",
        "print(\"Precisão: %.20f\" %(precision_score(y_test_r['Heart_Disease'], previsoes)))\n",
        "\n",
        "print(10*'=====')\n",
        "print('Recall')\n",
        "print(recall_score(y_test_r['Heart_Disease'], previsoes))\n",
        "\n",
        "print(10*'=====')\n",
        "print('Matriz de Confusão:')\n",
        "print(confusion_matrix(y_test_r['Heart_Disease'], previsoes))"
      ],
      "metadata": {
        "colab": {
          "base_uri": "https://localhost:8080/"
        },
        "id": "vp6KwSgj9D6o",
        "outputId": "3c2e8a16-acda-486e-850f-3b9573e5f905"
      },
      "execution_count": 26,
      "outputs": [
        {
          "output_type": "stream",
          "name": "stdout",
          "text": [
            "Acurácia\n",
            "Taxa de acerto 50.69\n",
            "==================================================\n",
            "Precisão\n",
            "Precisão: 0.91705069124423965743\n",
            "==================================================\n",
            "Recall\n",
            "0.017488739975832144\n",
            "==================================================\n",
            "Matriz de Confusão:\n",
            "[[45257    72]\n",
            " [44719   796]]\n"
          ]
        }
      ]
    },
    {
      "cell_type": "markdown",
      "source": [
        "-"
      ],
      "metadata": {
        "id": "7n-4a1z-C-ao"
      }
    },
    {
      "cell_type": "markdown",
      "source": [
        "### Dados não balanceados"
      ],
      "metadata": {
        "id": "LGqhNyt17NtT"
      }
    },
    {
      "cell_type": "code",
      "source": [
        "modelo = LinearSVC()\n",
        "modelo.fit(X_train, y_train['Heart_Disease'])\n",
        "previsoes = modelo.predict(X_test)"
      ],
      "metadata": {
        "colab": {
          "base_uri": "https://localhost:8080/"
        },
        "id": "Jv_CV4J67RuN",
        "outputId": "ddc29baa-12cd-4a59-8749-cd333b93f65e"
      },
      "execution_count": 27,
      "outputs": [
        {
          "output_type": "stream",
          "name": "stderr",
          "text": [
            "/usr/local/lib/python3.10/dist-packages/sklearn/svm/_base.py:1244: ConvergenceWarning: Liblinear failed to converge, increase the number of iterations.\n",
            "  warnings.warn(\n"
          ]
        }
      ]
    },
    {
      "cell_type": "markdown",
      "source": [
        "#### Métricas"
      ],
      "metadata": {
        "id": "G4tALjAjEiiS"
      }
    },
    {
      "cell_type": "code",
      "source": [
        "print('Acurácia')\n",
        "taxa_de_acerto = accuracy_score(y_test['Heart_Disease'], previsoes)\n",
        "print(\"Taxa de acerto %.2f\" % (taxa_de_acerto * 100))\n",
        "\n",
        "print(10*'=====')\n",
        "\n",
        "print('Precisão')\n",
        "print(\"Precisão: %.2f\" %(precision_score(y_test['Heart_Disease'], previsoes)))\n",
        "\n",
        "print(10*'=====')\n",
        "print('Recall')\n",
        "print(recall_score(y_test['Heart_Disease'], previsoes))\n",
        "\n",
        "print(10*'=====')\n",
        "print('Matriz de Confusão:')\n",
        "print(confusion_matrix(y_test['Heart_Disease'], previsoes))"
      ],
      "metadata": {
        "colab": {
          "base_uri": "https://localhost:8080/"
        },
        "id": "COohd-XfEnhU",
        "outputId": "9beb0a5d-d7f3-4689-e558-431893a9b45c"
      },
      "execution_count": 28,
      "outputs": [
        {
          "output_type": "stream",
          "name": "stdout",
          "text": [
            "Acurácia\n",
            "Taxa de acerto 91.96\n",
            "==================================================\n",
            "Precisão\n",
            "Precisão: 0.59\n",
            "==================================================\n",
            "Recall\n",
            "0.017810686411847108\n",
            "==================================================\n",
            "Matriz de Confusão:\n",
            "[[56713    61]\n",
            " [ 4908    89]]\n"
          ]
        }
      ]
    },
    {
      "cell_type": "markdown",
      "source": [
        "## BernoulliNB"
      ],
      "metadata": {
        "id": "aThxUndAAiVi"
      }
    },
    {
      "cell_type": "code",
      "source": [
        "bnb = BernoulliNB()"
      ],
      "metadata": {
        "id": "4YYWZtj-AhL_"
      },
      "execution_count": 34,
      "outputs": []
    },
    {
      "cell_type": "markdown",
      "source": [
        "### Dados Balanceados"
      ],
      "metadata": {
        "id": "awB5Z-irAjk1"
      }
    },
    {
      "cell_type": "code",
      "source": [
        "bnb.fit(X_train_r, y_train_r['Heart_Disease'])\n",
        "predito_BNb = bnb.predict(X_test_r)"
      ],
      "metadata": {
        "id": "nsP00AovApBj"
      },
      "execution_count": 35,
      "outputs": []
    },
    {
      "cell_type": "markdown",
      "source": [
        "#### Métricas"
      ],
      "metadata": {
        "id": "sVmxrV4yE2GV"
      }
    },
    {
      "cell_type": "code",
      "source": [
        "print('Acurácia')\n",
        "taxa_de_acerto = accuracy_score(y_test_r['Heart_Disease'], predito_BNb)\n",
        "print(\"Taxa de acerto %.2f\" % (taxa_de_acerto * 100))\n",
        "\n",
        "print(10*'=====')\n",
        "\n",
        "print('Precisão')\n",
        "print(\"Precisão: %.20f\" %(precision_score(y_test_r['Heart_Disease'], predito_BNb)))\n",
        "\n",
        "print(10*'=====')\n",
        "print('Recall')\n",
        "print(recall_score(y_test_r['Heart_Disease'], predito_BNb))\n",
        "\n",
        "print(10*'=====')\n",
        "print('Matriz de Confusão:')\n",
        "print(confusion_matrix(y_test_r['Heart_Disease'], predito_BNb))"
      ],
      "metadata": {
        "colab": {
          "base_uri": "https://localhost:8080/"
        },
        "id": "TbdJHT8TE4Ad",
        "outputId": "8f3ac6cc-e5af-432a-ac6e-65bf223a5be4"
      },
      "execution_count": 36,
      "outputs": [
        {
          "output_type": "stream",
          "name": "stdout",
          "text": [
            "Acurácia\n",
            "Taxa de acerto 74.26\n",
            "==================================================\n",
            "Precisão\n",
            "Precisão: 0.73663836430908735675\n",
            "==================================================\n",
            "Recall\n",
            "0.756739536416566\n",
            "==================================================\n",
            "Matriz de Confusão:\n",
            "[[33015 12314]\n",
            " [11072 34443]]\n"
          ]
        }
      ]
    },
    {
      "cell_type": "markdown",
      "source": [
        "### Não Balanceados"
      ],
      "metadata": {
        "id": "rsmGi4DKBsMR"
      }
    },
    {
      "cell_type": "code",
      "source": [
        "#treinar o modelo\n",
        "bnb.fit(X_train, y_train['Heart_Disease'])\n",
        "predito_BNb = bnb.predict(X_test)\n",
        "\n",
        "taxa_de_acerto = accuracy_score(y_test['Heart_Disease'], predito_BNb)\n",
        "print(\"Taxa de acerto %.2f\" % (taxa_de_acerto * 100))"
      ],
      "metadata": {
        "colab": {
          "base_uri": "https://localhost:8080/"
        },
        "id": "iLSDmkqjBfMY",
        "outputId": "70435bcc-1039-4234-d11f-9851c58cc237"
      },
      "execution_count": 37,
      "outputs": [
        {
          "output_type": "stream",
          "name": "stdout",
          "text": [
            "Taxa de acerto 86.68\n"
          ]
        }
      ]
    },
    {
      "cell_type": "markdown",
      "source": [
        "#### Métricas"
      ],
      "metadata": {
        "id": "pHy06fiBFBW5"
      }
    },
    {
      "cell_type": "code",
      "source": [
        "print('Acurácia')\n",
        "taxa_de_acerto = accuracy_score(y_test['Heart_Disease'], predito_BNb)\n",
        "print(\"Taxa de acerto %.2f\" % (taxa_de_acerto * 100))\n",
        "\n",
        "print(10*'=====')\n",
        "\n",
        "print('Precisão')\n",
        "print(\"Precisão: %.20f\" %(precision_score(y_test['Heart_Disease'], predito_BNb)))\n",
        "\n",
        "print(10*'=====')\n",
        "print('Recall')\n",
        "print(recall_score(y_test['Heart_Disease'], predito_BNb))\n",
        "\n",
        "print(10*'=====')\n",
        "print('Matriz de Confusão:')\n",
        "print(confusion_matrix(y_test['Heart_Disease'], predito_BNb))"
      ],
      "metadata": {
        "colab": {
          "base_uri": "https://localhost:8080/"
        },
        "id": "U4ICQN1NFC6o",
        "outputId": "0bb61ced-5dfe-4cbf-fe98-abfa51858db0"
      },
      "execution_count": 38,
      "outputs": [
        {
          "output_type": "stream",
          "name": "stdout",
          "text": [
            "Acurácia\n",
            "Taxa de acerto 86.68\n",
            "==================================================\n",
            "Precisão\n",
            "Precisão: 0.28160064891172098545\n",
            "==================================================\n",
            "Recall\n",
            "0.4168501100660396\n",
            "==================================================\n",
            "Matriz de Confusão:\n",
            "[[51460  5314]\n",
            " [ 2914  2083]]\n"
          ]
        }
      ]
    },
    {
      "cell_type": "markdown",
      "source": [
        "## DTC"
      ],
      "metadata": {
        "id": "s2TK-YwoB8y3"
      }
    },
    {
      "cell_type": "code",
      "source": [
        "dtc = DecisionTreeClassifier(criterion='entropy', random_state=42)"
      ],
      "metadata": {
        "id": "inxEFEipB-Jd"
      },
      "execution_count": 42,
      "outputs": []
    },
    {
      "cell_type": "markdown",
      "source": [
        "### Dados Balanceados"
      ],
      "metadata": {
        "id": "S_nfiZatCChG"
      }
    },
    {
      "cell_type": "code",
      "source": [
        "dtc.fit(X_train_r, y_train_r['Heart_Disease'])\n",
        "predito_ArvoreDecisao_r = dtc.predict(X_test_r)"
      ],
      "metadata": {
        "id": "r_xA2T2hCAKy"
      },
      "execution_count": 43,
      "outputs": []
    },
    {
      "cell_type": "markdown",
      "source": [
        "#### Métricas"
      ],
      "metadata": {
        "id": "7V1KkubYFb4N"
      }
    },
    {
      "cell_type": "code",
      "source": [
        "print('Acurácia')\n",
        "taxa_de_acerto = accuracy_score(y_test_r['Heart_Disease'], predito_ArvoreDecisao_r)\n",
        "print(\"Taxa de acerto %.2f\" % (taxa_de_acerto * 100))\n",
        "\n",
        "print(10*'=====')\n",
        "\n",
        "print('Precisão')\n",
        "print(\"Precisão: %.20f\" %(precision_score(y_test_r['Heart_Disease'], predito_ArvoreDecisao_r)))\n",
        "\n",
        "print(10*'=====')\n",
        "print('Recall')\n",
        "print(recall_score(y_test_r['Heart_Disease'], predito_ArvoreDecisao_r))\n",
        "\n",
        "print(10*'=====')\n",
        "print('Matriz de Confusão:')\n",
        "print(confusion_matrix(y_test_r['Heart_Disease'], predito_ArvoreDecisao_r))"
      ],
      "metadata": {
        "colab": {
          "base_uri": "https://localhost:8080/"
        },
        "id": "Ttz0AWm2FdSo",
        "outputId": "73f9dc56-b781-46d7-ad64-4f528a2754c2"
      },
      "execution_count": 44,
      "outputs": [
        {
          "output_type": "stream",
          "name": "stdout",
          "text": [
            "Acurácia\n",
            "Taxa de acerto 95.67\n",
            "==================================================\n",
            "Precisão\n",
            "Precisão: 0.92042467138523764714\n",
            "==================================================\n",
            "Recall\n",
            "1.0\n",
            "==================================================\n",
            "Matriz de Confusão:\n",
            "[[41394  3935]\n",
            " [    0 45515]]\n"
          ]
        }
      ]
    },
    {
      "cell_type": "markdown",
      "source": [
        "Acurácia\n",
        "Taxa de acerto 92.69\n",
        "==================================================\n",
        "Precisão\n",
        "Precisão: 0.92355133262143962458\n",
        "==================================================\n",
        "Recall\n",
        "0.9310996374821487\n",
        "==================================================\n",
        "Matriz de Confusão:\n",
        "[[41821  3508]\n",
        " [ 3136 42379]]"
      ],
      "metadata": {
        "id": "v1gjW9R54R47"
      }
    },
    {
      "cell_type": "markdown",
      "source": [
        "### Não balanceados"
      ],
      "metadata": {
        "id": "SUEpbs6QCb0T"
      }
    },
    {
      "cell_type": "code",
      "source": [
        "dtc.fit(X_train, y_train['Heart_Disease'])\n",
        "predito_ArvoreDecisao = dtc.predict(X_test)"
      ],
      "metadata": {
        "id": "11n-C9I1CZfP"
      },
      "execution_count": 20,
      "outputs": []
    },
    {
      "cell_type": "markdown",
      "source": [
        "#### Métricas"
      ],
      "metadata": {
        "id": "Mc8LmKv1FkUr"
      }
    },
    {
      "cell_type": "code",
      "source": [
        "print('Acurácia')\n",
        "taxa_de_acerto = accuracy_score(y_test['Heart_Disease'], predito_ArvoreDecisao)\n",
        "print(\"Taxa de acerto %.2f\" % (taxa_de_acerto * 100))\n",
        "\n",
        "print(10*'=====')\n",
        "\n",
        "print('Precisão')\n",
        "print(\"Precisão: %.20f\" %(precision_score(y_test['Heart_Disease'], predito_ArvoreDecisao)))\n",
        "\n",
        "print(10*'=====')\n",
        "print('Recall')\n",
        "print(recall_score(y_test['Heart_Disease'], predito_ArvoreDecisao))\n",
        "\n",
        "print(10*'=====')\n",
        "print('Matriz de Confusão:')\n",
        "print(confusion_matrix(y_test['Heart_Disease'], predito_ArvoreDecisao))"
      ],
      "metadata": {
        "colab": {
          "base_uri": "https://localhost:8080/"
        },
        "id": "olVtNYDRCgqo",
        "outputId": "c4d5ed9b-d67f-483d-9553-594e85804cf4"
      },
      "execution_count": 21,
      "outputs": [
        {
          "output_type": "stream",
          "name": "stdout",
          "text": [
            "Acurácia\n",
            "Taxa de acerto 86.77\n",
            "==================================================\n",
            "Precisão\n",
            "Precisão: 0.20672455200443376477\n",
            "==================================================\n",
            "Recall\n",
            "0.22393436061636982\n",
            "==================================================\n",
            "Matriz de Confusão:\n",
            "[[52480  4294]\n",
            " [ 3878  1119]]\n"
          ]
        }
      ]
    },
    {
      "cell_type": "markdown",
      "source": [
        "## Escolha do modelos"
      ],
      "metadata": {
        "id": "t093uC8tGGCw"
      }
    },
    {
      "cell_type": "markdown",
      "source": [
        "1. **Acurácia:** Percentual e vezes em que o modelo acertou. Embora seja fácil de entender, a acurácia pode não ser a melhor métrica em todos os cenários, especialmente quando as classes estão desbalanceadas.\n",
        "\n",
        "2. **Recall (Sensibilidade ou Taxa de Verdadeiros Positivos):** O recall mede a proporção de exemplos positivos reais que foram corretamente classificados como positivos pelo modelo. É sobre pegar tudo o que é positivo. Quanto do \"positivo\" real o modelo capturou?\n",
        "\n",
        "3. **Precisão:** Em outras palavras, é a capacidade do modelo de não classificar erroneamente exemplos negativos como positivos. É sobre não se enganar quando diz que é positivo. Quanto do que o modelo diz ser positivo realmente é positivo? Exemplo: Dizer que uma moeda é justa e ela realmente ser justa.\n",
        "\n",
        "4. **Matriz de Confusão:** A matriz de confusão é uma tabela que apresenta um resumo das classificações feitas pelo modelo, comparando essas classificações com os resultados reais. Ela é especialmente útil para entender o desempenho do modelo em diferentes classes. A matriz de confusão é composta por quatro valores:\n",
        "  - Verdadeiros Positivos (VP): Exemplos positivos corretamente classificados como positivos.\n",
        "  - Verdadeiros Negativos (VN): Exemplos negativos corretamente classificados como negativos.\n",
        "  - Falsos Positivos (FP): Exemplos negativos erroneamente classificados como positivos.\n",
        "  - Falsos Negativos (FN): Exemplos positivos erroneamente classificados como negativos.\n",
        "\n",
        "Em resumo:\n",
        "Pense em um teste de bola de futebol:\n",
        "- **Acurácia:** Quantas vezes o jogador acertou os chutes?\n",
        "- **Recall:** Quantas vezes o jogador pegou a bola quando ela estava vindo em sua direção?\n",
        "- **Precisão:** Quantas vezes o jogador disse que ia marcar um gol e realmente marcou?\n",
        "- **Matriz de Confusão:** Quantas vezes o jogador achou que a bola iria para a esquerda, mas foi para a direita, e vice-versa?"
      ],
      "metadata": {
        "id": "1aoeL1uyGIzW"
      }
    },
    {
      "cell_type": "code",
      "source": [
        "print('Acurácia')\n",
        "taxa_de_acerto = accuracy_score(y_test_r['Heart_Disease'], predito_ArvoreDecisao_r)\n",
        "print(\"Taxa de acerto %.2f\" % (taxa_de_acerto * 100))\n",
        "\n",
        "print(10*'=====')\n",
        "\n",
        "print('Precisão')\n",
        "print(\"Precisão: %.20f\" %(precision_score(y_test_r['Heart_Disease'], predito_ArvoreDecisao_r)))\n",
        "\n",
        "print(10*'=====')\n",
        "print('Recall')\n",
        "print(recall_score(y_test_r['Heart_Disease'], predito_ArvoreDecisao_r))\n",
        "\n",
        "print(10*'=====')\n",
        "print('Matriz de Confusão:')\n",
        "print(confusion_matrix(y_test_r['Heart_Disease'], predito_ArvoreDecisao_r))"
      ],
      "metadata": {
        "colab": {
          "base_uri": "https://localhost:8080/"
        },
        "id": "mK2npmDCF_ha",
        "outputId": "3bb428eb-45f7-4388-90d7-ab3df855b26c"
      },
      "execution_count": null,
      "outputs": [
        {
          "output_type": "stream",
          "name": "stdout",
          "text": [
            "Acurácia\n",
            "Taxa de acerto 92.69\n",
            "==================================================\n",
            "Precisão\n",
            "Precisão: 0.92355133262143962458\n",
            "==================================================\n",
            "Recall\n",
            "0.9310996374821487\n",
            "==================================================\n",
            "Matriz de Confusão:\n",
            "[[41821  3508]\n",
            " [ 3136 42379]]\n"
          ]
        }
      ]
    },
    {
      "cell_type": "markdown",
      "source": [
        "  - Tendo como base as métricas listadas e explicadas anteriosmente, o melhor modelo para este caso é o modelo de `Árvore de decisão` com `dados balanceados`"
      ],
      "metadata": {
        "id": "nO_1QenTJkFm"
      }
    },
    {
      "cell_type": "markdown",
      "source": [
        "## Exportando o modelo"
      ],
      "metadata": {
        "id": "uYwYC0QMJ9AT"
      }
    },
    {
      "cell_type": "code",
      "source": [
        "filename = 'dtc_model_cdr_r.pkl'\n",
        "\n",
        "with open(filename, 'wb') as file:\n",
        "    pickle.dump(dtc, file)"
      ],
      "metadata": {
        "id": "Ouzg2ZEEAjir"
      },
      "execution_count": 45,
      "outputs": []
    },
    {
      "cell_type": "code",
      "source": [],
      "metadata": {
        "id": "DohazzGJ7Fko"
      },
      "execution_count": null,
      "outputs": []
    }
  ]
}