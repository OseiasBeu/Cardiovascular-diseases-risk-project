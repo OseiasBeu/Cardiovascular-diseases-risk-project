{
  "nbformat": 4,
  "nbformat_minor": 0,
  "metadata": {
    "colab": {
      "provenance": [],
      "authorship_tag": "ABX9TyMq2HbafLSu1lXcAN0rHR8F",
      "include_colab_link": true
    },
    "kernelspec": {
      "name": "python3",
      "display_name": "Python 3"
    },
    "language_info": {
      "name": "python"
    }
  },
  "cells": [
    {
      "cell_type": "markdown",
      "metadata": {
        "id": "view-in-github",
        "colab_type": "text"
      },
      "source": [
        "<a href=\"https://colab.research.google.com/github/OseiasBeu/Cardiovascular-diseases-risk-project/blob/main/ML_Cardiovascular_diseases_risk_prediction.ipynb\" target=\"_parent\"><img src=\"https://colab.research.google.com/assets/colab-badge.svg\" alt=\"Open In Colab\"/></a>"
      ]
    },
    {
      "cell_type": "markdown",
      "source": [
        "## Libs"
      ],
      "metadata": {
        "id": "IgiVwoqFKSp7"
      }
    },
    {
      "cell_type": "code",
      "execution_count": 52,
      "metadata": {
        "id": "UQMLNB-s3Ulz"
      },
      "outputs": [],
      "source": [
        "#Leitura do dataset\n",
        "import requests\n",
        "import zipfile\n",
        "import io\n",
        "import os\n",
        "import numpy as np\n",
        "import pandas as pd\n",
        "\n",
        "#Modelos\n",
        "from sklearn.svm import LinearSVC\n",
        "from sklearn.naive_bayes import BernoulliNB\n",
        "from sklearn.tree import DecisionTreeClassifier\n",
        "\n",
        "#Métricas\n",
        "from sklearn.metrics import accuracy_score\n",
        "from sklearn.metrics import confusion_matrix\n",
        "from sklearn.metrics import precision_score\n",
        "from sklearn.metrics import recall_score\n",
        "\n",
        "# Exportação do Modelo\n",
        "import joblib"
      ]
    },
    {
      "cell_type": "markdown",
      "source": [
        "## Carregamento dos datasets"
      ],
      "metadata": {
        "id": "E-U4k6Yx4Khm"
      }
    },
    {
      "cell_type": "code",
      "source": [
        "# URL do arquivo ZIP\n",
        "url = \"https://github.com/OseiasBeu/Cardiovascular-diseases-risk-project/raw/main/dataset.zip\"\n",
        "\n",
        "# Diretório onde deseja extrair o conteúdo do arquivo zip\n",
        "diretorio_destino = '/content/dataset/'\n",
        "\n",
        "# Faz o download do arquivo ZIP\n",
        "response = requests.get(url)\n",
        "zip_file = io.BytesIO(response.content)\n",
        "\n",
        "# Verifica se o diretório de destino existe, senão cria\n",
        "if not os.path.exists(diretorio_destino):\n",
        "    os.makedirs(diretorio_destino)\n",
        "\n",
        "# Descompacta o arquivo zip\n",
        "with zipfile.ZipFile(zip_file, 'r') as zip_ref:\n",
        "    zip_ref.extractall(diretorio_destino)\n"
      ],
      "metadata": {
        "id": "JE8ez1bC3bza"
      },
      "execution_count": 2,
      "outputs": []
    },
    {
      "cell_type": "code",
      "source": [
        "X_train_r = pd.read_csv('/content/dataset/dataset/X_train_r_cdr.csv',sep=';')\n",
        "y_train_r = pd.read_csv('/content/dataset/dataset/y_train_r_cdr.csv',sep=';')\n",
        "\n",
        "X_test_r = pd.read_csv('/content/dataset/dataset/X_test_r_cdr.csv',sep=';')\n",
        "y_test_r = pd.read_csv('/content/dataset/dataset/y_teste_r_cdr.csv',sep=';')\n",
        "\n",
        "X_train = pd.read_csv('/content/dataset/dataset/X_train_cdr.csv',sep=';')\n",
        "y_train = pd.read_csv('/content/dataset/dataset/y_train_cdr.csv',sep=';')\n",
        "\n",
        "X_test = pd.read_csv('/content/dataset/dataset/X_test_cdr.csv',sep=';')\n",
        "y_test = pd.read_csv('/content/dataset/dataset/y_teste_cdr.csv',sep=';')"
      ],
      "metadata": {
        "id": "BrZx1HpQ3eFD"
      },
      "execution_count": 8,
      "outputs": []
    },
    {
      "cell_type": "markdown",
      "source": [
        "## Linear SVC"
      ],
      "metadata": {
        "id": "FSUIRKdU6A_I"
      }
    },
    {
      "cell_type": "markdown",
      "source": [
        "### Dados Balanceados"
      ],
      "metadata": {
        "id": "R7SLNLtI7IpG"
      }
    },
    {
      "cell_type": "code",
      "source": [
        "modelo = LinearSVC()\n",
        "modelo.fit(X_train_r, y_train_r['Heart_Disease'])\n",
        "previsoes = modelo.predict(X_test_r)"
      ],
      "metadata": {
        "colab": {
          "base_uri": "https://localhost:8080/"
        },
        "id": "8MikjJQa6CHx",
        "outputId": "76766d67-b888-4876-aab8-f127038119c2"
      },
      "execution_count": 30,
      "outputs": [
        {
          "output_type": "stream",
          "name": "stderr",
          "text": [
            "/usr/local/lib/python3.10/dist-packages/sklearn/svm/_base.py:1244: ConvergenceWarning: Liblinear failed to converge, increase the number of iterations.\n",
            "  warnings.warn(\n"
          ]
        }
      ]
    },
    {
      "cell_type": "markdown",
      "source": [
        "#### Métricas"
      ],
      "metadata": {
        "id": "Orw27IBtC3Fr"
      }
    },
    {
      "cell_type": "markdown",
      "source": [
        "- Acurácia"
      ],
      "metadata": {
        "id": "vQT4xjYyC5Wt"
      }
    },
    {
      "cell_type": "code",
      "source": [
        "print('Acurácia')\n",
        "taxa_de_acerto = accuracy_score(y_test_r['Heart_Disease'], previsoes)\n",
        "print(\"Taxa de acerto %.2f\" % (taxa_de_acerto * 100))\n",
        "\n",
        "print(10*'=====')\n",
        "\n",
        "print('Precisão')\n",
        "print(\"Precisão: %.20f\" %(precision_score(y_test_r['Heart_Disease'], previsoes)))\n",
        "\n",
        "print(10*'=====')\n",
        "print('Recall')\n",
        "print(recall_score(y_test_r['Heart_Disease'], previsoes))\n",
        "\n",
        "print(10*'=====')\n",
        "print('Matriz de Confusão:')\n",
        "print(confusion_matrix(y_test_r['Heart_Disease'], previsoes))"
      ],
      "metadata": {
        "colab": {
          "base_uri": "https://localhost:8080/"
        },
        "id": "vp6KwSgj9D6o",
        "outputId": "93c60648-bc16-4737-dbfc-8cbcefa87f62"
      },
      "execution_count": 35,
      "outputs": [
        {
          "output_type": "stream",
          "name": "stdout",
          "text": [
            "Acurácia\n",
            "Taxa de acerto 49.90\n",
            "==================================================\n",
            "Precisão\n",
            "Precisão: 0.00000000000000000000\n",
            "==================================================\n",
            "Recall\n",
            "0.0\n",
            "==================================================\n",
            "Matriz de Confusão:\n",
            "[[45329     0]\n",
            " [45515     0]]\n"
          ]
        },
        {
          "output_type": "stream",
          "name": "stderr",
          "text": [
            "/usr/local/lib/python3.10/dist-packages/sklearn/metrics/_classification.py:1344: UndefinedMetricWarning: Precision is ill-defined and being set to 0.0 due to no predicted samples. Use `zero_division` parameter to control this behavior.\n",
            "  _warn_prf(average, modifier, msg_start, len(result))\n"
          ]
        }
      ]
    },
    {
      "cell_type": "markdown",
      "source": [
        "-"
      ],
      "metadata": {
        "id": "7n-4a1z-C-ao"
      }
    },
    {
      "cell_type": "markdown",
      "source": [
        "### Dados não balanceados"
      ],
      "metadata": {
        "id": "LGqhNyt17NtT"
      }
    },
    {
      "cell_type": "code",
      "source": [
        "modelo = LinearSVC()\n",
        "modelo.fit(X_train, y_train['Heart_Disease'])\n",
        "previsoes = modelo.predict(X_test)"
      ],
      "metadata": {
        "colab": {
          "base_uri": "https://localhost:8080/"
        },
        "id": "Jv_CV4J67RuN",
        "outputId": "fb377cde-d789-4411-e64a-752f1086bc40"
      },
      "execution_count": 36,
      "outputs": [
        {
          "output_type": "stream",
          "name": "stderr",
          "text": [
            "/usr/local/lib/python3.10/dist-packages/sklearn/svm/_base.py:1244: ConvergenceWarning: Liblinear failed to converge, increase the number of iterations.\n",
            "  warnings.warn(\n"
          ]
        }
      ]
    },
    {
      "cell_type": "markdown",
      "source": [
        "#### Métricas"
      ],
      "metadata": {
        "id": "G4tALjAjEiiS"
      }
    },
    {
      "cell_type": "code",
      "source": [
        "print('Acurácia')\n",
        "taxa_de_acerto = accuracy_score(y_test['Heart_Disease'], previsoes)\n",
        "print(\"Taxa de acerto %.2f\" % (taxa_de_acerto * 100))\n",
        "\n",
        "print(10*'=====')\n",
        "\n",
        "print('Precisão')\n",
        "print(\"Precisão: %.2f\" %(precision_score(y_test['Heart_Disease'], previsoes)))\n",
        "\n",
        "print(10*'=====')\n",
        "print('Recall')\n",
        "print(recall_score(y_test['Heart_Disease'], previsoes))\n",
        "\n",
        "print(10*'=====')\n",
        "print('Matriz de Confusão:')\n",
        "print(confusion_matrix(y_test['Heart_Disease'], previsoes))"
      ],
      "metadata": {
        "colab": {
          "base_uri": "https://localhost:8080/"
        },
        "id": "COohd-XfEnhU",
        "outputId": "7399e394-5f74-439a-e658-62b9009715c1"
      },
      "execution_count": 38,
      "outputs": [
        {
          "output_type": "stream",
          "name": "stdout",
          "text": [
            "Acurácia\n",
            "Taxa de acerto 91.90\n",
            "==================================================\n",
            "Precisão\n",
            "Precisão: 0.48\n",
            "==================================================\n",
            "Recall\n",
            "0.010006003602161296\n",
            "==================================================\n",
            "Matriz de Confusão:\n",
            "[[56719    55]\n",
            " [ 4947    50]]\n"
          ]
        }
      ]
    },
    {
      "cell_type": "markdown",
      "source": [
        "## BernoulliNB"
      ],
      "metadata": {
        "id": "aThxUndAAiVi"
      }
    },
    {
      "cell_type": "code",
      "source": [
        "bnb = BernoulliNB()"
      ],
      "metadata": {
        "id": "4YYWZtj-AhL_"
      },
      "execution_count": 39,
      "outputs": []
    },
    {
      "cell_type": "markdown",
      "source": [
        "### Dados Balanceados"
      ],
      "metadata": {
        "id": "awB5Z-irAjk1"
      }
    },
    {
      "cell_type": "code",
      "source": [
        "bnb.fit(X_train_r, y_train_r['Heart_Disease'])\n",
        "predito_BNb = bnb.predict(X_test_r)"
      ],
      "metadata": {
        "id": "nsP00AovApBj"
      },
      "execution_count": 40,
      "outputs": []
    },
    {
      "cell_type": "markdown",
      "source": [
        "#### Métricas"
      ],
      "metadata": {
        "id": "sVmxrV4yE2GV"
      }
    },
    {
      "cell_type": "code",
      "source": [
        "print('Acurácia')\n",
        "taxa_de_acerto = accuracy_score(y_test_r['Heart_Disease'], predito_BNb)\n",
        "print(\"Taxa de acerto %.2f\" % (taxa_de_acerto * 100))\n",
        "\n",
        "print(10*'=====')\n",
        "\n",
        "print('Precisão')\n",
        "print(\"Precisão: %.20f\" %(precision_score(y_test_r['Heart_Disease'], predito_BNb)))\n",
        "\n",
        "print(10*'=====')\n",
        "print('Recall')\n",
        "print(recall_score(y_test_r['Heart_Disease'], predito_BNb))\n",
        "\n",
        "print(10*'=====')\n",
        "print('Matriz de Confusão:')\n",
        "print(confusion_matrix(y_test_r['Heart_Disease'], predito_BNb))"
      ],
      "metadata": {
        "colab": {
          "base_uri": "https://localhost:8080/"
        },
        "id": "TbdJHT8TE4Ad",
        "outputId": "5353b642-67ee-4045-de93-d09c70ed02ef"
      },
      "execution_count": 41,
      "outputs": [
        {
          "output_type": "stream",
          "name": "stdout",
          "text": [
            "Acurácia\n",
            "Taxa de acerto 74.26\n",
            "==================================================\n",
            "Precisão\n",
            "Precisão: 0.73663836430908735675\n",
            "==================================================\n",
            "Recall\n",
            "0.756739536416566\n",
            "==================================================\n",
            "Matriz de Confusão:\n",
            "[[33015 12314]\n",
            " [11072 34443]]\n"
          ]
        }
      ]
    },
    {
      "cell_type": "markdown",
      "source": [
        "### Não Balanceados"
      ],
      "metadata": {
        "id": "rsmGi4DKBsMR"
      }
    },
    {
      "cell_type": "code",
      "source": [
        "#treinar o modelo\n",
        "bnb.fit(X_train, y_train['Heart_Disease'])\n",
        "predito_BNb = bnb.predict(X_test)\n",
        "\n",
        "taxa_de_acerto = accuracy_score(y_test['Heart_Disease'], predito_BNb)\n",
        "print(\"Taxa de acerto %.2f\" % (taxa_de_acerto * 100))"
      ],
      "metadata": {
        "colab": {
          "base_uri": "https://localhost:8080/"
        },
        "id": "iLSDmkqjBfMY",
        "outputId": "3fbbe901-d605-4191-c0d5-81ccffa9e7b2"
      },
      "execution_count": 42,
      "outputs": [
        {
          "output_type": "stream",
          "name": "stdout",
          "text": [
            "Taxa de acerto 86.68\n"
          ]
        }
      ]
    },
    {
      "cell_type": "markdown",
      "source": [
        "#### Métricas"
      ],
      "metadata": {
        "id": "pHy06fiBFBW5"
      }
    },
    {
      "cell_type": "code",
      "source": [
        "print('Acurácia')\n",
        "taxa_de_acerto = accuracy_score(y_test['Heart_Disease'], predito_BNb)\n",
        "print(\"Taxa de acerto %.2f\" % (taxa_de_acerto * 100))\n",
        "\n",
        "print(10*'=====')\n",
        "\n",
        "print('Precisão')\n",
        "print(\"Precisão: %.20f\" %(precision_score(y_test['Heart_Disease'], predito_BNb)))\n",
        "\n",
        "print(10*'=====')\n",
        "print('Recall')\n",
        "print(recall_score(y_test['Heart_Disease'], predito_BNb))\n",
        "\n",
        "print(10*'=====')\n",
        "print('Matriz de Confusão:')\n",
        "print(confusion_matrix(y_test['Heart_Disease'], predito_BNb))"
      ],
      "metadata": {
        "colab": {
          "base_uri": "https://localhost:8080/"
        },
        "id": "U4ICQN1NFC6o",
        "outputId": "cfe3e7fa-4c8b-42e8-e2e1-067ed37b6f95"
      },
      "execution_count": 43,
      "outputs": [
        {
          "output_type": "stream",
          "name": "stdout",
          "text": [
            "Acurácia\n",
            "Taxa de acerto 86.68\n",
            "==================================================\n",
            "Precisão\n",
            "Precisão: 0.28156258448229248836\n",
            "==================================================\n",
            "Recall\n",
            "0.4168501100660396\n",
            "==================================================\n",
            "Matriz de Confusão:\n",
            "[[51459  5315]\n",
            " [ 2914  2083]]\n"
          ]
        }
      ]
    },
    {
      "cell_type": "markdown",
      "source": [
        "## DTC"
      ],
      "metadata": {
        "id": "s2TK-YwoB8y3"
      }
    },
    {
      "cell_type": "code",
      "source": [
        "dtc = DecisionTreeClassifier(criterion='entropy', random_state=42)"
      ],
      "metadata": {
        "id": "inxEFEipB-Jd"
      },
      "execution_count": 44,
      "outputs": []
    },
    {
      "cell_type": "markdown",
      "source": [
        "### Dados Balanceados"
      ],
      "metadata": {
        "id": "S_nfiZatCChG"
      }
    },
    {
      "cell_type": "code",
      "source": [
        "dtc.fit(X_train_r, y_train_r['Heart_Disease'])\n",
        "predito_ArvoreDecisao_r = dtc.predict(X_test_r)"
      ],
      "metadata": {
        "id": "r_xA2T2hCAKy"
      },
      "execution_count": 49,
      "outputs": []
    },
    {
      "cell_type": "markdown",
      "source": [
        "#### Métricas"
      ],
      "metadata": {
        "id": "7V1KkubYFb4N"
      }
    },
    {
      "cell_type": "code",
      "source": [
        "print('Acurácia')\n",
        "taxa_de_acerto = accuracy_score(y_test_r['Heart_Disease'], predito_ArvoreDecisao_r)\n",
        "print(\"Taxa de acerto %.2f\" % (taxa_de_acerto * 100))\n",
        "\n",
        "print(10*'=====')\n",
        "\n",
        "print('Precisão')\n",
        "print(\"Precisão: %.20f\" %(precision_score(y_test_r['Heart_Disease'], predito_ArvoreDecisao_r)))\n",
        "\n",
        "print(10*'=====')\n",
        "print('Recall')\n",
        "print(recall_score(y_test_r['Heart_Disease'], predito_ArvoreDecisao_r))\n",
        "\n",
        "print(10*'=====')\n",
        "print('Matriz de Confusão:')\n",
        "print(confusion_matrix(y_test_r['Heart_Disease'], predito_ArvoreDecisao_r))"
      ],
      "metadata": {
        "colab": {
          "base_uri": "https://localhost:8080/"
        },
        "id": "Ttz0AWm2FdSo",
        "outputId": "4a015d1b-63fd-4b68-9275-f9ea20ca5310"
      },
      "execution_count": 50,
      "outputs": [
        {
          "output_type": "stream",
          "name": "stdout",
          "text": [
            "Acurácia\n",
            "Taxa de acerto 92.69\n",
            "==================================================\n",
            "Precisão\n",
            "Precisão: 0.92355133262143962458\n",
            "==================================================\n",
            "Recall\n",
            "0.9310996374821487\n",
            "==================================================\n",
            "Matriz de Confusão:\n",
            "[[41821  3508]\n",
            " [ 3136 42379]]\n"
          ]
        }
      ]
    },
    {
      "cell_type": "markdown",
      "source": [
        "### Não balanceados"
      ],
      "metadata": {
        "id": "SUEpbs6QCb0T"
      }
    },
    {
      "cell_type": "code",
      "source": [
        "dtc.fit(X_train, y_train['Heart_Disease'])\n",
        "predito_ArvoreDecisao = dtc.predict(X_test)"
      ],
      "metadata": {
        "id": "11n-C9I1CZfP"
      },
      "execution_count": 47,
      "outputs": []
    },
    {
      "cell_type": "markdown",
      "source": [
        "#### Métricas"
      ],
      "metadata": {
        "id": "Mc8LmKv1FkUr"
      }
    },
    {
      "cell_type": "code",
      "source": [
        "print('Acurácia')\n",
        "taxa_de_acerto = accuracy_score(y_test['Heart_Disease'], predito_ArvoreDecisao)\n",
        "print(\"Taxa de acerto %.2f\" % (taxa_de_acerto * 100))\n",
        "\n",
        "print(10*'=====')\n",
        "\n",
        "print('Precisão')\n",
        "print(\"Precisão: %.20f\" %(precision_score(y_test['Heart_Disease'], predito_ArvoreDecisao)))\n",
        "\n",
        "print(10*'=====')\n",
        "print('Recall')\n",
        "print(recall_score(y_test['Heart_Disease'], predito_ArvoreDecisao))\n",
        "\n",
        "print(10*'=====')\n",
        "print('Matriz de Confusão:')\n",
        "print(confusion_matrix(y_test['Heart_Disease'], predito_ArvoreDecisao))"
      ],
      "metadata": {
        "colab": {
          "base_uri": "https://localhost:8080/"
        },
        "id": "olVtNYDRCgqo",
        "outputId": "c79c2fe7-3b4f-41b1-a6b2-e50761d0ac97"
      },
      "execution_count": 48,
      "outputs": [
        {
          "output_type": "stream",
          "name": "stdout",
          "text": [
            "Acurácia\n",
            "Taxa de acerto 86.77\n",
            "==================================================\n",
            "Precisão\n",
            "Precisão: 0.21003649635036497623\n",
            "==================================================\n",
            "Recall\n",
            "0.23033820292175305\n",
            "==================================================\n",
            "Matriz de Confusão:\n",
            "[[52445  4329]\n",
            " [ 3846  1151]]\n"
          ]
        }
      ]
    },
    {
      "cell_type": "markdown",
      "source": [
        "## Escolha do modelos"
      ],
      "metadata": {
        "id": "t093uC8tGGCw"
      }
    },
    {
      "cell_type": "markdown",
      "source": [
        "1. **Acurácia:** Percentual e vezes em que o modelo acertou. Embora seja fácil de entender, a acurácia pode não ser a melhor métrica em todos os cenários, especialmente quando as classes estão desbalanceadas.\n",
        "\n",
        "2. **Recall (Sensibilidade ou Taxa de Verdadeiros Positivos):** O recall mede a proporção de exemplos positivos reais que foram corretamente classificados como positivos pelo modelo. É sobre pegar tudo o que é positivo. Quanto do \"positivo\" real o modelo capturou?\n",
        "\n",
        "3. **Precisão:** Em outras palavras, é a capacidade do modelo de não classificar erroneamente exemplos negativos como positivos. É sobre não se enganar quando diz que é positivo. Quanto do que o modelo diz ser positivo realmente é positivo? Exemplo: Dizer que uma moeda é justa e ela realmente ser justa.\n",
        "\n",
        "4. **Matriz de Confusão:** A matriz de confusão é uma tabela que apresenta um resumo das classificações feitas pelo modelo, comparando essas classificações com os resultados reais. Ela é especialmente útil para entender o desempenho do modelo em diferentes classes. A matriz de confusão é composta por quatro valores:\n",
        "  - Verdadeiros Positivos (VP): Exemplos positivos corretamente classificados como positivos.\n",
        "  - Verdadeiros Negativos (VN): Exemplos negativos corretamente classificados como negativos.\n",
        "  - Falsos Positivos (FP): Exemplos negativos erroneamente classificados como positivos.\n",
        "  - Falsos Negativos (FN): Exemplos positivos erroneamente classificados como negativos.\n",
        "\n",
        "Em resumo:\n",
        "Pense em um teste de bola de futebol:\n",
        "- **Acurácia:** Quantas vezes o jogador acertou os chutes?\n",
        "- **Recall:** Quantas vezes o jogador pegou a bola quando ela estava vindo em sua direção?\n",
        "- **Precisão:** Quantas vezes o jogador disse que ia marcar um gol e realmente marcou?\n",
        "- **Matriz de Confusão:** Quantas vezes o jogador achou que a bola iria para a esquerda, mas foi para a direita, e vice-versa?"
      ],
      "metadata": {
        "id": "1aoeL1uyGIzW"
      }
    },
    {
      "cell_type": "code",
      "source": [
        "print('Acurácia')\n",
        "taxa_de_acerto = accuracy_score(y_test_r['Heart_Disease'], predito_ArvoreDecisao_r)\n",
        "print(\"Taxa de acerto %.2f\" % (taxa_de_acerto * 100))\n",
        "\n",
        "print(10*'=====')\n",
        "\n",
        "print('Precisão')\n",
        "print(\"Precisão: %.20f\" %(precision_score(y_test_r['Heart_Disease'], predito_ArvoreDecisao_r)))\n",
        "\n",
        "print(10*'=====')\n",
        "print('Recall')\n",
        "print(recall_score(y_test_r['Heart_Disease'], predito_ArvoreDecisao_r))\n",
        "\n",
        "print(10*'=====')\n",
        "print('Matriz de Confusão:')\n",
        "print(confusion_matrix(y_test_r['Heart_Disease'], predito_ArvoreDecisao_r))"
      ],
      "metadata": {
        "colab": {
          "base_uri": "https://localhost:8080/"
        },
        "id": "mK2npmDCF_ha",
        "outputId": "3bb428eb-45f7-4388-90d7-ab3df855b26c"
      },
      "execution_count": 51,
      "outputs": [
        {
          "output_type": "stream",
          "name": "stdout",
          "text": [
            "Acurácia\n",
            "Taxa de acerto 92.69\n",
            "==================================================\n",
            "Precisão\n",
            "Precisão: 0.92355133262143962458\n",
            "==================================================\n",
            "Recall\n",
            "0.9310996374821487\n",
            "==================================================\n",
            "Matriz de Confusão:\n",
            "[[41821  3508]\n",
            " [ 3136 42379]]\n"
          ]
        }
      ]
    },
    {
      "cell_type": "markdown",
      "source": [
        "  - Tendo como base as métricas listadas e explicadas anteriosmente, o melhor modelo para este caso é o modelo de `Árvore de decisão` com `dados balanceados`"
      ],
      "metadata": {
        "id": "nO_1QenTJkFm"
      }
    },
    {
      "cell_type": "markdown",
      "source": [
        "## Exportando o modelo"
      ],
      "metadata": {
        "id": "uYwYC0QMJ9AT"
      }
    },
    {
      "cell_type": "code",
      "source": [
        "filename = 'dtc_model_cdr_r.pkl'\n",
        "\n",
        "# Exportar o modelo para o arquivo .pkl\n",
        "joblib.dump(dtc, filename)\n",
        "\n",
        "print(f\"Modelo de árvore de decisão exportado para {filename}\")"
      ],
      "metadata": {
        "colab": {
          "base_uri": "https://localhost:8080/"
        },
        "id": "azoCauMxJ2iv",
        "outputId": "27647034-35b3-48ab-f4c3-34d1f3a78d90"
      },
      "execution_count": 53,
      "outputs": [
        {
          "output_type": "stream",
          "name": "stdout",
          "text": [
            "Modelo de árvore de decisão exportado para dtc_model_cdr_r.pkl\n"
          ]
        }
      ]
    }
  ]
}