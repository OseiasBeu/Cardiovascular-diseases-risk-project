{
  "nbformat": 4,
  "nbformat_minor": 0,
  "metadata": {
    "colab": {
      "provenance": [],
      "authorship_tag": "ABX9TyOML0J2qPUMfP2m4g3yx3cV",
      "include_colab_link": true
    },
    "kernelspec": {
      "name": "python3",
      "display_name": "Python 3"
    },
    "language_info": {
      "name": "python"
    }
  },
  "cells": [
    {
      "cell_type": "markdown",
      "metadata": {
        "id": "view-in-github",
        "colab_type": "text"
      },
      "source": [
        "<a href=\"https://colab.research.google.com/github/OseiasBeu/Cardiovascular-diseases-risk-project/blob/main/Pipeline_Cardiovascular_diseases_risk_prediction.ipynb\" target=\"_parent\"><img src=\"https://colab.research.google.com/assets/colab-badge.svg\" alt=\"Open In Colab\"/></a>"
      ]
    },
    {
      "cell_type": "code",
      "execution_count": 1,
      "metadata": {
        "id": "lb9iWHxMuj6x"
      },
      "outputs": [],
      "source": [
        "import pandas as pd\n",
        "from collections import Counter\n",
        "from imblearn.over_sampling import RandomOverSampler\n",
        "from sklearn.model_selection import train_test_split\n",
        "from sklearn.pipeline import Pipeline\n",
        "import requests\n",
        "import zipfile\n",
        "import io\n",
        "import os\n",
        "import numpy as np\n",
        "import pickle"
      ]
    },
    {
      "cell_type": "code",
      "source": [
        "def model_download(file_url,file_name):\n",
        "  response = requests.get(file_url)\n",
        "\n",
        "  # Verifique se a solicitação foi bem-sucedida\n",
        "  if response.status_code == 200:\n",
        "      # Salve o arquivo no disco\n",
        "      with open(file_name, 'wb') as file:\n",
        "          file.write(response.content)\n",
        "      print(f'O arquivo foi baixado com sucesso e salvo como {file_name}')\n",
        "  else:\n",
        "      print(f'Erro ao fazer o download do arquivo. Status Code: {response.status_code}')"
      ],
      "metadata": {
        "id": "TUdu3QK5MrIa"
      },
      "execution_count": 2,
      "outputs": []
    },
    {
      "cell_type": "code",
      "source": [
        "file_url = 'https://github.com/OseiasBeu/Cardiovascular-diseases-risk-project/raw/main/model/final_dtc_model_cdr_r.pkl'\n",
        "file_name = 'final_dtc_model_cdr_r.pkl'\n",
        "model_download(file_url,file_name)\n",
        "\n",
        "# file_url = 'https://github.com/OseiasBeu/Cardiovascular-diseases-risk-project/blob/main/model/bnb_model_cdr.pkl'\n",
        "file_url = 'https://github.com/OseiasBeu/Cardiovascular-diseases-risk-project/blob/main/model/final_bnb_model_cdr.pkl'\n",
        "file_name = 'final_bnb_model_cdr.pkl'\n",
        "model_download(file_url,file_name)\n"
      ],
      "metadata": {
        "id": "doS6bY-ZMtRF",
        "outputId": "b15ee2bf-8acf-4943-c1e5-5a9ffbdccbdd",
        "colab": {
          "base_uri": "https://localhost:8080/"
        }
      },
      "execution_count": 21,
      "outputs": [
        {
          "output_type": "stream",
          "name": "stdout",
          "text": [
            "O arquivo foi baixado com sucesso e salvo como final_dtc_model_cdr_r.pkl\n",
            "O arquivo foi baixado com sucesso e salvo como final_bnb_model_cdr.pkl\n"
          ]
        }
      ]
    },
    {
      "cell_type": "code",
      "source": [
        "mock_data = {\n",
        "    'General_Health': 'Poor',\n",
        "    'Checkup': 'Within the past year',\n",
        "    'Exercise': 'Yes',\n",
        "    'Skin_Cancer': 'No',\n",
        "    'Other_Cancer': 'No',\n",
        "    'Depression': 'No',\n",
        "    'Diabetes': 'No',\n",
        "    'Arthritis': 'No',\n",
        "    'Sex': 'Female',\n",
        "    'Age_Category': '70-74',\n",
        "    'Height_(cm)': 150.0,\n",
        "    'Weight_(kg)': 32.66,\n",
        "    'BMI': 14.54,\n",
        "    'Smoking_History': 'Yes',\n",
        "    'Alcohol_Consumption': 0.0,\n",
        "    'Fruit_Consumption': 30.0,\n",
        "    'Green_Vegetables_Consumption': 16.0,\n",
        "    'FriedPotato_Consumption': 12.0\n",
        "    }"
      ],
      "metadata": {
        "id": "G6wKI6bl9Q5j"
      },
      "execution_count": 4,
      "outputs": []
    },
    {
      "cell_type": "code",
      "source": [
        "data = pd.DataFrame([mock_data])\n",
        "data.head()"
      ],
      "metadata": {
        "colab": {
          "base_uri": "https://localhost:8080/",
          "height": 136
        },
        "id": "hNr7fWc_9rct",
        "outputId": "a5218834-68b4-4e34-a7cc-fd9dd72a3ead"
      },
      "execution_count": 5,
      "outputs": [
        {
          "output_type": "execute_result",
          "data": {
            "text/plain": [
              "  General_Health               Checkup Exercise Skin_Cancer Other_Cancer  \\\n",
              "0           Poor  Within the past year      Yes          No           No   \n",
              "\n",
              "  Depression Diabetes Arthritis     Sex Age_Category  Height_(cm)  \\\n",
              "0         No       No        No  Female        70-74        150.0   \n",
              "\n",
              "   Weight_(kg)    BMI Smoking_History  Alcohol_Consumption  Fruit_Consumption  \\\n",
              "0        32.66  14.54             Yes                  0.0               30.0   \n",
              "\n",
              "   Green_Vegetables_Consumption  FriedPotato_Consumption  \n",
              "0                          16.0                     12.0  "
            ],
            "text/html": [
              "\n",
              "  <div id=\"df-9b45e2ee-627c-4f7e-9d3c-662a84424330\" class=\"colab-df-container\">\n",
              "    <div>\n",
              "<style scoped>\n",
              "    .dataframe tbody tr th:only-of-type {\n",
              "        vertical-align: middle;\n",
              "    }\n",
              "\n",
              "    .dataframe tbody tr th {\n",
              "        vertical-align: top;\n",
              "    }\n",
              "\n",
              "    .dataframe thead th {\n",
              "        text-align: right;\n",
              "    }\n",
              "</style>\n",
              "<table border=\"1\" class=\"dataframe\">\n",
              "  <thead>\n",
              "    <tr style=\"text-align: right;\">\n",
              "      <th></th>\n",
              "      <th>General_Health</th>\n",
              "      <th>Checkup</th>\n",
              "      <th>Exercise</th>\n",
              "      <th>Skin_Cancer</th>\n",
              "      <th>Other_Cancer</th>\n",
              "      <th>Depression</th>\n",
              "      <th>Diabetes</th>\n",
              "      <th>Arthritis</th>\n",
              "      <th>Sex</th>\n",
              "      <th>Age_Category</th>\n",
              "      <th>Height_(cm)</th>\n",
              "      <th>Weight_(kg)</th>\n",
              "      <th>BMI</th>\n",
              "      <th>Smoking_History</th>\n",
              "      <th>Alcohol_Consumption</th>\n",
              "      <th>Fruit_Consumption</th>\n",
              "      <th>Green_Vegetables_Consumption</th>\n",
              "      <th>FriedPotato_Consumption</th>\n",
              "    </tr>\n",
              "  </thead>\n",
              "  <tbody>\n",
              "    <tr>\n",
              "      <th>0</th>\n",
              "      <td>Poor</td>\n",
              "      <td>Within the past year</td>\n",
              "      <td>Yes</td>\n",
              "      <td>No</td>\n",
              "      <td>No</td>\n",
              "      <td>No</td>\n",
              "      <td>No</td>\n",
              "      <td>No</td>\n",
              "      <td>Female</td>\n",
              "      <td>70-74</td>\n",
              "      <td>150.0</td>\n",
              "      <td>32.66</td>\n",
              "      <td>14.54</td>\n",
              "      <td>Yes</td>\n",
              "      <td>0.0</td>\n",
              "      <td>30.0</td>\n",
              "      <td>16.0</td>\n",
              "      <td>12.0</td>\n",
              "    </tr>\n",
              "  </tbody>\n",
              "</table>\n",
              "</div>\n",
              "    <div class=\"colab-df-buttons\">\n",
              "\n",
              "  <div class=\"colab-df-container\">\n",
              "    <button class=\"colab-df-convert\" onclick=\"convertToInteractive('df-9b45e2ee-627c-4f7e-9d3c-662a84424330')\"\n",
              "            title=\"Convert this dataframe to an interactive table.\"\n",
              "            style=\"display:none;\">\n",
              "\n",
              "  <svg xmlns=\"http://www.w3.org/2000/svg\" height=\"24px\" viewBox=\"0 -960 960 960\">\n",
              "    <path d=\"M120-120v-720h720v720H120Zm60-500h600v-160H180v160Zm220 220h160v-160H400v160Zm0 220h160v-160H400v160ZM180-400h160v-160H180v160Zm440 0h160v-160H620v160ZM180-180h160v-160H180v160Zm440 0h160v-160H620v160Z\"/>\n",
              "  </svg>\n",
              "    </button>\n",
              "\n",
              "  <style>\n",
              "    .colab-df-container {\n",
              "      display:flex;\n",
              "      gap: 12px;\n",
              "    }\n",
              "\n",
              "    .colab-df-convert {\n",
              "      background-color: #E8F0FE;\n",
              "      border: none;\n",
              "      border-radius: 50%;\n",
              "      cursor: pointer;\n",
              "      display: none;\n",
              "      fill: #1967D2;\n",
              "      height: 32px;\n",
              "      padding: 0 0 0 0;\n",
              "      width: 32px;\n",
              "    }\n",
              "\n",
              "    .colab-df-convert:hover {\n",
              "      background-color: #E2EBFA;\n",
              "      box-shadow: 0px 1px 2px rgba(60, 64, 67, 0.3), 0px 1px 3px 1px rgba(60, 64, 67, 0.15);\n",
              "      fill: #174EA6;\n",
              "    }\n",
              "\n",
              "    .colab-df-buttons div {\n",
              "      margin-bottom: 4px;\n",
              "    }\n",
              "\n",
              "    [theme=dark] .colab-df-convert {\n",
              "      background-color: #3B4455;\n",
              "      fill: #D2E3FC;\n",
              "    }\n",
              "\n",
              "    [theme=dark] .colab-df-convert:hover {\n",
              "      background-color: #434B5C;\n",
              "      box-shadow: 0px 1px 3px 1px rgba(0, 0, 0, 0.15);\n",
              "      filter: drop-shadow(0px 1px 2px rgba(0, 0, 0, 0.3));\n",
              "      fill: #FFFFFF;\n",
              "    }\n",
              "  </style>\n",
              "\n",
              "    <script>\n",
              "      const buttonEl =\n",
              "        document.querySelector('#df-9b45e2ee-627c-4f7e-9d3c-662a84424330 button.colab-df-convert');\n",
              "      buttonEl.style.display =\n",
              "        google.colab.kernel.accessAllowed ? 'block' : 'none';\n",
              "\n",
              "      async function convertToInteractive(key) {\n",
              "        const element = document.querySelector('#df-9b45e2ee-627c-4f7e-9d3c-662a84424330');\n",
              "        const dataTable =\n",
              "          await google.colab.kernel.invokeFunction('convertToInteractive',\n",
              "                                                    [key], {});\n",
              "        if (!dataTable) return;\n",
              "\n",
              "        const docLinkHtml = 'Like what you see? Visit the ' +\n",
              "          '<a target=\"_blank\" href=https://colab.research.google.com/notebooks/data_table.ipynb>data table notebook</a>'\n",
              "          + ' to learn more about interactive tables.';\n",
              "        element.innerHTML = '';\n",
              "        dataTable['output_type'] = 'display_data';\n",
              "        await google.colab.output.renderOutput(dataTable, element);\n",
              "        const docLink = document.createElement('div');\n",
              "        docLink.innerHTML = docLinkHtml;\n",
              "        element.appendChild(docLink);\n",
              "      }\n",
              "    </script>\n",
              "  </div>\n",
              "\n",
              "    </div>\n",
              "  </div>\n"
            ]
          },
          "metadata": {},
          "execution_count": 5
        }
      ]
    },
    {
      "cell_type": "code",
      "source": [
        "mapper_hd = {\n",
        "    'No':0,\n",
        "    'Yes':1,\n",
        "    np.nan: 1\n",
        "}\n",
        "\n",
        "mapper_sex = {\n",
        "    'Female':0,\n",
        "    'Male':1,\n",
        "    np.nan: 1\n",
        "}"
      ],
      "metadata": {
        "id": "jfmm87DX1bGw"
      },
      "execution_count": 6,
      "outputs": []
    },
    {
      "cell_type": "code",
      "source": [
        "# data['Heart_Disease'] = data['Heart_Disease'].map(mapper_hd,na_action=None)\n",
        "data['Sex'] = data['Sex'].map(mapper_sex,na_action=None)\n",
        "data['Exercise'] = data['Exercise'].map(mapper_hd,na_action=None)\n",
        "data['Skin_Cancer'] = data['Skin_Cancer'].map(mapper_hd,na_action=None)\n",
        "data['Other_Cancer'] = data['Other_Cancer'].map(mapper_hd,na_action=None)\n",
        "data['Depression'] = data['Depression'].map(mapper_hd,na_action=None)\n",
        "data['Arthritis'] = data['Arthritis'].map(mapper_hd,na_action=None)\n",
        "data['Smoking_History'] = data['Smoking_History'].map(mapper_hd,na_action=None)"
      ],
      "metadata": {
        "id": "xDqeEoCc1dOJ"
      },
      "execution_count": 7,
      "outputs": []
    },
    {
      "cell_type": "code",
      "source": [
        "data.loc[data['Checkup'] == 'Within the past year', 'last_Checkup_years'] = '<1'\n",
        "data.loc[data['Checkup'] == 'Within the past 2 years', 'last_Checkup_years'] = '<2'\n",
        "data.loc[data['Checkup'] == 'Within the past 5 years', 'last_Checkup_years'] = '<5'\n",
        "data.loc[data['Checkup'] == '5 or more years ago', 'last_Checkup_years'] = '>5'\n",
        "data.loc[data['Checkup'] == 'Never', 'last_Checkup_years'] = 'Never'"
      ],
      "metadata": {
        "id": "pm0oQGC83g6X"
      },
      "execution_count": 8,
      "outputs": []
    },
    {
      "cell_type": "code",
      "source": [
        "data.loc[data['Diabetes'] == 'No', 'diabetes?'] = 'No'\n",
        "data.loc[data['Diabetes'] == 'Yes', 'diabetes?'] = 'Yes'\n",
        "data.loc[data['Diabetes'] == 'No, pre-diabetes or borderline diabetes', 'diabetes?'] = 'Pre_diabetes_boderline'\n",
        "data.loc[data['Diabetes'] == 'Yes, but female told only during pregnancy', 'diabetes?'] = 'Yes_scovered_in_pregnancy'"
      ],
      "metadata": {
        "id": "hgecAIka3nq2"
      },
      "execution_count": 9,
      "outputs": []
    },
    {
      "cell_type": "code",
      "source": [
        "one_hot = pd.get_dummies(data[['General_Health','Age_Category','last_Checkup_years', 'diabetes?']])\n",
        "data = data.drop(['General_Health', 'Age_Category','last_Checkup_years','diabetes?','Checkup','Diabetes'],axis = 1)\n",
        "df = data.join(one_hot)"
      ],
      "metadata": {
        "id": "OkWLkTu08qBi"
      },
      "execution_count": 10,
      "outputs": []
    },
    {
      "cell_type": "code",
      "source": [
        "columns_Age = [\n",
        "            'Age_Category_18-24', 'Age_Category_25-29',\n",
        "            'Age_Category_30-34', 'Age_Category_35-39', 'Age_Category_40-44',\n",
        "            'Age_Category_45-49', 'Age_Category_50-54', 'Age_Category_55-59',\n",
        "            'Age_Category_60-64', 'Age_Category_65-69', 'Age_Category_70-74',\n",
        "            'Age_Category_75-79', 'Age_Category_80+'\n",
        "            ]"
      ],
      "metadata": {
        "id": "dtWjknjHwmTc"
      },
      "execution_count": 11,
      "outputs": []
    },
    {
      "cell_type": "code",
      "source": [
        "columns_GeneralHealth = [\n",
        "            'General_Health_Excellent', 'General_Health_Fair',\n",
        "            'General_Health_Good', 'General_Health_Poor',\n",
        "            'General_Health_Very Good'\n",
        "          ]"
      ],
      "metadata": {
        "id": "Y3rh7XIsyoH4"
      },
      "execution_count": 12,
      "outputs": []
    },
    {
      "cell_type": "code",
      "source": [
        "columns_last_checkup = [\n",
        "                        'last_Checkup_years_<1',\n",
        "                        'last_Checkup_years_<2', 'last_Checkup_years_<5',\n",
        "                        'last_Checkup_years_>5', 'last_Checkup_years_Never'\n",
        "                        ]"
      ],
      "metadata": {
        "id": "E-19Otk6zTl9"
      },
      "execution_count": 13,
      "outputs": []
    },
    {
      "cell_type": "code",
      "source": [
        "columns_diabetes = [\n",
        "                    'diabetes?_No',\n",
        "                    'diabetes?_Pre_diabetes_boderline', 'diabetes?_Yes',\n",
        "                    'diabetes?_Yes_scovered_in_pregnancy'\n",
        "                    ]"
      ],
      "metadata": {
        "id": "adVOiHYYz4Am"
      },
      "execution_count": 14,
      "outputs": []
    },
    {
      "cell_type": "code",
      "source": [
        "def create_features_with_zero(columns):\n",
        "  for column in columns:\n",
        "    if column not in df.columns:\n",
        "      df[column] = 0"
      ],
      "metadata": {
        "id": "NaZ-D-mlzDzW"
      },
      "execution_count": 15,
      "outputs": []
    },
    {
      "cell_type": "code",
      "source": [
        "create_features_with_zero(columns_Age)\n",
        "create_features_with_zero(columns_last_checkup)\n",
        "create_features_with_zero(columns_GeneralHealth)\n",
        "create_features_with_zero(columns_diabetes)"
      ],
      "metadata": {
        "id": "Y1O11_-mzlz3"
      },
      "execution_count": 16,
      "outputs": []
    },
    {
      "cell_type": "code",
      "source": [
        "df.head()"
      ],
      "metadata": {
        "id": "D8G9WkYW1wwH",
        "outputId": "2fb3791a-56e0-46a1-d4f0-ee4522cc1585",
        "colab": {
          "base_uri": "https://localhost:8080/",
          "height": 148
        }
      },
      "execution_count": 17,
      "outputs": [
        {
          "output_type": "execute_result",
          "data": {
            "text/plain": [
              "   Exercise  Skin_Cancer  Other_Cancer  Depression  Arthritis  Sex  \\\n",
              "0         1            0             0           0          0    0   \n",
              "\n",
              "   Height_(cm)  Weight_(kg)    BMI  Smoking_History  ...  \\\n",
              "0        150.0        32.66  14.54                1  ...   \n",
              "\n",
              "   last_Checkup_years_<5  last_Checkup_years_>5  last_Checkup_years_Never  \\\n",
              "0                      0                      0                         0   \n",
              "\n",
              "   General_Health_Excellent  General_Health_Fair  General_Health_Good  \\\n",
              "0                         0                    0                    0   \n",
              "\n",
              "   General_Health_Very Good  diabetes?_Pre_diabetes_boderline  diabetes?_Yes  \\\n",
              "0                         0                                 0              0   \n",
              "\n",
              "   diabetes?_Yes_scovered_in_pregnancy  \n",
              "0                                    0  \n",
              "\n",
              "[1 rows x 41 columns]"
            ],
            "text/html": [
              "\n",
              "  <div id=\"df-784c005b-27f3-4269-8672-64da009ca71c\" class=\"colab-df-container\">\n",
              "    <div>\n",
              "<style scoped>\n",
              "    .dataframe tbody tr th:only-of-type {\n",
              "        vertical-align: middle;\n",
              "    }\n",
              "\n",
              "    .dataframe tbody tr th {\n",
              "        vertical-align: top;\n",
              "    }\n",
              "\n",
              "    .dataframe thead th {\n",
              "        text-align: right;\n",
              "    }\n",
              "</style>\n",
              "<table border=\"1\" class=\"dataframe\">\n",
              "  <thead>\n",
              "    <tr style=\"text-align: right;\">\n",
              "      <th></th>\n",
              "      <th>Exercise</th>\n",
              "      <th>Skin_Cancer</th>\n",
              "      <th>Other_Cancer</th>\n",
              "      <th>Depression</th>\n",
              "      <th>Arthritis</th>\n",
              "      <th>Sex</th>\n",
              "      <th>Height_(cm)</th>\n",
              "      <th>Weight_(kg)</th>\n",
              "      <th>BMI</th>\n",
              "      <th>Smoking_History</th>\n",
              "      <th>...</th>\n",
              "      <th>last_Checkup_years_&lt;5</th>\n",
              "      <th>last_Checkup_years_&gt;5</th>\n",
              "      <th>last_Checkup_years_Never</th>\n",
              "      <th>General_Health_Excellent</th>\n",
              "      <th>General_Health_Fair</th>\n",
              "      <th>General_Health_Good</th>\n",
              "      <th>General_Health_Very Good</th>\n",
              "      <th>diabetes?_Pre_diabetes_boderline</th>\n",
              "      <th>diabetes?_Yes</th>\n",
              "      <th>diabetes?_Yes_scovered_in_pregnancy</th>\n",
              "    </tr>\n",
              "  </thead>\n",
              "  <tbody>\n",
              "    <tr>\n",
              "      <th>0</th>\n",
              "      <td>1</td>\n",
              "      <td>0</td>\n",
              "      <td>0</td>\n",
              "      <td>0</td>\n",
              "      <td>0</td>\n",
              "      <td>0</td>\n",
              "      <td>150.0</td>\n",
              "      <td>32.66</td>\n",
              "      <td>14.54</td>\n",
              "      <td>1</td>\n",
              "      <td>...</td>\n",
              "      <td>0</td>\n",
              "      <td>0</td>\n",
              "      <td>0</td>\n",
              "      <td>0</td>\n",
              "      <td>0</td>\n",
              "      <td>0</td>\n",
              "      <td>0</td>\n",
              "      <td>0</td>\n",
              "      <td>0</td>\n",
              "      <td>0</td>\n",
              "    </tr>\n",
              "  </tbody>\n",
              "</table>\n",
              "<p>1 rows × 41 columns</p>\n",
              "</div>\n",
              "    <div class=\"colab-df-buttons\">\n",
              "\n",
              "  <div class=\"colab-df-container\">\n",
              "    <button class=\"colab-df-convert\" onclick=\"convertToInteractive('df-784c005b-27f3-4269-8672-64da009ca71c')\"\n",
              "            title=\"Convert this dataframe to an interactive table.\"\n",
              "            style=\"display:none;\">\n",
              "\n",
              "  <svg xmlns=\"http://www.w3.org/2000/svg\" height=\"24px\" viewBox=\"0 -960 960 960\">\n",
              "    <path d=\"M120-120v-720h720v720H120Zm60-500h600v-160H180v160Zm220 220h160v-160H400v160Zm0 220h160v-160H400v160ZM180-400h160v-160H180v160Zm440 0h160v-160H620v160ZM180-180h160v-160H180v160Zm440 0h160v-160H620v160Z\"/>\n",
              "  </svg>\n",
              "    </button>\n",
              "\n",
              "  <style>\n",
              "    .colab-df-container {\n",
              "      display:flex;\n",
              "      gap: 12px;\n",
              "    }\n",
              "\n",
              "    .colab-df-convert {\n",
              "      background-color: #E8F0FE;\n",
              "      border: none;\n",
              "      border-radius: 50%;\n",
              "      cursor: pointer;\n",
              "      display: none;\n",
              "      fill: #1967D2;\n",
              "      height: 32px;\n",
              "      padding: 0 0 0 0;\n",
              "      width: 32px;\n",
              "    }\n",
              "\n",
              "    .colab-df-convert:hover {\n",
              "      background-color: #E2EBFA;\n",
              "      box-shadow: 0px 1px 2px rgba(60, 64, 67, 0.3), 0px 1px 3px 1px rgba(60, 64, 67, 0.15);\n",
              "      fill: #174EA6;\n",
              "    }\n",
              "\n",
              "    .colab-df-buttons div {\n",
              "      margin-bottom: 4px;\n",
              "    }\n",
              "\n",
              "    [theme=dark] .colab-df-convert {\n",
              "      background-color: #3B4455;\n",
              "      fill: #D2E3FC;\n",
              "    }\n",
              "\n",
              "    [theme=dark] .colab-df-convert:hover {\n",
              "      background-color: #434B5C;\n",
              "      box-shadow: 0px 1px 3px 1px rgba(0, 0, 0, 0.15);\n",
              "      filter: drop-shadow(0px 1px 2px rgba(0, 0, 0, 0.3));\n",
              "      fill: #FFFFFF;\n",
              "    }\n",
              "  </style>\n",
              "\n",
              "    <script>\n",
              "      const buttonEl =\n",
              "        document.querySelector('#df-784c005b-27f3-4269-8672-64da009ca71c button.colab-df-convert');\n",
              "      buttonEl.style.display =\n",
              "        google.colab.kernel.accessAllowed ? 'block' : 'none';\n",
              "\n",
              "      async function convertToInteractive(key) {\n",
              "        const element = document.querySelector('#df-784c005b-27f3-4269-8672-64da009ca71c');\n",
              "        const dataTable =\n",
              "          await google.colab.kernel.invokeFunction('convertToInteractive',\n",
              "                                                    [key], {});\n",
              "        if (!dataTable) return;\n",
              "\n",
              "        const docLinkHtml = 'Like what you see? Visit the ' +\n",
              "          '<a target=\"_blank\" href=https://colab.research.google.com/notebooks/data_table.ipynb>data table notebook</a>'\n",
              "          + ' to learn more about interactive tables.';\n",
              "        element.innerHTML = '';\n",
              "        dataTable['output_type'] = 'display_data';\n",
              "        await google.colab.output.renderOutput(dataTable, element);\n",
              "        const docLink = document.createElement('div');\n",
              "        docLink.innerHTML = docLinkHtml;\n",
              "        element.appendChild(docLink);\n",
              "      }\n",
              "    </script>\n",
              "  </div>\n",
              "\n",
              "    </div>\n",
              "  </div>\n"
            ]
          },
          "metadata": {},
          "execution_count": 17
        }
      ]
    },
    {
      "cell_type": "code",
      "source": [
        "with open('bnb_model_cdr.pkl', 'rb') as file:\n",
        "    modelo_bnb = pickle.load(file)"
      ],
      "metadata": {
        "id": "4_eA1z0mOWcC"
      },
      "execution_count": 32,
      "outputs": []
    },
    {
      "cell_type": "code",
      "source": [
        "with open('final_dtc_model_cdr_r.pkl', 'rb') as file:\n",
        "    modelo_dtc = pickle.load(file)"
      ],
      "metadata": {
        "id": "pGDlpAcl0vEX"
      },
      "execution_count": 19,
      "outputs": []
    },
    {
      "cell_type": "code",
      "source": [
        "df = df[['Exercise', 'Skin_Cancer', 'Other_Cancer', 'Depression',\n",
        "       'Arthritis', 'Sex', 'Height_(cm)', 'Weight_(kg)', 'BMI',\n",
        "       'Smoking_History', 'Alcohol_Consumption', 'Fruit_Consumption',\n",
        "       'Green_Vegetables_Consumption', 'FriedPotato_Consumption',\n",
        "       'General_Health_Excellent', 'General_Health_Fair',\n",
        "       'General_Health_Good', 'General_Health_Poor',\n",
        "       'General_Health_Very Good', 'Age_Category_18-24', 'Age_Category_25-29',\n",
        "       'Age_Category_30-34', 'Age_Category_35-39', 'Age_Category_40-44',\n",
        "       'Age_Category_45-49', 'Age_Category_50-54', 'Age_Category_55-59',\n",
        "       'Age_Category_60-64', 'Age_Category_65-69', 'Age_Category_70-74',\n",
        "       'Age_Category_75-79', 'Age_Category_80+', 'last_Checkup_years_<1',\n",
        "       'last_Checkup_years_<2', 'last_Checkup_years_<5',\n",
        "       'last_Checkup_years_>5', 'last_Checkup_years_Never', 'diabetes?_No',\n",
        "       'diabetes?_Pre_diabetes_boderline', 'diabetes?_Yes',\n",
        "       'diabetes?_Yes_scovered_in_pregnancy']]"
      ],
      "metadata": {
        "id": "pWiabVXFEz_x"
      },
      "execution_count": 30,
      "outputs": []
    },
    {
      "cell_type": "code",
      "source": [
        "previsao_proba_dtc = modelo_dtc.predict_proba(df)\n",
        "previsao_dtc = modelo_dtc.predict(df)\n",
        "\n",
        "previsao_proba_bnb = modelo_bnb.predict_proba(df)\n",
        "previsao_bnb = modelo_bnb.predict(df)"
      ],
      "metadata": {
        "id": "4oIU6Dlt-aCY"
      },
      "execution_count": 33,
      "outputs": []
    },
    {
      "cell_type": "code",
      "source": [
        "print(f'''\n",
        "> DTC \\n\n",
        "Previsão DTC: {previsao_dtc} \\n\n",
        "Probabilidade DTC: {previsao_proba_dtc} \\n\n",
        "---------------------------------------\n",
        "> BNB \\n\n",
        "Previsão BNB: {previsao_bnb} \\n\n",
        "Probabilidade BNB: {previsao_proba_bnb} \\n\n",
        "\n",
        "''')"
      ],
      "metadata": {
        "id": "kxidTI3hqTJi",
        "outputId": "eb1b12ad-4d2e-41a2-d986-ae1620520430",
        "colab": {
          "base_uri": "https://localhost:8080/"
        }
      },
      "execution_count": 34,
      "outputs": [
        {
          "output_type": "stream",
          "name": "stdout",
          "text": [
            "\n",
            "> DTC \n",
            "\n",
            "Previsão DTC: [0] \n",
            "\n",
            "Probabilidade DTC: [[1. 0.]] \n",
            "\n",
            "---------------------------------------\n",
            "> BNB \n",
            "\n",
            "Previsão BNB: [0] \n",
            "\n",
            "Probabilidade BNB: [[0.69320483 0.30679517]] \n",
            "\n",
            "\n",
            "\n"
          ]
        }
      ]
    },
    {
      "cell_type": "code",
      "source": [],
      "metadata": {
        "id": "8ZgL8glYF0m2"
      },
      "execution_count": null,
      "outputs": []
    }
  ]
}