{
  "nbformat": 4,
  "nbformat_minor": 0,
  "metadata": {
    "colab": {
      "provenance": [],
      "authorship_tag": "ABX9TyOzIBZ17475CP+4rNUPDNXQ",
      "include_colab_link": true
    },
    "kernelspec": {
      "name": "python3",
      "display_name": "Python 3"
    },
    "language_info": {
      "name": "python"
    }
  },
  "cells": [
    {
      "cell_type": "markdown",
      "metadata": {
        "id": "view-in-github",
        "colab_type": "text"
      },
      "source": [
        "<a href=\"https://colab.research.google.com/github/OseiasBeu/Cardiovascular-diseases-risk-project/blob/main/Pipeline_Cardiovascular_diseases_risk_prediction.ipynb\" target=\"_parent\"><img src=\"https://colab.research.google.com/assets/colab-badge.svg\" alt=\"Open In Colab\"/></a>"
      ]
    },
    {
      "cell_type": "code",
      "execution_count": 1,
      "metadata": {
        "id": "lb9iWHxMuj6x"
      },
      "outputs": [],
      "source": [
        "import pandas as pd\n",
        "from collections import Counter\n",
        "from imblearn.over_sampling import RandomOverSampler\n",
        "from sklearn.model_selection import train_test_split\n",
        "from sklearn.pipeline import Pipeline\n",
        "import requests\n",
        "import zipfile\n",
        "import io\n",
        "import os\n",
        "import numpy as np\n",
        "import pickle"
      ]
    },
    {
      "cell_type": "code",
      "source": [
        "import requests\n",
        "\n",
        "# URL do arquivo que você deseja baixar\n",
        "file_url = 'https://github.com/OseiasBeu/Cardiovascular-diseases-risk-project/raw/main/model/final_dtc_model_cdr_r.pkl'\n",
        "\n",
        "# Nome do arquivo de destino\n",
        "file_name = 'final_dtc_model_cdr_r.pkl'\n",
        "\n",
        "# Faça o download do arquivo\n",
        "response = requests.get(file_url)\n",
        "\n",
        "# Verifique se a solicitação foi bem-sucedida\n",
        "if response.status_code == 200:\n",
        "    # Salve o arquivo no disco\n",
        "    with open(file_name, 'wb') as file:\n",
        "        file.write(response.content)\n",
        "    print(f'O arquivo foi baixado com sucesso e salvo como {file_name}')\n",
        "else:\n",
        "    print(f'Erro ao fazer o download do arquivo. Status Code: {response.status_code}')\n"
      ],
      "metadata": {
        "id": "H13zJwROqAYB",
        "outputId": "bb2b35bd-799c-4ca5-fee6-89f137bfa084",
        "colab": {
          "base_uri": "https://localhost:8080/"
        }
      },
      "execution_count": 24,
      "outputs": [
        {
          "output_type": "stream",
          "name": "stdout",
          "text": [
            "O arquivo foi baixado com sucesso e salvo como final_dtc_model_cdr_r.pkl\n"
          ]
        }
      ]
    },
    {
      "cell_type": "code",
      "source": [
        "# data = pd.read_csv('/content/dataset/dataset/CVD_cleaned.csv')"
      ],
      "metadata": {
        "id": "R3w-QRIbwofu"
      },
      "execution_count": 5,
      "outputs": []
    },
    {
      "cell_type": "code",
      "source": [
        "# data.head()"
      ],
      "metadata": {
        "id": "sEKIBT8Lwvs9"
      },
      "execution_count": 6,
      "outputs": []
    },
    {
      "cell_type": "code",
      "source": [
        "# data.columns"
      ],
      "metadata": {
        "id": "9PXO2oTExTvm"
      },
      "execution_count": 7,
      "outputs": []
    },
    {
      "cell_type": "code",
      "source": [
        "mock_data = {\n",
        "    'General_Health': 'Poor',\n",
        "    'Checkup': 'Within the past 2 years',\n",
        "    'Exercise': 'No',\n",
        "    'Skin_Cancer': 'No',\n",
        "    'Other_Cancer': 'No',\n",
        "    'Depression': 'No',\n",
        "    'Diabetes': 'No',\n",
        "    'Arthritis': 'Yes',\n",
        "    'Sex': 'Female',\n",
        "    'Age_Category': '70-74',\n",
        "    'Height_(cm)': 150.0,\n",
        "    'Weight_(kg)': 32.66,\n",
        "    'BMI': 14.54,\n",
        "    'Smoking_History': 'Yes',\n",
        "    'Alcohol_Consumption': 0.0,\n",
        "    'Fruit_Consumption': 30.0,\n",
        "    'Green_Vegetables_Consumption': 16.0,\n",
        "    'FriedPotato_Consumption': 12.0\n",
        "    }"
      ],
      "metadata": {
        "id": "G6wKI6bl9Q5j"
      },
      "execution_count": 8,
      "outputs": []
    },
    {
      "cell_type": "code",
      "source": [
        "# Transforme o dicionário em um DataFrame\n",
        "data = pd.DataFrame([mock_data])\n",
        "\n",
        "# Agora, 'df' conterá os dados do dicionário como um DataFrame\n",
        "data.head()"
      ],
      "metadata": {
        "colab": {
          "base_uri": "https://localhost:8080/",
          "height": 136
        },
        "id": "hNr7fWc_9rct",
        "outputId": "c6b75d21-a05c-4f9e-c3ee-2ad3dcdf00f7"
      },
      "execution_count": 9,
      "outputs": [
        {
          "output_type": "execute_result",
          "data": {
            "text/plain": [
              "  General_Health                  Checkup Exercise Skin_Cancer Other_Cancer  \\\n",
              "0           Poor  Within the past 2 years       No          No           No   \n",
              "\n",
              "  Depression Diabetes Arthritis     Sex Age_Category  Height_(cm)  \\\n",
              "0         No       No       Yes  Female        70-74        150.0   \n",
              "\n",
              "   Weight_(kg)    BMI Smoking_History  Alcohol_Consumption  Fruit_Consumption  \\\n",
              "0        32.66  14.54             Yes                  0.0               30.0   \n",
              "\n",
              "   Green_Vegetables_Consumption  FriedPotato_Consumption  \n",
              "0                          16.0                     12.0  "
            ],
            "text/html": [
              "\n",
              "  <div id=\"df-366cc99a-ef14-49d7-94f4-a0de292e9a85\" class=\"colab-df-container\">\n",
              "    <div>\n",
              "<style scoped>\n",
              "    .dataframe tbody tr th:only-of-type {\n",
              "        vertical-align: middle;\n",
              "    }\n",
              "\n",
              "    .dataframe tbody tr th {\n",
              "        vertical-align: top;\n",
              "    }\n",
              "\n",
              "    .dataframe thead th {\n",
              "        text-align: right;\n",
              "    }\n",
              "</style>\n",
              "<table border=\"1\" class=\"dataframe\">\n",
              "  <thead>\n",
              "    <tr style=\"text-align: right;\">\n",
              "      <th></th>\n",
              "      <th>General_Health</th>\n",
              "      <th>Checkup</th>\n",
              "      <th>Exercise</th>\n",
              "      <th>Skin_Cancer</th>\n",
              "      <th>Other_Cancer</th>\n",
              "      <th>Depression</th>\n",
              "      <th>Diabetes</th>\n",
              "      <th>Arthritis</th>\n",
              "      <th>Sex</th>\n",
              "      <th>Age_Category</th>\n",
              "      <th>Height_(cm)</th>\n",
              "      <th>Weight_(kg)</th>\n",
              "      <th>BMI</th>\n",
              "      <th>Smoking_History</th>\n",
              "      <th>Alcohol_Consumption</th>\n",
              "      <th>Fruit_Consumption</th>\n",
              "      <th>Green_Vegetables_Consumption</th>\n",
              "      <th>FriedPotato_Consumption</th>\n",
              "    </tr>\n",
              "  </thead>\n",
              "  <tbody>\n",
              "    <tr>\n",
              "      <th>0</th>\n",
              "      <td>Poor</td>\n",
              "      <td>Within the past 2 years</td>\n",
              "      <td>No</td>\n",
              "      <td>No</td>\n",
              "      <td>No</td>\n",
              "      <td>No</td>\n",
              "      <td>No</td>\n",
              "      <td>Yes</td>\n",
              "      <td>Female</td>\n",
              "      <td>70-74</td>\n",
              "      <td>150.0</td>\n",
              "      <td>32.66</td>\n",
              "      <td>14.54</td>\n",
              "      <td>Yes</td>\n",
              "      <td>0.0</td>\n",
              "      <td>30.0</td>\n",
              "      <td>16.0</td>\n",
              "      <td>12.0</td>\n",
              "    </tr>\n",
              "  </tbody>\n",
              "</table>\n",
              "</div>\n",
              "    <div class=\"colab-df-buttons\">\n",
              "\n",
              "  <div class=\"colab-df-container\">\n",
              "    <button class=\"colab-df-convert\" onclick=\"convertToInteractive('df-366cc99a-ef14-49d7-94f4-a0de292e9a85')\"\n",
              "            title=\"Convert this dataframe to an interactive table.\"\n",
              "            style=\"display:none;\">\n",
              "\n",
              "  <svg xmlns=\"http://www.w3.org/2000/svg\" height=\"24px\" viewBox=\"0 -960 960 960\">\n",
              "    <path d=\"M120-120v-720h720v720H120Zm60-500h600v-160H180v160Zm220 220h160v-160H400v160Zm0 220h160v-160H400v160ZM180-400h160v-160H180v160Zm440 0h160v-160H620v160ZM180-180h160v-160H180v160Zm440 0h160v-160H620v160Z\"/>\n",
              "  </svg>\n",
              "    </button>\n",
              "\n",
              "  <style>\n",
              "    .colab-df-container {\n",
              "      display:flex;\n",
              "      gap: 12px;\n",
              "    }\n",
              "\n",
              "    .colab-df-convert {\n",
              "      background-color: #E8F0FE;\n",
              "      border: none;\n",
              "      border-radius: 50%;\n",
              "      cursor: pointer;\n",
              "      display: none;\n",
              "      fill: #1967D2;\n",
              "      height: 32px;\n",
              "      padding: 0 0 0 0;\n",
              "      width: 32px;\n",
              "    }\n",
              "\n",
              "    .colab-df-convert:hover {\n",
              "      background-color: #E2EBFA;\n",
              "      box-shadow: 0px 1px 2px rgba(60, 64, 67, 0.3), 0px 1px 3px 1px rgba(60, 64, 67, 0.15);\n",
              "      fill: #174EA6;\n",
              "    }\n",
              "\n",
              "    .colab-df-buttons div {\n",
              "      margin-bottom: 4px;\n",
              "    }\n",
              "\n",
              "    [theme=dark] .colab-df-convert {\n",
              "      background-color: #3B4455;\n",
              "      fill: #D2E3FC;\n",
              "    }\n",
              "\n",
              "    [theme=dark] .colab-df-convert:hover {\n",
              "      background-color: #434B5C;\n",
              "      box-shadow: 0px 1px 3px 1px rgba(0, 0, 0, 0.15);\n",
              "      filter: drop-shadow(0px 1px 2px rgba(0, 0, 0, 0.3));\n",
              "      fill: #FFFFFF;\n",
              "    }\n",
              "  </style>\n",
              "\n",
              "    <script>\n",
              "      const buttonEl =\n",
              "        document.querySelector('#df-366cc99a-ef14-49d7-94f4-a0de292e9a85 button.colab-df-convert');\n",
              "      buttonEl.style.display =\n",
              "        google.colab.kernel.accessAllowed ? 'block' : 'none';\n",
              "\n",
              "      async function convertToInteractive(key) {\n",
              "        const element = document.querySelector('#df-366cc99a-ef14-49d7-94f4-a0de292e9a85');\n",
              "        const dataTable =\n",
              "          await google.colab.kernel.invokeFunction('convertToInteractive',\n",
              "                                                    [key], {});\n",
              "        if (!dataTable) return;\n",
              "\n",
              "        const docLinkHtml = 'Like what you see? Visit the ' +\n",
              "          '<a target=\"_blank\" href=https://colab.research.google.com/notebooks/data_table.ipynb>data table notebook</a>'\n",
              "          + ' to learn more about interactive tables.';\n",
              "        element.innerHTML = '';\n",
              "        dataTable['output_type'] = 'display_data';\n",
              "        await google.colab.output.renderOutput(dataTable, element);\n",
              "        const docLink = document.createElement('div');\n",
              "        docLink.innerHTML = docLinkHtml;\n",
              "        element.appendChild(docLink);\n",
              "      }\n",
              "    </script>\n",
              "  </div>\n",
              "\n",
              "    </div>\n",
              "  </div>\n"
            ]
          },
          "metadata": {},
          "execution_count": 9
        }
      ]
    },
    {
      "cell_type": "code",
      "source": [
        "mapper_hd = {\n",
        "    'No':0,\n",
        "    'Yes':1,\n",
        "    np.nan: 1\n",
        "}\n",
        "\n",
        "mapper_sex = {\n",
        "    'Female':0,\n",
        "    'Male':1,\n",
        "    np.nan: 1\n",
        "}"
      ],
      "metadata": {
        "id": "jfmm87DX1bGw"
      },
      "execution_count": 10,
      "outputs": []
    },
    {
      "cell_type": "code",
      "source": [
        "# data['Heart_Disease'] = data['Heart_Disease'].map(mapper_hd,na_action=None)\n",
        "data['Sex'] = data['Sex'].map(mapper_sex,na_action=None)\n",
        "data['Exercise'] = data['Exercise'].map(mapper_hd,na_action=None)\n",
        "data['Skin_Cancer'] = data['Skin_Cancer'].map(mapper_hd,na_action=None)\n",
        "data['Other_Cancer'] = data['Other_Cancer'].map(mapper_hd,na_action=None)\n",
        "data['Depression'] = data['Depression'].map(mapper_hd,na_action=None)\n",
        "data['Arthritis'] = data['Arthritis'].map(mapper_hd,na_action=None)\n",
        "data['Smoking_History'] = data['Smoking_History'].map(mapper_hd,na_action=None)"
      ],
      "metadata": {
        "id": "xDqeEoCc1dOJ"
      },
      "execution_count": 11,
      "outputs": []
    },
    {
      "cell_type": "code",
      "source": [
        "data.loc[data['Checkup'] == 'Within the past year', 'last_Checkup_years'] = '<1'\n",
        "data.loc[data['Checkup'] == 'Within the past 2 years', 'last_Checkup_years'] = '<2'\n",
        "data.loc[data['Checkup'] == 'Within the past 5 years', 'last_Checkup_years'] = '<5'\n",
        "data.loc[data['Checkup'] == '5 or more years ago', 'last_Checkup_years'] = '>5'\n",
        "data.loc[data['Checkup'] == 'Never', 'last_Checkup_years'] = 'Never'"
      ],
      "metadata": {
        "id": "pm0oQGC83g6X"
      },
      "execution_count": 12,
      "outputs": []
    },
    {
      "cell_type": "code",
      "source": [
        "data.loc[data['Diabetes'] == 'No', 'diabetes?'] = 'No'\n",
        "data.loc[data['Diabetes'] == 'Yes', 'diabetes?'] = 'Yes'\n",
        "data.loc[data['Diabetes'] == 'No, pre-diabetes or borderline diabetes', 'diabetes?'] = 'Pre_diabetes_boderline'\n",
        "data.loc[data['Diabetes'] == 'Yes, but female told only during pregnancy', 'diabetes?'] = 'Yes_scovered_in_pregnancy'"
      ],
      "metadata": {
        "id": "hgecAIka3nq2"
      },
      "execution_count": 13,
      "outputs": []
    },
    {
      "cell_type": "code",
      "source": [
        "# Get one hot encoding of columns\n",
        "one_hot = pd.get_dummies(data[['General_Health','Age_Category','last_Checkup_years', 'diabetes?']])\n",
        "# Drop columns as it is now encoded\n",
        "data = data.drop(['General_Health', 'Age_Category','last_Checkup_years','diabetes?','Checkup','Diabetes'],axis = 1)\n",
        "# Join the encoded df\n",
        "df = data.join(one_hot)"
      ],
      "metadata": {
        "id": "OkWLkTu08qBi"
      },
      "execution_count": 14,
      "outputs": []
    },
    {
      "cell_type": "code",
      "source": [
        "columns_Age = [\n",
        "            'Age_Category_18-24', 'Age_Category_25-29',\n",
        "            'Age_Category_30-34', 'Age_Category_35-39', 'Age_Category_40-44',\n",
        "            'Age_Category_45-49', 'Age_Category_50-54', 'Age_Category_55-59',\n",
        "            'Age_Category_60-64', 'Age_Category_65-69', 'Age_Category_70-74',\n",
        "            'Age_Category_75-79', 'Age_Category_80+'\n",
        "            ]"
      ],
      "metadata": {
        "id": "dtWjknjHwmTc"
      },
      "execution_count": 15,
      "outputs": []
    },
    {
      "cell_type": "code",
      "source": [
        "columns_GeneralHealth = [\n",
        "            'General_Health_Excellent', 'General_Health_Fair',\n",
        "            'General_Health_Good', 'General_Health_Poor',\n",
        "            'General_Health_Very Good'\n",
        "          ]"
      ],
      "metadata": {
        "id": "Y3rh7XIsyoH4"
      },
      "execution_count": 16,
      "outputs": []
    },
    {
      "cell_type": "code",
      "source": [
        "columns_last_checkup = [\n",
        "                        'last_Checkup_years_<1',\n",
        "                        'last_Checkup_years_<2', 'last_Checkup_years_<5',\n",
        "                        'last_Checkup_years_>5', 'last_Checkup_years_Never'\n",
        "                        ]"
      ],
      "metadata": {
        "id": "E-19Otk6zTl9"
      },
      "execution_count": 17,
      "outputs": []
    },
    {
      "cell_type": "code",
      "source": [
        "columns_diabetes = [\n",
        "                    'diabetes?_No',\n",
        "                    'diabetes?_Pre_diabetes_boderline', 'diabetes?_Yes',\n",
        "                    'diabetes?_Yes_scovered_in_pregnancy'\n",
        "                    ]"
      ],
      "metadata": {
        "id": "adVOiHYYz4Am"
      },
      "execution_count": 18,
      "outputs": []
    },
    {
      "cell_type": "code",
      "source": [
        "def create_features_with_zero(columns):\n",
        "  for column in columns:\n",
        "    if column not in df.columns:\n",
        "      df[column] = 0"
      ],
      "metadata": {
        "id": "NaZ-D-mlzDzW"
      },
      "execution_count": 19,
      "outputs": []
    },
    {
      "cell_type": "code",
      "source": [
        "create_features_with_zero(columns_Age)\n",
        "create_features_with_zero(columns_last_checkup)\n",
        "create_features_with_zero(columns_GeneralHealth)\n",
        "create_features_with_zero(columns_diabetes)"
      ],
      "metadata": {
        "id": "Y1O11_-mzlz3"
      },
      "execution_count": 20,
      "outputs": []
    },
    {
      "cell_type": "code",
      "source": [
        "df.head()"
      ],
      "metadata": {
        "id": "D8G9WkYW1wwH",
        "outputId": "9f66a619-f4b5-4cac-eb93-cb55ad77ce40",
        "colab": {
          "base_uri": "https://localhost:8080/",
          "height": 148
        }
      },
      "execution_count": 30,
      "outputs": [
        {
          "output_type": "execute_result",
          "data": {
            "text/plain": [
              "   Exercise  Skin_Cancer  Other_Cancer  Depression  Arthritis  Sex  \\\n",
              "0         0            0             0           0          1    0   \n",
              "\n",
              "   Height_(cm)  Weight_(kg)    BMI  Smoking_History  ...  \\\n",
              "0        150.0        32.66  14.54                1  ...   \n",
              "\n",
              "   last_Checkup_years_<5  last_Checkup_years_>5  last_Checkup_years_Never  \\\n",
              "0                      0                      0                         0   \n",
              "\n",
              "   General_Health_Excellent  General_Health_Fair  General_Health_Good  \\\n",
              "0                         0                    0                    0   \n",
              "\n",
              "   General_Health_Very Good  diabetes?_Pre_diabetes_boderline  diabetes?_Yes  \\\n",
              "0                         0                                 0              0   \n",
              "\n",
              "   diabetes?_Yes_scovered_in_pregnancy  \n",
              "0                                    0  \n",
              "\n",
              "[1 rows x 41 columns]"
            ],
            "text/html": [
              "\n",
              "  <div id=\"df-3a43a15b-b02e-43cc-93a4-30a41747a353\" class=\"colab-df-container\">\n",
              "    <div>\n",
              "<style scoped>\n",
              "    .dataframe tbody tr th:only-of-type {\n",
              "        vertical-align: middle;\n",
              "    }\n",
              "\n",
              "    .dataframe tbody tr th {\n",
              "        vertical-align: top;\n",
              "    }\n",
              "\n",
              "    .dataframe thead th {\n",
              "        text-align: right;\n",
              "    }\n",
              "</style>\n",
              "<table border=\"1\" class=\"dataframe\">\n",
              "  <thead>\n",
              "    <tr style=\"text-align: right;\">\n",
              "      <th></th>\n",
              "      <th>Exercise</th>\n",
              "      <th>Skin_Cancer</th>\n",
              "      <th>Other_Cancer</th>\n",
              "      <th>Depression</th>\n",
              "      <th>Arthritis</th>\n",
              "      <th>Sex</th>\n",
              "      <th>Height_(cm)</th>\n",
              "      <th>Weight_(kg)</th>\n",
              "      <th>BMI</th>\n",
              "      <th>Smoking_History</th>\n",
              "      <th>...</th>\n",
              "      <th>last_Checkup_years_&lt;5</th>\n",
              "      <th>last_Checkup_years_&gt;5</th>\n",
              "      <th>last_Checkup_years_Never</th>\n",
              "      <th>General_Health_Excellent</th>\n",
              "      <th>General_Health_Fair</th>\n",
              "      <th>General_Health_Good</th>\n",
              "      <th>General_Health_Very Good</th>\n",
              "      <th>diabetes?_Pre_diabetes_boderline</th>\n",
              "      <th>diabetes?_Yes</th>\n",
              "      <th>diabetes?_Yes_scovered_in_pregnancy</th>\n",
              "    </tr>\n",
              "  </thead>\n",
              "  <tbody>\n",
              "    <tr>\n",
              "      <th>0</th>\n",
              "      <td>0</td>\n",
              "      <td>0</td>\n",
              "      <td>0</td>\n",
              "      <td>0</td>\n",
              "      <td>1</td>\n",
              "      <td>0</td>\n",
              "      <td>150.0</td>\n",
              "      <td>32.66</td>\n",
              "      <td>14.54</td>\n",
              "      <td>1</td>\n",
              "      <td>...</td>\n",
              "      <td>0</td>\n",
              "      <td>0</td>\n",
              "      <td>0</td>\n",
              "      <td>0</td>\n",
              "      <td>0</td>\n",
              "      <td>0</td>\n",
              "      <td>0</td>\n",
              "      <td>0</td>\n",
              "      <td>0</td>\n",
              "      <td>0</td>\n",
              "    </tr>\n",
              "  </tbody>\n",
              "</table>\n",
              "<p>1 rows × 41 columns</p>\n",
              "</div>\n",
              "    <div class=\"colab-df-buttons\">\n",
              "\n",
              "  <div class=\"colab-df-container\">\n",
              "    <button class=\"colab-df-convert\" onclick=\"convertToInteractive('df-3a43a15b-b02e-43cc-93a4-30a41747a353')\"\n",
              "            title=\"Convert this dataframe to an interactive table.\"\n",
              "            style=\"display:none;\">\n",
              "\n",
              "  <svg xmlns=\"http://www.w3.org/2000/svg\" height=\"24px\" viewBox=\"0 -960 960 960\">\n",
              "    <path d=\"M120-120v-720h720v720H120Zm60-500h600v-160H180v160Zm220 220h160v-160H400v160Zm0 220h160v-160H400v160ZM180-400h160v-160H180v160Zm440 0h160v-160H620v160ZM180-180h160v-160H180v160Zm440 0h160v-160H620v160Z\"/>\n",
              "  </svg>\n",
              "    </button>\n",
              "\n",
              "  <style>\n",
              "    .colab-df-container {\n",
              "      display:flex;\n",
              "      gap: 12px;\n",
              "    }\n",
              "\n",
              "    .colab-df-convert {\n",
              "      background-color: #E8F0FE;\n",
              "      border: none;\n",
              "      border-radius: 50%;\n",
              "      cursor: pointer;\n",
              "      display: none;\n",
              "      fill: #1967D2;\n",
              "      height: 32px;\n",
              "      padding: 0 0 0 0;\n",
              "      width: 32px;\n",
              "    }\n",
              "\n",
              "    .colab-df-convert:hover {\n",
              "      background-color: #E2EBFA;\n",
              "      box-shadow: 0px 1px 2px rgba(60, 64, 67, 0.3), 0px 1px 3px 1px rgba(60, 64, 67, 0.15);\n",
              "      fill: #174EA6;\n",
              "    }\n",
              "\n",
              "    .colab-df-buttons div {\n",
              "      margin-bottom: 4px;\n",
              "    }\n",
              "\n",
              "    [theme=dark] .colab-df-convert {\n",
              "      background-color: #3B4455;\n",
              "      fill: #D2E3FC;\n",
              "    }\n",
              "\n",
              "    [theme=dark] .colab-df-convert:hover {\n",
              "      background-color: #434B5C;\n",
              "      box-shadow: 0px 1px 3px 1px rgba(0, 0, 0, 0.15);\n",
              "      filter: drop-shadow(0px 1px 2px rgba(0, 0, 0, 0.3));\n",
              "      fill: #FFFFFF;\n",
              "    }\n",
              "  </style>\n",
              "\n",
              "    <script>\n",
              "      const buttonEl =\n",
              "        document.querySelector('#df-3a43a15b-b02e-43cc-93a4-30a41747a353 button.colab-df-convert');\n",
              "      buttonEl.style.display =\n",
              "        google.colab.kernel.accessAllowed ? 'block' : 'none';\n",
              "\n",
              "      async function convertToInteractive(key) {\n",
              "        const element = document.querySelector('#df-3a43a15b-b02e-43cc-93a4-30a41747a353');\n",
              "        const dataTable =\n",
              "          await google.colab.kernel.invokeFunction('convertToInteractive',\n",
              "                                                    [key], {});\n",
              "        if (!dataTable) return;\n",
              "\n",
              "        const docLinkHtml = 'Like what you see? Visit the ' +\n",
              "          '<a target=\"_blank\" href=https://colab.research.google.com/notebooks/data_table.ipynb>data table notebook</a>'\n",
              "          + ' to learn more about interactive tables.';\n",
              "        element.innerHTML = '';\n",
              "        dataTable['output_type'] = 'display_data';\n",
              "        await google.colab.output.renderOutput(dataTable, element);\n",
              "        const docLink = document.createElement('div');\n",
              "        docLink.innerHTML = docLinkHtml;\n",
              "        element.appendChild(docLink);\n",
              "      }\n",
              "    </script>\n",
              "  </div>\n",
              "\n",
              "    </div>\n",
              "  </div>\n"
            ]
          },
          "metadata": {},
          "execution_count": 30
        }
      ]
    },
    {
      "cell_type": "code",
      "source": [
        "# df['Unnamed: 0'] ="
      ],
      "metadata": {
        "id": "dCCXTSUVpap5"
      },
      "execution_count": 22,
      "outputs": []
    },
    {
      "cell_type": "code",
      "source": [
        "with open('final_dtc_model_cdr_r.pkl', 'rb') as file:\n",
        "    modelo_treinado = pickle.load(file)"
      ],
      "metadata": {
        "id": "pGDlpAcl0vEX"
      },
      "execution_count": 26,
      "outputs": []
    },
    {
      "cell_type": "code",
      "source": [
        "print(type(modelo_treinado))"
      ],
      "metadata": {
        "colab": {
          "base_uri": "https://localhost:8080/"
        },
        "id": "YjX-IuNx-0wr",
        "outputId": "c73f0b56-64ce-4d92-a00d-5f2d1827eef9"
      },
      "execution_count": 27,
      "outputs": [
        {
          "output_type": "stream",
          "name": "stdout",
          "text": [
            "<class 'sklearn.tree._classes.DecisionTreeClassifier'>\n"
          ]
        }
      ]
    },
    {
      "cell_type": "code",
      "source": [
        "previsoes = modelo_treinado.predict_proba(df)"
      ],
      "metadata": {
        "colab": {
          "base_uri": "https://localhost:8080/",
          "height": 339
        },
        "id": "4oIU6Dlt-aCY",
        "outputId": "7d7d0868-78aa-4aeb-9d67-7b2146b39911"
      },
      "execution_count": 28,
      "outputs": [
        {
          "output_type": "error",
          "ename": "ValueError",
          "evalue": "ignored",
          "traceback": [
            "\u001b[0;31m---------------------------------------------------------------------------\u001b[0m",
            "\u001b[0;31mValueError\u001b[0m                                Traceback (most recent call last)",
            "\u001b[0;32m<ipython-input-28-728a3b660fae>\u001b[0m in \u001b[0;36m<cell line: 1>\u001b[0;34m()\u001b[0m\n\u001b[0;32m----> 1\u001b[0;31m \u001b[0mprevisoes\u001b[0m \u001b[0;34m=\u001b[0m \u001b[0mmodelo_treinado\u001b[0m\u001b[0;34m.\u001b[0m\u001b[0mpredict_proba\u001b[0m\u001b[0;34m(\u001b[0m\u001b[0mdf\u001b[0m\u001b[0;34m)\u001b[0m\u001b[0;34m\u001b[0m\u001b[0;34m\u001b[0m\u001b[0m\n\u001b[0m",
            "\u001b[0;32m/usr/local/lib/python3.10/dist-packages/sklearn/tree/_classes.py\u001b[0m in \u001b[0;36mpredict_proba\u001b[0;34m(self, X, check_input)\u001b[0m\n\u001b[1;32m    920\u001b[0m         \"\"\"\n\u001b[1;32m    921\u001b[0m         \u001b[0mcheck_is_fitted\u001b[0m\u001b[0;34m(\u001b[0m\u001b[0mself\u001b[0m\u001b[0;34m)\u001b[0m\u001b[0;34m\u001b[0m\u001b[0;34m\u001b[0m\u001b[0m\n\u001b[0;32m--> 922\u001b[0;31m         \u001b[0mX\u001b[0m \u001b[0;34m=\u001b[0m \u001b[0mself\u001b[0m\u001b[0;34m.\u001b[0m\u001b[0m_validate_X_predict\u001b[0m\u001b[0;34m(\u001b[0m\u001b[0mX\u001b[0m\u001b[0;34m,\u001b[0m \u001b[0mcheck_input\u001b[0m\u001b[0;34m)\u001b[0m\u001b[0;34m\u001b[0m\u001b[0;34m\u001b[0m\u001b[0m\n\u001b[0m\u001b[1;32m    923\u001b[0m         \u001b[0mproba\u001b[0m \u001b[0;34m=\u001b[0m \u001b[0mself\u001b[0m\u001b[0;34m.\u001b[0m\u001b[0mtree_\u001b[0m\u001b[0;34m.\u001b[0m\u001b[0mpredict\u001b[0m\u001b[0;34m(\u001b[0m\u001b[0mX\u001b[0m\u001b[0;34m)\u001b[0m\u001b[0;34m\u001b[0m\u001b[0;34m\u001b[0m\u001b[0m\n\u001b[1;32m    924\u001b[0m \u001b[0;34m\u001b[0m\u001b[0m\n",
            "\u001b[0;32m/usr/local/lib/python3.10/dist-packages/sklearn/tree/_classes.py\u001b[0m in \u001b[0;36m_validate_X_predict\u001b[0;34m(self, X, check_input)\u001b[0m\n\u001b[1;32m    390\u001b[0m         \u001b[0;34m\"\"\"Validate the training data on predict (probabilities).\"\"\"\u001b[0m\u001b[0;34m\u001b[0m\u001b[0;34m\u001b[0m\u001b[0m\n\u001b[1;32m    391\u001b[0m         \u001b[0;32mif\u001b[0m \u001b[0mcheck_input\u001b[0m\u001b[0;34m:\u001b[0m\u001b[0;34m\u001b[0m\u001b[0;34m\u001b[0m\u001b[0m\n\u001b[0;32m--> 392\u001b[0;31m             \u001b[0mX\u001b[0m \u001b[0;34m=\u001b[0m \u001b[0mself\u001b[0m\u001b[0;34m.\u001b[0m\u001b[0m_validate_data\u001b[0m\u001b[0;34m(\u001b[0m\u001b[0mX\u001b[0m\u001b[0;34m,\u001b[0m \u001b[0mdtype\u001b[0m\u001b[0;34m=\u001b[0m\u001b[0mDTYPE\u001b[0m\u001b[0;34m,\u001b[0m \u001b[0maccept_sparse\u001b[0m\u001b[0;34m=\u001b[0m\u001b[0;34m\"csr\"\u001b[0m\u001b[0;34m,\u001b[0m \u001b[0mreset\u001b[0m\u001b[0;34m=\u001b[0m\u001b[0;32mFalse\u001b[0m\u001b[0;34m)\u001b[0m\u001b[0;34m\u001b[0m\u001b[0;34m\u001b[0m\u001b[0m\n\u001b[0m\u001b[1;32m    393\u001b[0m             if issparse(X) and (\n\u001b[1;32m    394\u001b[0m                 \u001b[0mX\u001b[0m\u001b[0;34m.\u001b[0m\u001b[0mindices\u001b[0m\u001b[0;34m.\u001b[0m\u001b[0mdtype\u001b[0m \u001b[0;34m!=\u001b[0m \u001b[0mnp\u001b[0m\u001b[0;34m.\u001b[0m\u001b[0mintc\u001b[0m \u001b[0;32mor\u001b[0m \u001b[0mX\u001b[0m\u001b[0;34m.\u001b[0m\u001b[0mindptr\u001b[0m\u001b[0;34m.\u001b[0m\u001b[0mdtype\u001b[0m \u001b[0;34m!=\u001b[0m \u001b[0mnp\u001b[0m\u001b[0;34m.\u001b[0m\u001b[0mintc\u001b[0m\u001b[0;34m\u001b[0m\u001b[0;34m\u001b[0m\u001b[0m\n",
            "\u001b[0;32m/usr/local/lib/python3.10/dist-packages/sklearn/base.py\u001b[0m in \u001b[0;36m_validate_data\u001b[0;34m(self, X, y, reset, validate_separately, **check_params)\u001b[0m\n\u001b[1;32m    546\u001b[0m             \u001b[0mvalidated\u001b[0m\u001b[0;34m.\u001b[0m\u001b[0;34m\u001b[0m\u001b[0;34m\u001b[0m\u001b[0m\n\u001b[1;32m    547\u001b[0m         \"\"\"\n\u001b[0;32m--> 548\u001b[0;31m         \u001b[0mself\u001b[0m\u001b[0;34m.\u001b[0m\u001b[0m_check_feature_names\u001b[0m\u001b[0;34m(\u001b[0m\u001b[0mX\u001b[0m\u001b[0;34m,\u001b[0m \u001b[0mreset\u001b[0m\u001b[0;34m=\u001b[0m\u001b[0mreset\u001b[0m\u001b[0;34m)\u001b[0m\u001b[0;34m\u001b[0m\u001b[0;34m\u001b[0m\u001b[0m\n\u001b[0m\u001b[1;32m    549\u001b[0m \u001b[0;34m\u001b[0m\u001b[0m\n\u001b[1;32m    550\u001b[0m         \u001b[0;32mif\u001b[0m \u001b[0my\u001b[0m \u001b[0;32mis\u001b[0m \u001b[0;32mNone\u001b[0m \u001b[0;32mand\u001b[0m \u001b[0mself\u001b[0m\u001b[0;34m.\u001b[0m\u001b[0m_get_tags\u001b[0m\u001b[0;34m(\u001b[0m\u001b[0;34m)\u001b[0m\u001b[0;34m[\u001b[0m\u001b[0;34m\"requires_y\"\u001b[0m\u001b[0;34m]\u001b[0m\u001b[0;34m:\u001b[0m\u001b[0;34m\u001b[0m\u001b[0;34m\u001b[0m\u001b[0m\n",
            "\u001b[0;32m/usr/local/lib/python3.10/dist-packages/sklearn/base.py\u001b[0m in \u001b[0;36m_check_feature_names\u001b[0;34m(self, X, reset)\u001b[0m\n\u001b[1;32m    479\u001b[0m                 )\n\u001b[1;32m    480\u001b[0m \u001b[0;34m\u001b[0m\u001b[0m\n\u001b[0;32m--> 481\u001b[0;31m             \u001b[0;32mraise\u001b[0m \u001b[0mValueError\u001b[0m\u001b[0;34m(\u001b[0m\u001b[0mmessage\u001b[0m\u001b[0;34m)\u001b[0m\u001b[0;34m\u001b[0m\u001b[0;34m\u001b[0m\u001b[0m\n\u001b[0m\u001b[1;32m    482\u001b[0m \u001b[0;34m\u001b[0m\u001b[0m\n\u001b[1;32m    483\u001b[0m     def _validate_data(\n",
            "\u001b[0;31mValueError\u001b[0m: The feature names should match those that were passed during fit.\nFeature names must be in the same order as they were in fit.\n"
          ]
        }
      ]
    },
    {
      "cell_type": "code",
      "source": [],
      "metadata": {
        "id": "kxidTI3hqTJi"
      },
      "execution_count": null,
      "outputs": []
    }
  ]
}