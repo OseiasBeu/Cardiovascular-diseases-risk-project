{
  "cells": [
    {
      "cell_type": "markdown",
      "metadata": {
        "id": "view-in-github",
        "colab_type": "text"
      },
      "source": [
        "<a href=\"https://colab.research.google.com/github/OseiasBeu/Cardiovascular-diseases-risk-project/blob/main/ETL_Cardiovascular_diseases_risk_prediction.ipynb\" target=\"_parent\"><img src=\"https://colab.research.google.com/assets/colab-badge.svg\" alt=\"Open In Colab\"/></a>"
      ]
    },
    {
      "cell_type": "markdown",
      "metadata": {
        "id": "Cjr_kfbSpOiI"
      },
      "source": [
        "# Feature Engineering"
      ]
    },
    {
      "cell_type": "markdown",
      "metadata": {
        "id": "ttzYJjfFpOiM"
      },
      "source": [
        "- Fazer o balanceamento dos dados\n",
        "- Fazer o Encoded\n",
        "- Separação em X e y\n",
        "- Separação de Datasets para treino e para teste"
      ]
    },
    {
      "cell_type": "markdown",
      "metadata": {
        "id": "rl2SqLuBpOiO"
      },
      "source": [
        "## Balanceamento"
      ]
    },
    {
      "cell_type": "code",
      "execution_count": null,
      "metadata": {
        "id": "rtFoxwrrpOiP"
      },
      "outputs": [],
      "source": [
        "import pandas as pd\n",
        "from collections import Counter\n",
        "from imblearn.over_sampling import RandomOverSampler\n",
        "from sklearn.model_selection import train_test_split\n",
        "\n",
        "# Carregar o dataset\n",
        "data = df_CVD.copy()\n",
        "\n",
        "# Dividir os dados em features (X) e target (y)\n",
        "X = data.drop('Heart_Disease', axis=1)\n",
        "y = data['Heart_Disease']\n",
        "\n",
        "# Dividir o conjunto de dados em treinamento e teste\n",
        "X_train, X_test, y_train, y_test = train_test_split(X, y, test_size=0.2, random_state=42)\n",
        "\n",
        "# Mostrar contagem de classes antes do balanceamento\n",
        "print(\"Contagem de classes antes do balanceamento:\", Counter(y_train))\n",
        "\n",
        "# Aplicar oversampling para equilibrar as classes\n",
        "oversampler = RandomOverSampler(sampling_strategy='auto', random_state=42)\n",
        "X_resampled, y_resampled = oversampler.fit_resample(X_train, y_train)\n",
        "\n",
        "# Mostrar contagem de classes após o balanceamento\n",
        "print(\"Contagem de classes após o balanceamento:\", Counter(y_resampled))\n",
        "\n",
        "# Agora você pode usar X_resampled e y_resampled para treinar seus modelos de machine learning.\n"
      ]
    },
    {
      "cell_type": "code",
      "execution_count": null,
      "metadata": {
        "id": "6T68iW-_pOiR"
      },
      "outputs": [],
      "source": [
        "# Dividir o conjunto de dados em treinamento e teste\n",
        "X_train_r, X_test_r, y_train_r, y_test_r = train_test_split(X, y, test_size=0.2, random_state=42)"
      ]
    },
    {
      "cell_type": "code",
      "execution_count": null,
      "metadata": {
        "id": "57JomjerpOiS"
      },
      "outputs": [],
      "source": [
        "df_CVD['Heart_Disease'].value_counts()"
      ]
    },
    {
      "cell_type": "code",
      "execution_count": null,
      "metadata": {
        "id": "Z5BtQM8IpOiS"
      },
      "outputs": [],
      "source": []
    }
  ],
  "metadata": {
    "language_info": {
      "name": "python"
    },
    "orig_nbformat": 4,
    "colab": {
      "provenance": [],
      "include_colab_link": true
    }
  },
  "nbformat": 4,
  "nbformat_minor": 0
}