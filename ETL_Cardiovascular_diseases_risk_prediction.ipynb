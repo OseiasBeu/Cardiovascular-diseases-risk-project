{
  "cells": [
    {
      "cell_type": "markdown",
      "metadata": {
        "id": "view-in-github",
        "colab_type": "text"
      },
      "source": [
        "<a href=\"https://colab.research.google.com/github/OseiasBeu/Cardiovascular-diseases-risk-project/blob/main/ETL_Cardiovascular_diseases_risk_prediction.ipynb\" target=\"_parent\"><img src=\"https://colab.research.google.com/assets/colab-badge.svg\" alt=\"Open In Colab\"/></a>"
      ]
    },
    {
      "cell_type": "markdown",
      "metadata": {
        "id": "Cjr_kfbSpOiI"
      },
      "source": [
        "# Feature Engineering"
      ]
    },
    {
      "cell_type": "markdown",
      "metadata": {
        "id": "ttzYJjfFpOiM"
      },
      "source": [
        "- Fazer o balanceamento dos dados\n",
        "- Fazer o Encoded\n",
        "- Separação em X e y\n",
        "- Separação de Datasets para treino e para teste"
      ]
    },
    {
      "cell_type": "code",
      "source": [
        "import pandas as pd\n",
        "from collections import Counter\n",
        "from imblearn.over_sampling import RandomOverSampler\n",
        "from sklearn.model_selection import train_test_split\n",
        "import requests\n",
        "import zipfile\n",
        "import io\n",
        "import os\n",
        "import numpy as np\n"
      ],
      "metadata": {
        "id": "Za3lYOfEruOB"
      },
      "execution_count": 31,
      "outputs": []
    },
    {
      "cell_type": "code",
      "source": [
        "# URL do arquivo ZIP\n",
        "url = \"https://github.com/OseiasBeu/Cardiovascular-diseases-risk-project/raw/main/dataset.zip\"\n",
        "\n",
        "# Diretório onde deseja extrair o conteúdo do arquivo zip\n",
        "diretorio_destino = '/content/dataset/'\n",
        "\n",
        "# Faz o download do arquivo ZIP\n",
        "response = requests.get(url)\n",
        "zip_file = io.BytesIO(response.content)\n",
        "\n",
        "# Verifica se o diretório de destino existe, senão cria\n",
        "if not os.path.exists(diretorio_destino):\n",
        "    os.makedirs(diretorio_destino)\n",
        "\n",
        "# Descompacta o arquivo zip\n",
        "with zipfile.ZipFile(zip_file, 'r') as zip_ref:\n",
        "    zip_ref.extractall(diretorio_destino)\n",
        "\n"
      ],
      "metadata": {
        "id": "GD9htoMvqMzQ"
      },
      "execution_count": 32,
      "outputs": []
    },
    {
      "cell_type": "code",
      "source": [
        "data = pd.read_csv('/content/dataset/dataset/CVD_cleaned.csv')"
      ],
      "metadata": {
        "id": "RbdmNUB4rp72"
      },
      "execution_count": 33,
      "outputs": []
    },
    {
      "cell_type": "markdown",
      "source": [
        "## Encoded"
      ],
      "metadata": {
        "id": "MNBnnuDzLEEV"
      }
    },
    {
      "cell_type": "code",
      "source": [
        "data.info()"
      ],
      "metadata": {
        "colab": {
          "base_uri": "https://localhost:8080/"
        },
        "id": "CepiyEASLQ3r",
        "outputId": "009f0816-67d4-4453-8b27-d24091007a92"
      },
      "execution_count": 34,
      "outputs": [
        {
          "output_type": "stream",
          "name": "stdout",
          "text": [
            "<class 'pandas.core.frame.DataFrame'>\n",
            "RangeIndex: 308854 entries, 0 to 308853\n",
            "Data columns (total 19 columns):\n",
            " #   Column                        Non-Null Count   Dtype  \n",
            "---  ------                        --------------   -----  \n",
            " 0   General_Health                308854 non-null  object \n",
            " 1   Checkup                       308854 non-null  object \n",
            " 2   Exercise                      308854 non-null  object \n",
            " 3   Heart_Disease                 308854 non-null  object \n",
            " 4   Skin_Cancer                   308854 non-null  object \n",
            " 5   Other_Cancer                  308854 non-null  object \n",
            " 6   Depression                    308854 non-null  object \n",
            " 7   Diabetes                      308854 non-null  object \n",
            " 8   Arthritis                     308854 non-null  object \n",
            " 9   Sex                           308854 non-null  object \n",
            " 10  Age_Category                  308854 non-null  object \n",
            " 11  Height_(cm)                   308854 non-null  float64\n",
            " 12  Weight_(kg)                   308854 non-null  float64\n",
            " 13  BMI                           308854 non-null  float64\n",
            " 14  Smoking_History               308854 non-null  object \n",
            " 15  Alcohol_Consumption           308854 non-null  float64\n",
            " 16  Fruit_Consumption             308854 non-null  float64\n",
            " 17  Green_Vegetables_Consumption  308854 non-null  float64\n",
            " 18  FriedPotato_Consumption       308854 non-null  float64\n",
            "dtypes: float64(7), object(12)\n",
            "memory usage: 44.8+ MB\n"
          ]
        }
      ]
    },
    {
      "cell_type": "code",
      "source": [
        "data.select_dtypes(include='object').info()"
      ],
      "metadata": {
        "colab": {
          "base_uri": "https://localhost:8080/"
        },
        "id": "X6tnwUqQLJ-J",
        "outputId": "a6670840-6c51-455a-da9d-477ec114d5e5"
      },
      "execution_count": 35,
      "outputs": [
        {
          "output_type": "stream",
          "name": "stdout",
          "text": [
            "<class 'pandas.core.frame.DataFrame'>\n",
            "RangeIndex: 308854 entries, 0 to 308853\n",
            "Data columns (total 12 columns):\n",
            " #   Column           Non-Null Count   Dtype \n",
            "---  ------           --------------   ----- \n",
            " 0   General_Health   308854 non-null  object\n",
            " 1   Checkup          308854 non-null  object\n",
            " 2   Exercise         308854 non-null  object\n",
            " 3   Heart_Disease    308854 non-null  object\n",
            " 4   Skin_Cancer      308854 non-null  object\n",
            " 5   Other_Cancer     308854 non-null  object\n",
            " 6   Depression       308854 non-null  object\n",
            " 7   Diabetes         308854 non-null  object\n",
            " 8   Arthritis        308854 non-null  object\n",
            " 9   Sex              308854 non-null  object\n",
            " 10  Age_Category     308854 non-null  object\n",
            " 11  Smoking_History  308854 non-null  object\n",
            "dtypes: object(12)\n",
            "memory usage: 28.3+ MB\n"
          ]
        }
      ]
    },
    {
      "cell_type": "code",
      "source": [
        "data.Heart_Disease.value_counts()"
      ],
      "metadata": {
        "colab": {
          "base_uri": "https://localhost:8080/"
        },
        "id": "kLWAl8XgLJ6n",
        "outputId": "47942919-2efe-4e1b-d1e1-6da66a237ee3"
      },
      "execution_count": 36,
      "outputs": [
        {
          "output_type": "execute_result",
          "data": {
            "text/plain": [
              "No     283883\n",
              "Yes     24971\n",
              "Name: Heart_Disease, dtype: int64"
            ]
          },
          "metadata": {},
          "execution_count": 36
        }
      ]
    },
    {
      "cell_type": "code",
      "source": [
        "categorical_data = data.select_dtypes(include='object')\n",
        "categorical_column_names = list(data.columns)\n",
        "arr = []\n",
        "\n",
        "print(f'Lista de variáveis categóricas: {list(categorical_data)}')\n",
        "print(f'Número de variáveis categóricas: {len(list(categorical_data))}')\n",
        "print()\n",
        "print()\n",
        "print('-----------------------------------------------------------------------')\n",
        "\n",
        "for col in categorical_data:\n",
        "    print(f'{col} Valores distintos: {list(categorical_data[col].unique())}')\n",
        "    print(f'{col} tem {len(list(categorical_data[col].unique()))} valores únicos')\n",
        "    if len(list(categorical_data[col].unique())) == 2:\n",
        "      arr.append(col)\n",
        "    print()\n",
        "    print()\n",
        "print(arr)\n",
        "for col in arr:\n",
        "    print(f'{col} Valores distintos: {list(categorical_data[col].unique())}')\n",
        "    print(f'{col} tem {len(list(categorical_data[col].unique()))} valores únicos')\n",
        "    print()\n",
        "    print()"
      ],
      "metadata": {
        "colab": {
          "base_uri": "https://localhost:8080/"
        },
        "id": "85OMc1s5WPlH",
        "outputId": "31869a54-ab5e-41b2-ceba-3f2e95a392dc"
      },
      "execution_count": 37,
      "outputs": [
        {
          "output_type": "stream",
          "name": "stdout",
          "text": [
            "Lista de variáveis categóricas: ['General_Health', 'Checkup', 'Exercise', 'Heart_Disease', 'Skin_Cancer', 'Other_Cancer', 'Depression', 'Diabetes', 'Arthritis', 'Sex', 'Age_Category', 'Smoking_History']\n",
            "Número de variáveis categóricas: 12\n",
            "\n",
            "\n",
            "-----------------------------------------------------------------------\n",
            "General_Health Valores distintos: ['Poor', 'Very Good', 'Good', 'Fair', 'Excellent']\n",
            "General_Health tem 5 valores únicos\n",
            "\n",
            "\n",
            "Checkup Valores distintos: ['Within the past 2 years', 'Within the past year', '5 or more years ago', 'Within the past 5 years', 'Never']\n",
            "Checkup tem 5 valores únicos\n",
            "\n",
            "\n",
            "Exercise Valores distintos: ['No', 'Yes']\n",
            "Exercise tem 2 valores únicos\n",
            "\n",
            "\n",
            "Heart_Disease Valores distintos: ['No', 'Yes']\n",
            "Heart_Disease tem 2 valores únicos\n",
            "\n",
            "\n",
            "Skin_Cancer Valores distintos: ['No', 'Yes']\n",
            "Skin_Cancer tem 2 valores únicos\n",
            "\n",
            "\n",
            "Other_Cancer Valores distintos: ['No', 'Yes']\n",
            "Other_Cancer tem 2 valores únicos\n",
            "\n",
            "\n",
            "Depression Valores distintos: ['No', 'Yes']\n",
            "Depression tem 2 valores únicos\n",
            "\n",
            "\n",
            "Diabetes Valores distintos: ['No', 'Yes', 'No, pre-diabetes or borderline diabetes', 'Yes, but female told only during pregnancy']\n",
            "Diabetes tem 4 valores únicos\n",
            "\n",
            "\n",
            "Arthritis Valores distintos: ['Yes', 'No']\n",
            "Arthritis tem 2 valores únicos\n",
            "\n",
            "\n",
            "Sex Valores distintos: ['Female', 'Male']\n",
            "Sex tem 2 valores únicos\n",
            "\n",
            "\n",
            "Age_Category Valores distintos: ['70-74', '60-64', '75-79', '80+', '65-69', '50-54', '45-49', '18-24', '30-34', '55-59', '35-39', '40-44', '25-29']\n",
            "Age_Category tem 13 valores únicos\n",
            "\n",
            "\n",
            "Smoking_History Valores distintos: ['Yes', 'No']\n",
            "Smoking_History tem 2 valores únicos\n",
            "\n",
            "\n",
            "['Exercise', 'Heart_Disease', 'Skin_Cancer', 'Other_Cancer', 'Depression', 'Arthritis', 'Sex', 'Smoking_History']\n",
            "Exercise Valores distintos: ['No', 'Yes']\n",
            "Exercise tem 2 valores únicos\n",
            "\n",
            "\n",
            "Heart_Disease Valores distintos: ['No', 'Yes']\n",
            "Heart_Disease tem 2 valores únicos\n",
            "\n",
            "\n",
            "Skin_Cancer Valores distintos: ['No', 'Yes']\n",
            "Skin_Cancer tem 2 valores únicos\n",
            "\n",
            "\n",
            "Other_Cancer Valores distintos: ['No', 'Yes']\n",
            "Other_Cancer tem 2 valores únicos\n",
            "\n",
            "\n",
            "Depression Valores distintos: ['No', 'Yes']\n",
            "Depression tem 2 valores únicos\n",
            "\n",
            "\n",
            "Arthritis Valores distintos: ['Yes', 'No']\n",
            "Arthritis tem 2 valores únicos\n",
            "\n",
            "\n",
            "Sex Valores distintos: ['Female', 'Male']\n",
            "Sex tem 2 valores únicos\n",
            "\n",
            "\n",
            "Smoking_History Valores distintos: ['Yes', 'No']\n",
            "Smoking_History tem 2 valores únicos\n",
            "\n",
            "\n"
          ]
        }
      ]
    },
    {
      "cell_type": "markdown",
      "source": [
        "### Tratando os campos booleanos"
      ],
      "metadata": {
        "id": "ntNq1b8FzmHA"
      }
    },
    {
      "cell_type": "code",
      "source": [
        "mapper_hd = {\n",
        "    'No':0,\n",
        "    'Yes':1,\n",
        "    np.nan: 1\n",
        "}\n",
        "\n",
        "mapper_sex = {\n",
        "    'Female':0,\n",
        "    'Male':1,\n",
        "    np.nan: 1\n",
        "}\n"
      ],
      "metadata": {
        "id": "a8YrR15IVTk1"
      },
      "execution_count": 38,
      "outputs": []
    },
    {
      "cell_type": "code",
      "source": [
        "data['Heart_Disease'] = data['Heart_Disease'].map(mapper_hd,na_action=None)\n",
        "data['Sex'] = data['Sex'].map(mapper_sex,na_action=None)\n",
        "data['Exercise'] = data['Exercise'].map(mapper_hd,na_action=None)\n",
        "data['Skin_Cancer'] = data['Skin_Cancer'].map(mapper_hd,na_action=None)\n",
        "data['Other_Cancer'] = data['Other_Cancer'].map(mapper_hd,na_action=None)\n",
        "data['Depression'] = data['Depression'].map(mapper_hd,na_action=None)\n",
        "data['Arthritis'] = data['Arthritis'].map(mapper_hd,na_action=None)\n",
        "data['Smoking_History'] = data['Smoking_History'].map(mapper_hd,na_action=None)"
      ],
      "metadata": {
        "id": "jfsmUzhNLJwu"
      },
      "execution_count": 39,
      "outputs": []
    },
    {
      "cell_type": "code",
      "source": [
        "data.select_dtypes(include='object').info()"
      ],
      "metadata": {
        "colab": {
          "base_uri": "https://localhost:8080/"
        },
        "id": "LGWXujFhM8Mr",
        "outputId": "f78d1949-4e7b-4d16-8083-482adc1dba67"
      },
      "execution_count": 40,
      "outputs": [
        {
          "output_type": "stream",
          "name": "stdout",
          "text": [
            "<class 'pandas.core.frame.DataFrame'>\n",
            "RangeIndex: 308854 entries, 0 to 308853\n",
            "Data columns (total 4 columns):\n",
            " #   Column          Non-Null Count   Dtype \n",
            "---  ------          --------------   ----- \n",
            " 0   General_Health  308854 non-null  object\n",
            " 1   Checkup         308854 non-null  object\n",
            " 2   Diabetes        308854 non-null  object\n",
            " 3   Age_Category    308854 non-null  object\n",
            "dtypes: object(4)\n",
            "memory usage: 9.4+ MB\n"
          ]
        }
      ]
    },
    {
      "cell_type": "markdown",
      "source": [
        "### Tratando o campo Checkup"
      ],
      "metadata": {
        "id": "jDQulK06zeqO"
      }
    },
    {
      "cell_type": "code",
      "source": [
        "data.Checkup.value_counts()"
      ],
      "metadata": {
        "id": "lIb_W4Ty1O9F",
        "outputId": "a06b5c56-8cf9-401d-899f-775ac90c0954",
        "colab": {
          "base_uri": "https://localhost:8080/"
        }
      },
      "execution_count": 41,
      "outputs": [
        {
          "output_type": "execute_result",
          "data": {
            "text/plain": [
              "Within the past year       239371\n",
              "Within the past 2 years     37213\n",
              "Within the past 5 years     17442\n",
              "5 or more years ago         13421\n",
              "Never                        1407\n",
              "Name: Checkup, dtype: int64"
            ]
          },
          "metadata": {},
          "execution_count": 41
        }
      ]
    },
    {
      "cell_type": "code",
      "source": [
        "data.loc[data['Checkup'] == 'Within the past year', 'last_Checkup_years'] = '<1'\n",
        "data.loc[data['Checkup'] == 'Within the past 2 years', 'last_Checkup_years'] = '<2'\n",
        "data.loc[data['Checkup'] == 'Within the past 5 years', 'last_Checkup_years'] = '<5'\n",
        "data.loc[data['Checkup'] == '5 or more years ago', 'last_Checkup_years'] = '>5'\n",
        "data.loc[data['Checkup'] == 'Never', 'last_Checkup_years'] = 'Never'"
      ],
      "metadata": {
        "id": "ZKVpx2Aa1Zst"
      },
      "execution_count": 42,
      "outputs": []
    },
    {
      "cell_type": "markdown",
      "source": [
        "### Tratando campo de diabetes"
      ],
      "metadata": {
        "id": "Vm7W2uU02dKW"
      }
    },
    {
      "cell_type": "code",
      "source": [
        "data.Diabetes.value_counts()"
      ],
      "metadata": {
        "id": "S68VGcqmzIc_",
        "outputId": "1d04ba7b-3111-417c-bb62-52bd53fa6233",
        "colab": {
          "base_uri": "https://localhost:8080/"
        }
      },
      "execution_count": 43,
      "outputs": [
        {
          "output_type": "execute_result",
          "data": {
            "text/plain": [
              "No                                            259141\n",
              "Yes                                            40171\n",
              "No, pre-diabetes or borderline diabetes         6896\n",
              "Yes, but female told only during pregnancy      2646\n",
              "Name: Diabetes, dtype: int64"
            ]
          },
          "metadata": {},
          "execution_count": 43
        }
      ]
    },
    {
      "cell_type": "code",
      "source": [
        "data.loc[data['Diabetes'] == 'No', 'diabetes?'] = 'No'\n",
        "data.loc[data['Diabetes'] == 'Yes', 'diabetes?'] = 'Yes'\n",
        "data.loc[data['Diabetes'] == 'No, pre-diabetes or borderline diabetes', 'diabetes?'] = 'Pre_diabetes_boderline'\n",
        "data.loc[data['Diabetes'] == 'Yes, but female told only during pregnancy', 'diabetes?'] = 'Yes_scovered_in_pregnancy'"
      ],
      "metadata": {
        "id": "z0NDjbFgzbKl"
      },
      "execution_count": 44,
      "outputs": []
    },
    {
      "cell_type": "markdown",
      "source": [
        "### Tratando campo Age:"
      ],
      "metadata": {
        "id": "KI-_L8Z42-4k"
      }
    },
    {
      "cell_type": "code",
      "source": [
        "data.Age_Category.value_counts()"
      ],
      "metadata": {
        "id": "QzChMLId3C4T",
        "outputId": "a40e7041-cb8d-4ef9-a731-b7619e4415bf",
        "colab": {
          "base_uri": "https://localhost:8080/"
        }
      },
      "execution_count": 45,
      "outputs": [
        {
          "output_type": "execute_result",
          "data": {
            "text/plain": [
              "65-69    33434\n",
              "60-64    32418\n",
              "70-74    31103\n",
              "55-59    28054\n",
              "50-54    25097\n",
              "80+      22271\n",
              "40-44    21595\n",
              "45-49    20968\n",
              "75-79    20705\n",
              "35-39    20606\n",
              "18-24    18681\n",
              "30-34    18428\n",
              "25-29    15494\n",
              "Name: Age_Category, dtype: int64"
            ]
          },
          "metadata": {},
          "execution_count": 45
        }
      ]
    },
    {
      "cell_type": "markdown",
      "source": [
        " - Esse campo não vai precisar ser tratado"
      ],
      "metadata": {
        "id": "8bnNW61g3VD0"
      }
    },
    {
      "cell_type": "markdown",
      "source": [
        "## Removendo campos antigos"
      ],
      "metadata": {
        "id": "WNcfHg-523lq"
      }
    },
    {
      "cell_type": "code",
      "source": [
        "data = data.drop(columns=['Diabetes','Checkup'])"
      ],
      "metadata": {
        "id": "zciwd9UY25vu"
      },
      "execution_count": 46,
      "outputs": []
    },
    {
      "cell_type": "markdown",
      "source": [
        "## Fazendo o encoded"
      ],
      "metadata": {
        "id": "pyyXObxv4Y4U"
      }
    },
    {
      "cell_type": "code",
      "source": [
        "data.select_dtypes(include='object').columns"
      ],
      "metadata": {
        "id": "W0Tknbt05uRj",
        "outputId": "bddfe49c-cc4a-4148-f5b7-839f6e65f010",
        "colab": {
          "base_uri": "https://localhost:8080/"
        }
      },
      "execution_count": 47,
      "outputs": [
        {
          "output_type": "execute_result",
          "data": {
            "text/plain": [
              "Index(['General_Health', 'Age_Category', 'last_Checkup_years', 'diabetes?'], dtype='object')"
            ]
          },
          "metadata": {},
          "execution_count": 47
        }
      ]
    },
    {
      "cell_type": "code",
      "source": [
        "# Get one hot encoding of columns\n",
        "one_hot = pd.get_dummies(data[['General_Health','Age_Category','last_Checkup_years', 'diabetes?']])\n",
        "# Drop columns as it is now encoded\n",
        "data = data.drop(['General_Health', 'Age_Category','last_Checkup_years', 'diabetes?'],axis = 1)\n",
        "# Join the encoded df\n",
        "df = data.join(one_hot)"
      ],
      "metadata": {
        "id": "0nhP1cYs4Xvj"
      },
      "execution_count": 48,
      "outputs": []
    },
    {
      "cell_type": "code",
      "source": [
        "df.info()"
      ],
      "metadata": {
        "id": "9AfTD3lp56rz",
        "outputId": "eeb85d05-6c1e-4b14-902d-44565c0c6f34",
        "colab": {
          "base_uri": "https://localhost:8080/"
        }
      },
      "execution_count": 49,
      "outputs": [
        {
          "output_type": "stream",
          "name": "stdout",
          "text": [
            "<class 'pandas.core.frame.DataFrame'>\n",
            "RangeIndex: 308854 entries, 0 to 308853\n",
            "Data columns (total 42 columns):\n",
            " #   Column                               Non-Null Count   Dtype  \n",
            "---  ------                               --------------   -----  \n",
            " 0   Exercise                             308854 non-null  int64  \n",
            " 1   Heart_Disease                        308854 non-null  int64  \n",
            " 2   Skin_Cancer                          308854 non-null  int64  \n",
            " 3   Other_Cancer                         308854 non-null  int64  \n",
            " 4   Depression                           308854 non-null  int64  \n",
            " 5   Arthritis                            308854 non-null  int64  \n",
            " 6   Sex                                  308854 non-null  int64  \n",
            " 7   Height_(cm)                          308854 non-null  float64\n",
            " 8   Weight_(kg)                          308854 non-null  float64\n",
            " 9   BMI                                  308854 non-null  float64\n",
            " 10  Smoking_History                      308854 non-null  int64  \n",
            " 11  Alcohol_Consumption                  308854 non-null  float64\n",
            " 12  Fruit_Consumption                    308854 non-null  float64\n",
            " 13  Green_Vegetables_Consumption         308854 non-null  float64\n",
            " 14  FriedPotato_Consumption              308854 non-null  float64\n",
            " 15  General_Health_Excellent             308854 non-null  uint8  \n",
            " 16  General_Health_Fair                  308854 non-null  uint8  \n",
            " 17  General_Health_Good                  308854 non-null  uint8  \n",
            " 18  General_Health_Poor                  308854 non-null  uint8  \n",
            " 19  General_Health_Very Good             308854 non-null  uint8  \n",
            " 20  Age_Category_18-24                   308854 non-null  uint8  \n",
            " 21  Age_Category_25-29                   308854 non-null  uint8  \n",
            " 22  Age_Category_30-34                   308854 non-null  uint8  \n",
            " 23  Age_Category_35-39                   308854 non-null  uint8  \n",
            " 24  Age_Category_40-44                   308854 non-null  uint8  \n",
            " 25  Age_Category_45-49                   308854 non-null  uint8  \n",
            " 26  Age_Category_50-54                   308854 non-null  uint8  \n",
            " 27  Age_Category_55-59                   308854 non-null  uint8  \n",
            " 28  Age_Category_60-64                   308854 non-null  uint8  \n",
            " 29  Age_Category_65-69                   308854 non-null  uint8  \n",
            " 30  Age_Category_70-74                   308854 non-null  uint8  \n",
            " 31  Age_Category_75-79                   308854 non-null  uint8  \n",
            " 32  Age_Category_80+                     308854 non-null  uint8  \n",
            " 33  last_Checkup_years_<1                308854 non-null  uint8  \n",
            " 34  last_Checkup_years_<2                308854 non-null  uint8  \n",
            " 35  last_Checkup_years_<5                308854 non-null  uint8  \n",
            " 36  last_Checkup_years_>5                308854 non-null  uint8  \n",
            " 37  last_Checkup_years_Never             308854 non-null  uint8  \n",
            " 38  diabetes?_No                         308854 non-null  uint8  \n",
            " 39  diabetes?_Pre_diabetes_boderline     308854 non-null  uint8  \n",
            " 40  diabetes?_Yes                        308854 non-null  uint8  \n",
            " 41  diabetes?_Yes_scovered_in_pregnancy  308854 non-null  uint8  \n",
            "dtypes: float64(7), int64(8), uint8(27)\n",
            "memory usage: 43.3 MB\n"
          ]
        }
      ]
    },
    {
      "cell_type": "markdown",
      "metadata": {
        "id": "rl2SqLuBpOiO"
      },
      "source": [
        "## Balanceamento"
      ]
    },
    {
      "cell_type": "code",
      "source": [
        "df.info()"
      ],
      "metadata": {
        "colab": {
          "base_uri": "https://localhost:8080/"
        },
        "id": "j-Huj68br-Ap",
        "outputId": "565ca357-e63f-443d-e61a-33308977f897"
      },
      "execution_count": 50,
      "outputs": [
        {
          "output_type": "stream",
          "name": "stdout",
          "text": [
            "<class 'pandas.core.frame.DataFrame'>\n",
            "RangeIndex: 308854 entries, 0 to 308853\n",
            "Data columns (total 42 columns):\n",
            " #   Column                               Non-Null Count   Dtype  \n",
            "---  ------                               --------------   -----  \n",
            " 0   Exercise                             308854 non-null  int64  \n",
            " 1   Heart_Disease                        308854 non-null  int64  \n",
            " 2   Skin_Cancer                          308854 non-null  int64  \n",
            " 3   Other_Cancer                         308854 non-null  int64  \n",
            " 4   Depression                           308854 non-null  int64  \n",
            " 5   Arthritis                            308854 non-null  int64  \n",
            " 6   Sex                                  308854 non-null  int64  \n",
            " 7   Height_(cm)                          308854 non-null  float64\n",
            " 8   Weight_(kg)                          308854 non-null  float64\n",
            " 9   BMI                                  308854 non-null  float64\n",
            " 10  Smoking_History                      308854 non-null  int64  \n",
            " 11  Alcohol_Consumption                  308854 non-null  float64\n",
            " 12  Fruit_Consumption                    308854 non-null  float64\n",
            " 13  Green_Vegetables_Consumption         308854 non-null  float64\n",
            " 14  FriedPotato_Consumption              308854 non-null  float64\n",
            " 15  General_Health_Excellent             308854 non-null  uint8  \n",
            " 16  General_Health_Fair                  308854 non-null  uint8  \n",
            " 17  General_Health_Good                  308854 non-null  uint8  \n",
            " 18  General_Health_Poor                  308854 non-null  uint8  \n",
            " 19  General_Health_Very Good             308854 non-null  uint8  \n",
            " 20  Age_Category_18-24                   308854 non-null  uint8  \n",
            " 21  Age_Category_25-29                   308854 non-null  uint8  \n",
            " 22  Age_Category_30-34                   308854 non-null  uint8  \n",
            " 23  Age_Category_35-39                   308854 non-null  uint8  \n",
            " 24  Age_Category_40-44                   308854 non-null  uint8  \n",
            " 25  Age_Category_45-49                   308854 non-null  uint8  \n",
            " 26  Age_Category_50-54                   308854 non-null  uint8  \n",
            " 27  Age_Category_55-59                   308854 non-null  uint8  \n",
            " 28  Age_Category_60-64                   308854 non-null  uint8  \n",
            " 29  Age_Category_65-69                   308854 non-null  uint8  \n",
            " 30  Age_Category_70-74                   308854 non-null  uint8  \n",
            " 31  Age_Category_75-79                   308854 non-null  uint8  \n",
            " 32  Age_Category_80+                     308854 non-null  uint8  \n",
            " 33  last_Checkup_years_<1                308854 non-null  uint8  \n",
            " 34  last_Checkup_years_<2                308854 non-null  uint8  \n",
            " 35  last_Checkup_years_<5                308854 non-null  uint8  \n",
            " 36  last_Checkup_years_>5                308854 non-null  uint8  \n",
            " 37  last_Checkup_years_Never             308854 non-null  uint8  \n",
            " 38  diabetes?_No                         308854 non-null  uint8  \n",
            " 39  diabetes?_Pre_diabetes_boderline     308854 non-null  uint8  \n",
            " 40  diabetes?_Yes                        308854 non-null  uint8  \n",
            " 41  diabetes?_Yes_scovered_in_pregnancy  308854 non-null  uint8  \n",
            "dtypes: float64(7), int64(8), uint8(27)\n",
            "memory usage: 43.3 MB\n"
          ]
        }
      ]
    },
    {
      "cell_type": "code",
      "execution_count": 55,
      "metadata": {
        "colab": {
          "base_uri": "https://localhost:8080/"
        },
        "id": "rtFoxwrrpOiP",
        "outputId": "a9a37463-559e-45eb-e555-d438379be411"
      },
      "outputs": [
        {
          "output_type": "stream",
          "name": "stdout",
          "text": [
            "Contagem de classes antes do balanceamento: Counter({0: 227109, 1: 19974})\n",
            "Contagem de classes após o balanceamento: Counter({0: 227109, 1: 227109})\n"
          ]
        }
      ],
      "source": [
        "# Dividir os dados em features (X) e target (y)\n",
        "X = df.drop('Heart_Disease', axis=1)\n",
        "y = df['Heart_Disease']\n",
        "\n",
        "# Dividir o conjunto de dados em treinamento e teste\n",
        "X_train, X_test, y_train, y_test = train_test_split(X, y, test_size=0.2, random_state=42)\n",
        "\n",
        "# Mostrar contagem de classes antes do balanceamento\n",
        "print(\"Contagem de classes antes do balanceamento:\", Counter(y_train))\n",
        "\n",
        "# Aplicar oversampling para equilibrar as classes\n",
        "oversampler = RandomOverSampler(sampling_strategy='auto', random_state=42)\n",
        "X_resampled, y_resampled = oversampler.fit_resample(X_train, y_train)\n",
        "\n",
        "# Mostrar contagem de classes após o balanceamento\n",
        "print(\"Contagem de classes após o balanceamento:\", Counter(y_resampled))"
      ]
    },
    {
      "cell_type": "code",
      "execution_count": 56,
      "metadata": {
        "id": "6T68iW-_pOiR"
      },
      "outputs": [],
      "source": [
        "# Dividir o conjunto de dados em treinamento e teste\n",
        "X_train_r, X_test_r, y_train_r, y_test_r = train_test_split(X_resampled, y_resampled, test_size=0.2, random_state=42)"
      ]
    },
    {
      "cell_type": "markdown",
      "source": [
        "- Salvar os arquivos de resemple gerados para fazer um teste com os modelos"
      ],
      "metadata": {
        "id": "nf3Y5FHUyRAA"
      }
    },
    {
      "cell_type": "code",
      "execution_count": 57,
      "metadata": {
        "id": "57JomjerpOiS"
      },
      "outputs": [],
      "source": [
        "X_train_r.to_csv('dataset/X_train_r_cdr.csv',sep=';')\n",
        "X_test_r.to_csv('dataset/X_test_r_cdr.csv',sep=';')\n",
        "y_train_r.to_csv('dataset/y_train_r_cdr.csv',sep=';')\n",
        "y_test_r.to_csv('dataset/y_teste_r_cdr.csv',sep=';')"
      ]
    },
    {
      "cell_type": "markdown",
      "source": [
        "## Sem Balanceamento"
      ],
      "metadata": {
        "id": "L-cQmBYk8Qx5"
      }
    },
    {
      "cell_type": "code",
      "source": [
        "# Dividir os dados em features (X) e target (y)\n",
        "X = df.drop('Heart_Disease', axis=1)\n",
        "y = df['Heart_Disease']\n",
        "\n",
        "# Dividir o conjunto de dados em treinamento e teste\n",
        "X_train, X_test, y_train, y_test = train_test_split(X, y, test_size=0.2, random_state=42)"
      ],
      "metadata": {
        "id": "Y-oV-1yE8UYh"
      },
      "execution_count": 58,
      "outputs": []
    },
    {
      "cell_type": "code",
      "source": [
        "X_train.to_csv('dataset/X_train_cdr.csv',sep=';')\n",
        "X_test.to_csv('dataset/X_test_cdr.csv',sep=';')\n",
        "y_train.to_csv('dataset/y_train_cdr.csv',sep=';')\n",
        "y_test.to_csv('dataset/y_teste_cdr.csv',sep=';')"
      ],
      "metadata": {
        "id": "7LQ01_Wm8dJF"
      },
      "execution_count": 59,
      "outputs": []
    },
    {
      "cell_type": "code",
      "source": [],
      "metadata": {
        "id": "ZQiMTzDw896D"
      },
      "execution_count": null,
      "outputs": []
    }
  ],
  "metadata": {
    "language_info": {
      "name": "python"
    },
    "orig_nbformat": 4,
    "colab": {
      "provenance": [],
      "include_colab_link": true
    },
    "kernelspec": {
      "name": "python3",
      "display_name": "Python 3"
    }
  },
  "nbformat": 4,
  "nbformat_minor": 0
}