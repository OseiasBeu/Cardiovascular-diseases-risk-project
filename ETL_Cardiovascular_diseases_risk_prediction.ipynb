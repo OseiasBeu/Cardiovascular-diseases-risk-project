{
  "cells": [
    {
      "cell_type": "markdown",
      "metadata": {
        "id": "view-in-github",
        "colab_type": "text"
      },
      "source": [
        "<a href=\"https://colab.research.google.com/github/OseiasBeu/Cardiovascular-diseases-risk-project/blob/main/ETL_Cardiovascular_diseases_risk_prediction.ipynb\" target=\"_parent\"><img src=\"https://colab.research.google.com/assets/colab-badge.svg\" alt=\"Open In Colab\"/></a>"
      ]
    },
    {
      "cell_type": "markdown",
      "metadata": {
        "id": "Cjr_kfbSpOiI"
      },
      "source": [
        "# Feature Engineering"
      ]
    },
    {
      "cell_type": "markdown",
      "metadata": {
        "id": "ttzYJjfFpOiM"
      },
      "source": [
        "- Fazer o balanceamento dos dados\n",
        "- Fazer o Encoded\n",
        "- Separação em X e y\n",
        "- Separação de Datasets para treino e para teste"
      ]
    },
    {
      "cell_type": "code",
      "source": [
        "import pandas as pd\n",
        "from collections import Counter\n",
        "from imblearn.over_sampling import RandomOverSampler\n",
        "from sklearn.model_selection import train_test_split\n",
        "import requests\n",
        "import zipfile\n",
        "import io\n",
        "import os"
      ],
      "metadata": {
        "id": "Za3lYOfEruOB"
      },
      "execution_count": 8,
      "outputs": []
    },
    {
      "cell_type": "code",
      "source": [
        "# URL do arquivo ZIP\n",
        "url = \"https://github.com/OseiasBeu/Cardiovascular-diseases-risk-project/raw/main/dataset.zip\"\n",
        "\n",
        "# Diretório onde deseja extrair o conteúdo do arquivo zip\n",
        "diretorio_destino = '/content/dataset/'\n",
        "\n",
        "# Faz o download do arquivo ZIP\n",
        "response = requests.get(url)\n",
        "zip_file = io.BytesIO(response.content)\n",
        "\n",
        "# Verifica se o diretório de destino existe, senão cria\n",
        "if not os.path.exists(diretorio_destino):\n",
        "    os.makedirs(diretorio_destino)\n",
        "\n",
        "# Descompacta o arquivo zip\n",
        "with zipfile.ZipFile(zip_file, 'r') as zip_ref:\n",
        "    zip_ref.extractall(diretorio_destino)\n",
        "\n"
      ],
      "metadata": {
        "id": "GD9htoMvqMzQ"
      },
      "execution_count": 7,
      "outputs": []
    },
    {
      "cell_type": "markdown",
      "metadata": {
        "id": "rl2SqLuBpOiO"
      },
      "source": [
        "## Balanceamento"
      ]
    },
    {
      "cell_type": "code",
      "source": [
        "data = pd.read_csv('/content/dataset/dataset/CVD_cleaned.csv')"
      ],
      "metadata": {
        "id": "RbdmNUB4rp72"
      },
      "execution_count": 9,
      "outputs": []
    },
    {
      "cell_type": "code",
      "source": [
        "data.info()"
      ],
      "metadata": {
        "colab": {
          "base_uri": "https://localhost:8080/"
        },
        "id": "j-Huj68br-Ap",
        "outputId": "61f0df7d-9ff2-4310-a157-cf9a2951259e"
      },
      "execution_count": 10,
      "outputs": [
        {
          "output_type": "stream",
          "name": "stdout",
          "text": [
            "<class 'pandas.core.frame.DataFrame'>\n",
            "RangeIndex: 308854 entries, 0 to 308853\n",
            "Data columns (total 19 columns):\n",
            " #   Column                        Non-Null Count   Dtype  \n",
            "---  ------                        --------------   -----  \n",
            " 0   General_Health                308854 non-null  object \n",
            " 1   Checkup                       308854 non-null  object \n",
            " 2   Exercise                      308854 non-null  object \n",
            " 3   Heart_Disease                 308854 non-null  object \n",
            " 4   Skin_Cancer                   308854 non-null  object \n",
            " 5   Other_Cancer                  308854 non-null  object \n",
            " 6   Depression                    308854 non-null  object \n",
            " 7   Diabetes                      308854 non-null  object \n",
            " 8   Arthritis                     308854 non-null  object \n",
            " 9   Sex                           308854 non-null  object \n",
            " 10  Age_Category                  308854 non-null  object \n",
            " 11  Height_(cm)                   308854 non-null  float64\n",
            " 12  Weight_(kg)                   308854 non-null  float64\n",
            " 13  BMI                           308854 non-null  float64\n",
            " 14  Smoking_History               308854 non-null  object \n",
            " 15  Alcohol_Consumption           308854 non-null  float64\n",
            " 16  Fruit_Consumption             308854 non-null  float64\n",
            " 17  Green_Vegetables_Consumption  308854 non-null  float64\n",
            " 18  FriedPotato_Consumption       308854 non-null  float64\n",
            "dtypes: float64(7), object(12)\n",
            "memory usage: 44.8+ MB\n"
          ]
        }
      ]
    },
    {
      "cell_type": "code",
      "execution_count": 11,
      "metadata": {
        "colab": {
          "base_uri": "https://localhost:8080/"
        },
        "id": "rtFoxwrrpOiP",
        "outputId": "a6cef3b7-a179-4c8b-f4c6-1cea0b7c062d"
      },
      "outputs": [
        {
          "output_type": "stream",
          "name": "stdout",
          "text": [
            "Contagem de classes antes do balanceamento: Counter({'No': 227109, 'Yes': 19974})\n",
            "Contagem de classes após o balanceamento: Counter({'No': 227109, 'Yes': 227109})\n"
          ]
        }
      ],
      "source": [
        "# Dividir os dados em features (X) e target (y)\n",
        "X = data.drop('Heart_Disease', axis=1)\n",
        "y = data['Heart_Disease']\n",
        "\n",
        "# Dividir o conjunto de dados em treinamento e teste\n",
        "X_train, X_test, y_train, y_test = train_test_split(X, y, test_size=0.2, random_state=42)\n",
        "\n",
        "# Mostrar contagem de classes antes do balanceamento\n",
        "print(\"Contagem de classes antes do balanceamento:\", Counter(y_train))\n",
        "\n",
        "# Aplicar oversampling para equilibrar as classes\n",
        "oversampler = RandomOverSampler(sampling_strategy='auto', random_state=42)\n",
        "X_resampled, y_resampled = oversampler.fit_resample(X_train, y_train)\n",
        "\n",
        "# Mostrar contagem de classes após o balanceamento\n",
        "print(\"Contagem de classes após o balanceamento:\", Counter(y_resampled))"
      ]
    },
    {
      "cell_type": "code",
      "execution_count": 12,
      "metadata": {
        "id": "6T68iW-_pOiR"
      },
      "outputs": [],
      "source": [
        "# Dividir o conjunto de dados em treinamento e teste\n",
        "X_train_r, X_test_r, y_train_r, y_test_r = train_test_split(X_resampled, y_resampled, test_size=0.2, random_state=42)"
      ]
    },
    {
      "cell_type": "markdown",
      "source": [
        "- Salvar os arquivos de resemple gerados para fazer um teste com os modelos"
      ],
      "metadata": {
        "id": "nf3Y5FHUyRAA"
      }
    },
    {
      "cell_type": "code",
      "execution_count": null,
      "metadata": {
        "id": "57JomjerpOiS"
      },
      "outputs": [],
      "source": [
        "df_CVD['Heart_Disease'].value_counts()"
      ]
    },
    {
      "cell_type": "code",
      "execution_count": null,
      "metadata": {
        "id": "Z5BtQM8IpOiS"
      },
      "outputs": [],
      "source": []
    }
  ],
  "metadata": {
    "language_info": {
      "name": "python"
    },
    "orig_nbformat": 4,
    "colab": {
      "provenance": [],
      "include_colab_link": true
    },
    "kernelspec": {
      "name": "python3",
      "display_name": "Python 3"
    }
  },
  "nbformat": 4,
  "nbformat_minor": 0
}