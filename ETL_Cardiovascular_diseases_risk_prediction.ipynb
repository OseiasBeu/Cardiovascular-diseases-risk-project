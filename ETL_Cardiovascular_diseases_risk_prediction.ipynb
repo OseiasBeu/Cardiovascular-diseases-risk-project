{
  "cells": [
    {
      "cell_type": "markdown",
      "metadata": {
        "id": "view-in-github",
        "colab_type": "text"
      },
      "source": [
        "<a href=\"https://colab.research.google.com/github/OseiasBeu/Cardiovascular-diseases-risk-project/blob/main/ETL_Cardiovascular_diseases_risk_prediction.ipynb\" target=\"_parent\"><img src=\"https://colab.research.google.com/assets/colab-badge.svg\" alt=\"Open In Colab\"/></a>"
      ]
    },
    {
      "cell_type": "markdown",
      "metadata": {
        "id": "Cjr_kfbSpOiI"
      },
      "source": [
        "# Feature Engineering"
      ]
    },
    {
      "cell_type": "markdown",
      "metadata": {
        "id": "ttzYJjfFpOiM"
      },
      "source": [
        "- Fazer o balanceamento dos dados\n",
        "- Fazer o Encoded\n",
        "- Separação em X e y\n",
        "- Separação de Datasets para treino e para teste"
      ]
    },
    {
      "cell_type": "code",
      "source": [
        "import pandas as pd\n",
        "from collections import Counter\n",
        "from imblearn.over_sampling import RandomOverSampler\n",
        "from sklearn.model_selection import train_test_split\n",
        "import requests\n",
        "import zipfile\n",
        "import io\n",
        "import os\n",
        "import numpy as np\n"
      ],
      "metadata": {
        "id": "Za3lYOfEruOB"
      },
      "execution_count": 14,
      "outputs": []
    },
    {
      "cell_type": "code",
      "source": [
        "# URL do arquivo ZIP\n",
        "url = \"https://github.com/OseiasBeu/Cardiovascular-diseases-risk-project/raw/main/dataset.zip\"\n",
        "\n",
        "# Diretório onde deseja extrair o conteúdo do arquivo zip\n",
        "diretorio_destino = '/content/dataset/'\n",
        "\n",
        "# Faz o download do arquivo ZIP\n",
        "response = requests.get(url)\n",
        "zip_file = io.BytesIO(response.content)\n",
        "\n",
        "# Verifica se o diretório de destino existe, senão cria\n",
        "if not os.path.exists(diretorio_destino):\n",
        "    os.makedirs(diretorio_destino)\n",
        "\n",
        "# Descompacta o arquivo zip\n",
        "with zipfile.ZipFile(zip_file, 'r') as zip_ref:\n",
        "    zip_ref.extractall(diretorio_destino)\n",
        "\n"
      ],
      "metadata": {
        "id": "GD9htoMvqMzQ"
      },
      "execution_count": 2,
      "outputs": []
    },
    {
      "cell_type": "code",
      "source": [
        "data = pd.read_csv('/content/dataset/dataset/CVD_cleaned.csv')"
      ],
      "metadata": {
        "id": "RbdmNUB4rp72"
      },
      "execution_count": 93,
      "outputs": []
    },
    {
      "cell_type": "markdown",
      "source": [
        "## Encoded"
      ],
      "metadata": {
        "id": "MNBnnuDzLEEV"
      }
    },
    {
      "cell_type": "code",
      "source": [
        "data.info()"
      ],
      "metadata": {
        "colab": {
          "base_uri": "https://localhost:8080/"
        },
        "id": "CepiyEASLQ3r",
        "outputId": "d0ad950c-ec01-4a25-edb1-6be0d9d6f4e4"
      },
      "execution_count": 94,
      "outputs": [
        {
          "output_type": "stream",
          "name": "stdout",
          "text": [
            "<class 'pandas.core.frame.DataFrame'>\n",
            "RangeIndex: 308854 entries, 0 to 308853\n",
            "Data columns (total 19 columns):\n",
            " #   Column                        Non-Null Count   Dtype  \n",
            "---  ------                        --------------   -----  \n",
            " 0   General_Health                308854 non-null  object \n",
            " 1   Checkup                       308854 non-null  object \n",
            " 2   Exercise                      308854 non-null  object \n",
            " 3   Heart_Disease                 308854 non-null  object \n",
            " 4   Skin_Cancer                   308854 non-null  object \n",
            " 5   Other_Cancer                  308854 non-null  object \n",
            " 6   Depression                    308854 non-null  object \n",
            " 7   Diabetes                      308854 non-null  object \n",
            " 8   Arthritis                     308854 non-null  object \n",
            " 9   Sex                           308854 non-null  object \n",
            " 10  Age_Category                  308854 non-null  object \n",
            " 11  Height_(cm)                   308854 non-null  float64\n",
            " 12  Weight_(kg)                   308854 non-null  float64\n",
            " 13  BMI                           308854 non-null  float64\n",
            " 14  Smoking_History               308854 non-null  object \n",
            " 15  Alcohol_Consumption           308854 non-null  float64\n",
            " 16  Fruit_Consumption             308854 non-null  float64\n",
            " 17  Green_Vegetables_Consumption  308854 non-null  float64\n",
            " 18  FriedPotato_Consumption       308854 non-null  float64\n",
            "dtypes: float64(7), object(12)\n",
            "memory usage: 44.8+ MB\n"
          ]
        }
      ]
    },
    {
      "cell_type": "code",
      "source": [
        "data.select_dtypes(include='object').info()"
      ],
      "metadata": {
        "colab": {
          "base_uri": "https://localhost:8080/"
        },
        "id": "X6tnwUqQLJ-J",
        "outputId": "9f18be8c-c4aa-4162-8be1-1c9f11f0584e"
      },
      "execution_count": 95,
      "outputs": [
        {
          "output_type": "stream",
          "name": "stdout",
          "text": [
            "<class 'pandas.core.frame.DataFrame'>\n",
            "RangeIndex: 308854 entries, 0 to 308853\n",
            "Data columns (total 12 columns):\n",
            " #   Column           Non-Null Count   Dtype \n",
            "---  ------           --------------   ----- \n",
            " 0   General_Health   308854 non-null  object\n",
            " 1   Checkup          308854 non-null  object\n",
            " 2   Exercise         308854 non-null  object\n",
            " 3   Heart_Disease    308854 non-null  object\n",
            " 4   Skin_Cancer      308854 non-null  object\n",
            " 5   Other_Cancer     308854 non-null  object\n",
            " 6   Depression       308854 non-null  object\n",
            " 7   Diabetes         308854 non-null  object\n",
            " 8   Arthritis        308854 non-null  object\n",
            " 9   Sex              308854 non-null  object\n",
            " 10  Age_Category     308854 non-null  object\n",
            " 11  Smoking_History  308854 non-null  object\n",
            "dtypes: object(12)\n",
            "memory usage: 28.3+ MB\n"
          ]
        }
      ]
    },
    {
      "cell_type": "code",
      "source": [
        "data.Heart_Disease.value_counts()"
      ],
      "metadata": {
        "colab": {
          "base_uri": "https://localhost:8080/"
        },
        "id": "kLWAl8XgLJ6n",
        "outputId": "8f926c85-2cfc-43d7-84ad-669de87b4697"
      },
      "execution_count": 96,
      "outputs": [
        {
          "output_type": "execute_result",
          "data": {
            "text/plain": [
              "No     283883\n",
              "Yes     24971\n",
              "Name: Heart_Disease, dtype: int64"
            ]
          },
          "metadata": {},
          "execution_count": 96
        }
      ]
    },
    {
      "cell_type": "code",
      "source": [
        "categorical_data = data.select_dtypes(include='object')\n",
        "categorical_column_names = list(data.columns)\n",
        "arr = []\n",
        "\n",
        "print(f'Lista de variáveis categóricas: {list(categorical_data)}')\n",
        "print(f'Número de variáveis categóricas: {len(list(categorical_data))}')\n",
        "print()\n",
        "print()\n",
        "print('-----------------------------------------------------------------------')\n",
        "\n",
        "for col in categorical_data:\n",
        "    print(f'{col} Valores distintos: {list(categorical_data[col].unique())}')\n",
        "    print(f'{col} tem {len(list(categorical_data[col].unique()))} valores únicos')\n",
        "    if len(list(categorical_data[col].unique())) == 2:\n",
        "      arr.append(col)\n",
        "    print()\n",
        "    print()\n",
        "print(arr)\n",
        "for col in arr:\n",
        "    print(f'{col} Valores distintos: {list(categorical_data[col].unique())}')\n",
        "    print(f'{col} tem {len(list(categorical_data[col].unique()))} valores únicos')\n",
        "    print()\n",
        "    print()"
      ],
      "metadata": {
        "colab": {
          "base_uri": "https://localhost:8080/"
        },
        "id": "85OMc1s5WPlH",
        "outputId": "61db7021-4220-402e-c686-2dedfc751a5e"
      },
      "execution_count": 99,
      "outputs": [
        {
          "output_type": "stream",
          "name": "stdout",
          "text": [
            "Lista de variáveis categóricas: ['General_Health', 'Checkup', 'Exercise', 'Heart_Disease', 'Skin_Cancer', 'Other_Cancer', 'Depression', 'Diabetes', 'Arthritis', 'Sex', 'Age_Category', 'Smoking_History']\n",
            "Número de variáveis categóricas: 12\n",
            "\n",
            "\n",
            "-----------------------------------------------------------------------\n",
            "General_Health Valores distintos: ['Poor', 'Very Good', 'Good', 'Fair', 'Excellent']\n",
            "General_Health tem 5 valores únicos\n",
            "\n",
            "\n",
            "Checkup Valores distintos: ['Within the past 2 years', 'Within the past year', '5 or more years ago', 'Within the past 5 years', 'Never']\n",
            "Checkup tem 5 valores únicos\n",
            "\n",
            "\n",
            "Exercise Valores distintos: ['No', 'Yes']\n",
            "Exercise tem 2 valores únicos\n",
            "\n",
            "\n",
            "Heart_Disease Valores distintos: ['No', 'Yes']\n",
            "Heart_Disease tem 2 valores únicos\n",
            "\n",
            "\n",
            "Skin_Cancer Valores distintos: ['No', 'Yes']\n",
            "Skin_Cancer tem 2 valores únicos\n",
            "\n",
            "\n",
            "Other_Cancer Valores distintos: ['No', 'Yes']\n",
            "Other_Cancer tem 2 valores únicos\n",
            "\n",
            "\n",
            "Depression Valores distintos: ['No', 'Yes']\n",
            "Depression tem 2 valores únicos\n",
            "\n",
            "\n",
            "Diabetes Valores distintos: ['No', 'Yes', 'No, pre-diabetes or borderline diabetes', 'Yes, but female told only during pregnancy']\n",
            "Diabetes tem 4 valores únicos\n",
            "\n",
            "\n",
            "Arthritis Valores distintos: ['Yes', 'No']\n",
            "Arthritis tem 2 valores únicos\n",
            "\n",
            "\n",
            "Sex Valores distintos: ['Female', 'Male']\n",
            "Sex tem 2 valores únicos\n",
            "\n",
            "\n",
            "Age_Category Valores distintos: ['70-74', '60-64', '75-79', '80+', '65-69', '50-54', '45-49', '18-24', '30-34', '55-59', '35-39', '40-44', '25-29']\n",
            "Age_Category tem 13 valores únicos\n",
            "\n",
            "\n",
            "Smoking_History Valores distintos: ['Yes', 'No']\n",
            "Smoking_History tem 2 valores únicos\n",
            "\n",
            "\n",
            "['Exercise', 'Heart_Disease', 'Skin_Cancer', 'Other_Cancer', 'Depression', 'Arthritis', 'Sex', 'Smoking_History']\n",
            "Exercise Valores distintos: ['No', 'Yes']\n",
            "Exercise tem 2 valores únicos\n",
            "\n",
            "\n",
            "Heart_Disease Valores distintos: ['No', 'Yes']\n",
            "Heart_Disease tem 2 valores únicos\n",
            "\n",
            "\n",
            "Skin_Cancer Valores distintos: ['No', 'Yes']\n",
            "Skin_Cancer tem 2 valores únicos\n",
            "\n",
            "\n",
            "Other_Cancer Valores distintos: ['No', 'Yes']\n",
            "Other_Cancer tem 2 valores únicos\n",
            "\n",
            "\n",
            "Depression Valores distintos: ['No', 'Yes']\n",
            "Depression tem 2 valores únicos\n",
            "\n",
            "\n",
            "Arthritis Valores distintos: ['Yes', 'No']\n",
            "Arthritis tem 2 valores únicos\n",
            "\n",
            "\n",
            "Sex Valores distintos: ['Female', 'Male']\n",
            "Sex tem 2 valores únicos\n",
            "\n",
            "\n",
            "Smoking_History Valores distintos: ['Yes', 'No']\n",
            "Smoking_History tem 2 valores únicos\n",
            "\n",
            "\n"
          ]
        }
      ]
    },
    {
      "cell_type": "code",
      "source": [
        "mapper_hd = {\n",
        "    'No':0,\n",
        "    'Yes':1,\n",
        "    np.nan: 1\n",
        "}\n",
        "\n",
        "mapper_sex = {\n",
        "    'Female':0,\n",
        "    'Male':1,\n",
        "    np.nan: 1\n",
        "}\n"
      ],
      "metadata": {
        "id": "a8YrR15IVTk1"
      },
      "execution_count": 100,
      "outputs": []
    },
    {
      "cell_type": "code",
      "source": [
        "data['Heart_Disease'] = data['Heart_Disease'].map(mapper_hd,na_action=None)\n",
        "data['Sex'] = data['Sex'].map(mapper_sex,na_action=None)\n",
        "data['Exercise'] = data['Exercise'].map(mapper_hd,na_action=None)\n",
        "data['Skin_Cancer'] = data['Skin_Cancer'].map(mapper_hd,na_action=None)\n",
        "data['Other_Cancer'] = data['Other_Cancer'].map(mapper_hd,na_action=None)\n",
        "data['Depression'] = data['Depression'].map(mapper_hd,na_action=None)\n",
        "data['Arthritis'] = data['Arthritis'].map(mapper_hd,na_action=None)\n",
        "data['Smoking_History'] = data['Smoking_History'].map(mapper_hd,na_action=None)"
      ],
      "metadata": {
        "id": "jfsmUzhNLJwu"
      },
      "execution_count": 103,
      "outputs": []
    },
    {
      "cell_type": "code",
      "source": [
        "data.select_dtypes(include='object').info()"
      ],
      "metadata": {
        "colab": {
          "base_uri": "https://localhost:8080/"
        },
        "id": "LGWXujFhM8Mr",
        "outputId": "6a3bc174-5adb-4d57-bca5-f0f529c0e108"
      },
      "execution_count": 106,
      "outputs": [
        {
          "output_type": "stream",
          "name": "stdout",
          "text": [
            "<class 'pandas.core.frame.DataFrame'>\n",
            "RangeIndex: 308854 entries, 0 to 308853\n",
            "Data columns (total 4 columns):\n",
            " #   Column          Non-Null Count   Dtype \n",
            "---  ------          --------------   ----- \n",
            " 0   General_Health  308854 non-null  object\n",
            " 1   Checkup         308854 non-null  object\n",
            " 2   Diabetes        308854 non-null  object\n",
            " 3   Age_Category    308854 non-null  object\n",
            "dtypes: object(4)\n",
            "memory usage: 9.4+ MB\n"
          ]
        }
      ]
    },
    {
      "cell_type": "code",
      "source": [],
      "metadata": {
        "id": "94QhUbQ7P8IC"
      },
      "execution_count": 83,
      "outputs": []
    },
    {
      "cell_type": "code",
      "source": [],
      "metadata": {
        "colab": {
          "base_uri": "https://localhost:8080/",
          "height": 335
        },
        "id": "vSB1E33BOaoV",
        "outputId": "d071d794-77f4-4e5d-a332-99dd27101152"
      },
      "execution_count": 69,
      "outputs": [
        {
          "output_type": "error",
          "ename": "AttributeError",
          "evalue": "ignored",
          "traceback": [
            "\u001b[0;31m---------------------------------------------------------------------------\u001b[0m",
            "\u001b[0;31mAttributeError\u001b[0m                            Traceback (most recent call last)",
            "\u001b[0;32m<ipython-input-69-8195dc8e2bf4>\u001b[0m in \u001b[0;36m<cell line: 1>\u001b[0;34m()\u001b[0m\n\u001b[0;32m----> 1\u001b[0;31m \u001b[0mswitch_to_bool\u001b[0m\u001b[0;34m(\u001b[0m\u001b[0mdata\u001b[0m\u001b[0;34m,\u001b[0m \u001b[0mmapper\u001b[0m\u001b[0;34m)\u001b[0m\u001b[0;34m\u001b[0m\u001b[0;34m\u001b[0m\u001b[0m\n\u001b[0m",
            "\u001b[0;32m<ipython-input-67-384086455021>\u001b[0m in \u001b[0;36mswitch_to_bool\u001b[0;34m(df, mapper)\u001b[0m\n\u001b[1;32m      7\u001b[0m     }, na_action=None)\n\u001b[1;32m      8\u001b[0m \u001b[0;34m\u001b[0m\u001b[0m\n\u001b[0;32m----> 9\u001b[0;31m     \u001b[0mprint\u001b[0m\u001b[0;34m(\u001b[0m\u001b[0mdf\u001b[0m\u001b[0;34m.\u001b[0m\u001b[0mmapper\u001b[0m\u001b[0;34m[\u001b[0m\u001b[0;34m'name'\u001b[0m\u001b[0;34m]\u001b[0m\u001b[0;34m.\u001b[0m\u001b[0mvalue_counts\u001b[0m\u001b[0;34m(\u001b[0m\u001b[0;34m)\u001b[0m\u001b[0;34m)\u001b[0m\u001b[0;34m\u001b[0m\u001b[0;34m\u001b[0m\u001b[0m\n\u001b[0m",
            "\u001b[0;32m/usr/local/lib/python3.10/dist-packages/pandas/core/generic.py\u001b[0m in \u001b[0;36m__getattr__\u001b[0;34m(self, name)\u001b[0m\n\u001b[1;32m   5900\u001b[0m         ):\n\u001b[1;32m   5901\u001b[0m             \u001b[0;32mreturn\u001b[0m \u001b[0mself\u001b[0m\u001b[0;34m[\u001b[0m\u001b[0mname\u001b[0m\u001b[0;34m]\u001b[0m\u001b[0;34m\u001b[0m\u001b[0;34m\u001b[0m\u001b[0m\n\u001b[0;32m-> 5902\u001b[0;31m         \u001b[0;32mreturn\u001b[0m \u001b[0mobject\u001b[0m\u001b[0;34m.\u001b[0m\u001b[0m__getattribute__\u001b[0m\u001b[0;34m(\u001b[0m\u001b[0mself\u001b[0m\u001b[0;34m,\u001b[0m \u001b[0mname\u001b[0m\u001b[0;34m)\u001b[0m\u001b[0;34m\u001b[0m\u001b[0;34m\u001b[0m\u001b[0m\n\u001b[0m\u001b[1;32m   5903\u001b[0m \u001b[0;34m\u001b[0m\u001b[0m\n\u001b[1;32m   5904\u001b[0m     \u001b[0;32mdef\u001b[0m \u001b[0m__setattr__\u001b[0m\u001b[0;34m(\u001b[0m\u001b[0mself\u001b[0m\u001b[0;34m,\u001b[0m \u001b[0mname\u001b[0m\u001b[0;34m:\u001b[0m \u001b[0mstr\u001b[0m\u001b[0;34m,\u001b[0m \u001b[0mvalue\u001b[0m\u001b[0;34m)\u001b[0m \u001b[0;34m->\u001b[0m \u001b[0;32mNone\u001b[0m\u001b[0;34m:\u001b[0m\u001b[0;34m\u001b[0m\u001b[0;34m\u001b[0m\u001b[0m\n",
            "\u001b[0;31mAttributeError\u001b[0m: 'DataFrame' object has no attribute 'mapper'"
          ]
        }
      ]
    },
    {
      "cell_type": "code",
      "source": [],
      "metadata": {
        "colab": {
          "base_uri": "https://localhost:8080/"
        },
        "id": "IcJP1-QHSL2A",
        "outputId": "d6f03982-bbc0-44bd-a1fa-026672018777"
      },
      "execution_count": 70,
      "outputs": [
        {
          "output_type": "stream",
          "name": "stdout",
          "text": [
            "newVal1    2\n",
            "newVal2    2\n",
            "1          1\n",
            "Name: name1, dtype: int64\n"
          ]
        }
      ]
    },
    {
      "cell_type": "markdown",
      "metadata": {
        "id": "rl2SqLuBpOiO"
      },
      "source": [
        "## Balanceamento"
      ]
    },
    {
      "cell_type": "code",
      "source": [
        "data.info()"
      ],
      "metadata": {
        "colab": {
          "base_uri": "https://localhost:8080/"
        },
        "id": "j-Huj68br-Ap",
        "outputId": "31b8eb73-88d6-404a-f07d-4e7ab5af52f3"
      },
      "execution_count": 4,
      "outputs": [
        {
          "output_type": "stream",
          "name": "stdout",
          "text": [
            "<class 'pandas.core.frame.DataFrame'>\n",
            "RangeIndex: 308854 entries, 0 to 308853\n",
            "Data columns (total 19 columns):\n",
            " #   Column                        Non-Null Count   Dtype  \n",
            "---  ------                        --------------   -----  \n",
            " 0   General_Health                308854 non-null  object \n",
            " 1   Checkup                       308854 non-null  object \n",
            " 2   Exercise                      308854 non-null  object \n",
            " 3   Heart_Disease                 308854 non-null  object \n",
            " 4   Skin_Cancer                   308854 non-null  object \n",
            " 5   Other_Cancer                  308854 non-null  object \n",
            " 6   Depression                    308854 non-null  object \n",
            " 7   Diabetes                      308854 non-null  object \n",
            " 8   Arthritis                     308854 non-null  object \n",
            " 9   Sex                           308854 non-null  object \n",
            " 10  Age_Category                  308854 non-null  object \n",
            " 11  Height_(cm)                   308854 non-null  float64\n",
            " 12  Weight_(kg)                   308854 non-null  float64\n",
            " 13  BMI                           308854 non-null  float64\n",
            " 14  Smoking_History               308854 non-null  object \n",
            " 15  Alcohol_Consumption           308854 non-null  float64\n",
            " 16  Fruit_Consumption             308854 non-null  float64\n",
            " 17  Green_Vegetables_Consumption  308854 non-null  float64\n",
            " 18  FriedPotato_Consumption       308854 non-null  float64\n",
            "dtypes: float64(7), object(12)\n",
            "memory usage: 44.8+ MB\n"
          ]
        }
      ]
    },
    {
      "cell_type": "code",
      "execution_count": 5,
      "metadata": {
        "colab": {
          "base_uri": "https://localhost:8080/"
        },
        "id": "rtFoxwrrpOiP",
        "outputId": "71b46108-1aee-44fb-96eb-9d0ddfc664a4"
      },
      "outputs": [
        {
          "output_type": "stream",
          "name": "stdout",
          "text": [
            "Contagem de classes antes do balanceamento: Counter({'No': 227109, 'Yes': 19974})\n",
            "Contagem de classes após o balanceamento: Counter({'No': 227109, 'Yes': 227109})\n"
          ]
        }
      ],
      "source": [
        "# Dividir os dados em features (X) e target (y)\n",
        "X = data.drop('Heart_Disease', axis=1)\n",
        "y = data['Heart_Disease']\n",
        "\n",
        "# Dividir o conjunto de dados em treinamento e teste\n",
        "X_train, X_test, y_train, y_test = train_test_split(X, y, test_size=0.2, random_state=42)\n",
        "\n",
        "# Mostrar contagem de classes antes do balanceamento\n",
        "print(\"Contagem de classes antes do balanceamento:\", Counter(y_train))\n",
        "\n",
        "# Aplicar oversampling para equilibrar as classes\n",
        "oversampler = RandomOverSampler(sampling_strategy='auto', random_state=42)\n",
        "X_resampled, y_resampled = oversampler.fit_resample(X_train, y_train)\n",
        "\n",
        "# Mostrar contagem de classes após o balanceamento\n",
        "print(\"Contagem de classes após o balanceamento:\", Counter(y_resampled))"
      ]
    },
    {
      "cell_type": "code",
      "execution_count": 6,
      "metadata": {
        "id": "6T68iW-_pOiR"
      },
      "outputs": [],
      "source": [
        "# Dividir o conjunto de dados em treinamento e teste\n",
        "X_train_r, X_test_r, y_train_r, y_test_r = train_test_split(X_resampled, y_resampled, test_size=0.2, random_state=42)"
      ]
    },
    {
      "cell_type": "markdown",
      "source": [
        "- Salvar os arquivos de resemple gerados para fazer um teste com os modelos"
      ],
      "metadata": {
        "id": "nf3Y5FHUyRAA"
      }
    },
    {
      "cell_type": "code",
      "execution_count": 7,
      "metadata": {
        "id": "57JomjerpOiS"
      },
      "outputs": [],
      "source": [
        "X_train_r.to_csv('dataset/X_train_cdr.csv',sep=';')\n",
        "X_test_r.to_csv('dataset/X_test_cdr.csv',sep=';')\n",
        "y_train_r.to_csv('dataset/y_train_.csv',sep=';')\n",
        "y_test_r.to_csv('dataset/y_teste_r.csv',sep=';')"
      ]
    },
    {
      "cell_type": "code",
      "execution_count": null,
      "metadata": {
        "id": "Z5BtQM8IpOiS"
      },
      "outputs": [],
      "source": []
    }
  ],
  "metadata": {
    "language_info": {
      "name": "python"
    },
    "orig_nbformat": 4,
    "colab": {
      "provenance": [],
      "include_colab_link": true
    },
    "kernelspec": {
      "name": "python3",
      "display_name": "Python 3"
    }
  },
  "nbformat": 4,
  "nbformat_minor": 0
}